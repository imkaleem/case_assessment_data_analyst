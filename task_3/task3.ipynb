{
 "cells": [
  {
   "cell_type": "markdown",
   "id": "3c7080bc-25d6-4471-8969-9f2b8c3eae1c",
   "metadata": {},
   "source": [
    "### 1. Load the Data"
   ]
  },
  {
   "cell_type": "code",
   "execution_count": 19,
   "id": "582ab5b7-c45b-420c-998a-1d1652826a1e",
   "metadata": {},
   "outputs": [
    {
     "name": "stdout",
     "output_type": "stream",
     "text": [
      "  Quality/Choice  Grade               Finish  Thickness (mm)  Width (mm)  \\\n",
      "0            3rd  C200S  gebeizt und geglüht            2.77        1100   \n",
      "1            3rd  C300S            ungebeizt            2.65        1075   \n",
      "2            3rd  C100S  gebeizt und geglüht            2.20        1100   \n",
      "3            2nd  C100S              gebeizt            2.86        1100   \n",
      "4            1st  C300S            ungebeizt            2.88        1050   \n",
      "\n",
      "                          Description  Gross weight (kg)   RP02      RM  \\\n",
      "0                Längs- oder Querisse              13983  333.6   606.2   \n",
      "1                Längs- oder Querisse              13047  717.7     0.0   \n",
      "2       Kantenfehler - FS-Kantenrisse              14155  368.9     0.0   \n",
      "3                Längs- oder Querisse              11381  368.9   601.7   \n",
      "4  Sollmasse (Gewicht) unterschritten              10072    0.0  1213.0   \n",
      "\n",
      "   Quantity     AG      AI  \n",
      "0      0.00  16.11  0.0054  \n",
      "1      0.00  16.11  0.0046  \n",
      "2     10.84   0.00  0.0061  \n",
      "3     22.87   0.00  0.0062  \n",
      "4     22.87   0.00  0.0041          Material          Description  Article ID  Weight (kg)  Quantity  \\\n",
      "0           HDC    Material is Oiled    23048203        24469        52   \n",
      "1        S235JR    Material is Oiled    23040547        16984        41   \n",
      "2        S235JR  Material is Painted    23046057         9162        28   \n",
      "3  DX51D +AZ150    Material is Oiled    23041966        12119        66   \n",
      "4           HDC  Material is Painted    23043884        17260        26   \n",
      "\n",
      "       Reserved  \n",
      "0  NOT RESERVED  \n",
      "1  NOT RESERVED  \n",
      "2  NOT RESERVED  \n",
      "3       VANILLA  \n",
      "4  NOT RESERVED     Buyer ID Preferred Grade     Preferred Finish  Preferred Thickness (mm)  \\\n",
      "0   Buyer1           C100S              gebeizt                      2.25   \n",
      "1   Buyer2           C200S            ungebeizt                      2.50   \n",
      "2   Buyer3           C300S  gebeizt und geglüht                      2.75   \n",
      "\n",
      "   Preferred Width (mm)  Max Weight (kg)  Min Quantity  \n",
      "0                  1075            10000            20  \n",
      "1                  1100            12000            30  \n",
      "2                  1150            15000            40  \n"
     ]
    }
   ],
   "source": [
    "import pandas as pd\n",
    "\n",
    "# Load supplier datasets\n",
    "df_supplier1 = pd.read_excel(\"supplier_data1.xlsx\")\n",
    "df_supplier2 = pd.read_excel(\"supplier_data2.xlsx\")\n",
    "\n",
    "# Load buyer preferences dataset\n",
    "df_buyers = pd.read_excel(\"buyer_preferences.xlsx\")\n",
    "\n",
    "# Display first few rows\n",
    "print(df_supplier1.head(), df_supplier2.head(), df_buyers.head())"
   ]
  },
  {
   "cell_type": "code",
   "execution_count": 30,
   "id": "53578dc3-73ce-48d5-a839-f52835ae8aaf",
   "metadata": {},
   "outputs": [
    {
     "name": "stdout",
     "output_type": "stream",
     "text": [
      "Index(['Quality/Choice', 'Grade', 'Finish', 'Thickness (mm)', 'Width (mm)',\n",
      "       'Description', 'Gross weight (kg)', 'RP02', 'RM', 'Quantity', 'AG',\n",
      "       'AI'],\n",
      "      dtype='object') Index(['Material', 'Description', 'Article ID', 'Weight (kg)', 'Quantity',\n",
      "       'Reserved'],\n",
      "      dtype='object') Index(['Buyer ID', 'Preferred Grade', 'Preferred Finish',\n",
      "       'Preferred Thickness (mm)', 'Preferred Width (mm)', 'Max Weight (kg)',\n",
      "       'Min Quantity'],\n",
      "      dtype='object')\n"
     ]
    }
   ],
   "source": [
    "print(df_supplier1.columns, df_supplier2.columns, df_buyers.columns)"
   ]
  },
  {
   "cell_type": "code",
   "execution_count": 23,
   "id": "209e55d6-3c37-4567-b49d-775c0ecee9ee",
   "metadata": {},
   "outputs": [
    {
     "name": "stdout",
     "output_type": "stream",
     "text": [
      "Data loaded into SQLite!\n"
     ]
    }
   ],
   "source": [
    "import sqlite3\n",
    "\n",
    "# Connect to SQLite (or create a new database)\n",
    "conn = sqlite3.connect(\"database.db\")\n",
    "cursor = conn.cursor()\n",
    "\n",
    "\n",
    "# Store data in SQLite tables\n",
    "df_supplier1.to_sql(\"supplier1\", conn, if_exists=\"replace\", index=False)\n",
    "df_supplier2.to_sql(\"supplier2\", conn, if_exists=\"replace\", index=False)\n",
    "df_buyers.to_sql(\"buyers\", conn, if_exists=\"replace\", index=False)\n",
    "\n",
    "print(\"Data loaded into SQLite!\")"
   ]
  },
  {
   "cell_type": "markdown",
   "id": "a7bcd66d-7ff1-473c-8d17-08265091d01c",
   "metadata": {},
   "source": [
    "### 2. Standardize Supplier Data"
   ]
  },
  {
   "cell_type": "code",
   "execution_count": 25,
   "id": "a4b8445a-1a6d-416a-8bf4-81bc59ecf9be",
   "metadata": {},
   "outputs": [
    {
     "name": "stdout",
     "output_type": "stream",
     "text": [
      "Supplier table created successfully!\n"
     ]
    }
   ],
   "source": [
    "cursor.execute(\"DROP TABLE IF EXISTS suppliers;\")\n",
    "\n",
    "cursor.execute(\"\"\"\n",
    "    CREATE TABLE suppliers AS \n",
    "    SELECT \n",
    "        \"Quality/Choice\" AS quality,\n",
    "        Grade AS grade,\n",
    "        Finish AS finish,\n",
    "        \"Thickness (mm)\" AS thickness,\n",
    "        \"Width (mm)\" AS width,\n",
    "        \"Gross weight (kg)\" AS weight,\n",
    "        Quantity AS quantity,\n",
    "        Description AS description\n",
    "    FROM supplier1\n",
    "\n",
    "    UNION ALL\n",
    "\n",
    "    SELECT \n",
    "        NULL AS quality,  -- supplier2 has no quality column\n",
    "        Material AS grade,\n",
    "        NULL AS finish,  -- supplier2 has no finish column\n",
    "        NULL AS thickness,\n",
    "        NULL AS width,\n",
    "        \"Weight (kg)\" AS weight,\n",
    "        Quantity AS quantity,\n",
    "        Description AS description\n",
    "    FROM supplier2;\n",
    "\"\"\")\n",
    "\n",
    "conn.commit()  # Save changes\n",
    "print(\"Supplier table created successfully!\")"
   ]
  },
  {
   "cell_type": "markdown",
   "id": "25833b1e-6655-4247-93d8-73462cbb0c49",
   "metadata": {},
   "source": [
    "### 3. Clean Missing Values\n",
    "##### Delete rows where critical fields (grade, thickness, width, finish) are NULL."
   ]
  },
  {
   "cell_type": "code",
   "execution_count": 26,
   "id": "ea08e826-f4e5-4f19-962a-384d743619f0",
   "metadata": {},
   "outputs": [],
   "source": [
    "cursor.execute(\"\"\"\n",
    "    DELETE FROM suppliers \n",
    "    WHERE grade IS NULL OR thickness IS NULL OR width IS NULL;\n",
    "\"\"\")\n",
    "conn.commit()"
   ]
  },
  {
   "cell_type": "code",
   "execution_count": 32,
   "id": "05a2385b-0c92-4dd2-bdc2-34675482007a",
   "metadata": {},
   "outputs": [
    {
     "name": "stdout",
     "output_type": "stream",
     "text": [
      "[(0, 'quality', 'TEXT', 0, None, 0), (1, 'grade', 'TEXT', 0, None, 0), (2, 'finish', 'TEXT', 0, None, 0), (3, 'thickness', 'REAL', 0, None, 0), (4, 'width', 'INT', 0, None, 0), (5, 'weight', 'INT', 0, None, 0), (6, 'quantity', 'REAL', 0, None, 0), (7, 'description', 'TEXT', 0, None, 0)]\n"
     ]
    }
   ],
   "source": [
    "cursor.execute(\"PRAGMA table_info(suppliers);\")\n",
    "columns = cursor.fetchall()\n",
    "print(columns)"
   ]
  },
  {
   "cell_type": "markdown",
   "id": "9710eac8-057c-4cf7-ab64-abecf112d0c5",
   "metadata": {},
   "source": [
    "### 4. Match Buyers with Suppliers"
   ]
  },
  {
   "cell_type": "code",
   "execution_count": 34,
   "id": "31809603-2d97-4e93-9d9b-9c4f03f6a44a",
   "metadata": {},
   "outputs": [],
   "source": [
    "cursor.execute(\"\"\"\n",
    "    CREATE TABLE recommendations AS\n",
    "    SELECT \n",
    "        b.\"Buyer ID\" AS buyer_id,\n",
    "        b.\"Preferred Grade\" AS grade,\n",
    "        b.\"Preferred Finish\" AS finish,\n",
    "        b.\"Preferred Thickness (mm)\" AS thickness,\n",
    "        b.\"Preferred Width (mm)\" AS width,\n",
    "        b.\"Max Weight (kg)\" AS max_weight_kg,\n",
    "        b.\"Min Quantity\" AS min_quantity,\n",
    "        s.weight,  -- Correct column name for weight\n",
    "        s.quantity,\n",
    "        s.description\n",
    "    FROM buyers AS b\n",
    "    JOIN suppliers AS s\n",
    "    ON b.\"Preferred Grade\" = s.grade\n",
    "    AND (b.\"Preferred Finish\" = s.finish OR s.finish IS NULL)\n",
    "    AND (b.\"Preferred Thickness (mm)\" = s.thickness OR s.thickness IS NULL)\n",
    "    AND (b.\"Preferred Width (mm)\" = s.width OR s.width IS NULL)\n",
    "    WHERE s.weight <= b.\"Max Weight (kg)\"\n",
    "    AND s.quantity >= b.\"Min Quantity\";\n",
    "\"\"\")\n",
    "conn.commit()"
   ]
  },
  {
   "cell_type": "markdown",
   "id": "2ba7e8c8-8b78-465e-aef0-382f64a81a51",
   "metadata": {},
   "source": [
    "### 5. Export Results to CSV"
   ]
  },
  {
   "cell_type": "code",
   "execution_count": 35,
   "id": "0fccff33-ff74-4efa-ad03-cd1673238891",
   "metadata": {},
   "outputs": [
    {
     "name": "stdout",
     "output_type": "stream",
     "text": [
      "Recommendation table saved as CSV!\n"
     ]
    }
   ],
   "source": [
    "# Step 1: Execute SELECT query\n",
    "cursor.execute(\"SELECT * FROM recommendations;\")\n",
    "\n",
    "# Step 2: Fetch all results\n",
    "rows = cursor.fetchall()\n",
    "\n",
    "# Step 3: Convert the result into a pandas DataFrame\n",
    "columns = [column[0] for column in cursor.description]  # Get column names\n",
    "df_recommendations = pd.DataFrame(rows, columns=columns)\n",
    "\n",
    "# Step 4: Save the DataFrame to a CSV file\n",
    "df_recommendations.to_csv(\"recommendation_table.csv\", index=False)\n",
    "print(\"Recommendation table saved as CSV!\")"
   ]
  },
  {
   "cell_type": "code",
   "execution_count": 37,
   "id": "53b189a5-8bad-4161-888d-2b3f2081b929",
   "metadata": {},
   "outputs": [
    {
     "data": {
      "text/html": [
       "<div>\n",
       "<style scoped>\n",
       "    .dataframe tbody tr th:only-of-type {\n",
       "        vertical-align: middle;\n",
       "    }\n",
       "\n",
       "    .dataframe tbody tr th {\n",
       "        vertical-align: top;\n",
       "    }\n",
       "\n",
       "    .dataframe thead th {\n",
       "        text-align: right;\n",
       "    }\n",
       "</style>\n",
       "<table border=\"1\" class=\"dataframe\">\n",
       "  <thead>\n",
       "    <tr style=\"text-align: right;\">\n",
       "      <th></th>\n",
       "      <th>buyer_id</th>\n",
       "      <th>grade</th>\n",
       "      <th>finish</th>\n",
       "      <th>thickness</th>\n",
       "      <th>width</th>\n",
       "      <th>max_weight_kg</th>\n",
       "      <th>min_quantity</th>\n",
       "      <th>weight</th>\n",
       "      <th>quantity</th>\n",
       "      <th>description</th>\n",
       "    </tr>\n",
       "  </thead>\n",
       "  <tbody>\n",
       "  </tbody>\n",
       "</table>\n",
       "</div>"
      ],
      "text/plain": [
       "Empty DataFrame\n",
       "Columns: [buyer_id, grade, finish, thickness, width, max_weight_kg, min_quantity, weight, quantity, description]\n",
       "Index: []"
      ]
     },
     "execution_count": 37,
     "metadata": {},
     "output_type": "execute_result"
    }
   ],
   "source": [
    "df_recommendations.head()"
   ]
  },
  {
   "cell_type": "code",
   "execution_count": null,
   "id": "2d9258fa-9176-4c3e-9540-6ce1a5e1105e",
   "metadata": {},
   "outputs": [],
   "source": []
  }
 ],
 "metadata": {
  "kernelspec": {
   "display_name": "Python 3 (ipykernel)",
   "language": "python",
   "name": "python3"
  },
  "language_info": {
   "codemirror_mode": {
    "name": "ipython",
    "version": 3
   },
   "file_extension": ".py",
   "mimetype": "text/x-python",
   "name": "python",
   "nbconvert_exporter": "python",
   "pygments_lexer": "ipython3",
   "version": "3.11.0"
  }
 },
 "nbformat": 4,
 "nbformat_minor": 5
}
