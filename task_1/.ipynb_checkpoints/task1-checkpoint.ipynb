{
 "cells": [
  {
   "cell_type": "markdown",
   "id": "b3b37b7b-94b1-4f3a-9c49-e2b5dc5e7b85",
   "metadata": {},
   "source": [
    "# Task 1. Data Cleaning & Preparation"
   ]
  },
  {
   "cell_type": "markdown",
   "id": "b5e9d06e-9d19-444e-860b-1ae8a72e16e7",
   "metadata": {},
   "source": [
    "Importing appropriate `Python` packages."
   ]
  },
  {
   "cell_type": "code",
   "execution_count": 296,
   "id": "107774e5-68a4-49c5-817c-85c1bbe4850c",
   "metadata": {},
   "outputs": [],
   "source": [
    "import numpy as np\n",
    "import pandas as pd\n",
    "import matplotlib.pyplot as plt"
   ]
  },
  {
   "cell_type": "markdown",
   "id": "1971571e-a532-4d5f-ab5f-339a4580fb68",
   "metadata": {},
   "source": [
    "Loading the datasets"
   ]
  },
  {
   "cell_type": "code",
   "execution_count": 297,
   "id": "54fb8ecc-078f-4621-af82-8f6ceeae266c",
   "metadata": {},
   "outputs": [],
   "source": [
    "dataset1_file = \"supplier_data_1.xlsx\"\n",
    "dataset2_file = \"supplier_data_2.xlsx\"\n",
    "\n",
    "df1 = pd.read_excel(dataset1_file)\n",
    "df2 = pd.read_excel(dataset2_file)"
   ]
  },
  {
   "cell_type": "code",
   "execution_count": 298,
   "id": "4400555c-5e53-4cc0-9454-25437dfc304f",
   "metadata": {},
   "outputs": [],
   "source": [
    "df1.rename(columns={\n",
    "    'Werksgüte': 'Quality of Material',\n",
    "    'Bestellgütentext': 'Order Grade Text',\n",
    "    'Nenndicke NNN.NN mm mit Dezimalpunkt': 'Nominal Thickness (mm with decimal point)',\n",
    "    'Breite': 'Width',\n",
    "    'Länge': 'Length',\n",
    "    'Gewicht (kg)': 'Weight (kg)',\n",
    "    'Cluster': 'Cluster',\n",
    "    'Si-Gehalt': 'Silicon Content',\n",
    "    'Mn-Gehalt': 'Manganese Content',\n",
    "    'P-Gehalt': 'Phosphorus Content',\n",
    "    'S-Gehalt': 'Sulfur Content',\n",
    "    'Cr-Gehalt': 'Chromium Content',\n",
    "    'Ni-Gehalt': 'Nickel Content',\n",
    "    'Mo-Gehalt': 'Molybdenum Content',\n",
    "    'V-Gehalt': 'Vanadium Content',\n",
    "    'Cu-Gehalt': 'Copper Content',\n",
    "    'Nb-Gehalt': 'Niobium Content',\n",
    "    'Ti-Gehalt': 'Titanium Content',\n",
    "    'Al-Gehalt': 'Aluminum Content',\n",
    "    'B-Gehalt': 'Boron Content',\n",
    "    'Streckgrenze': 'Yield Strength',\n",
    "    'Zugfestigkeit': 'Tensile Strength',\n",
    "    'Dehnung': 'Elongation'\n",
    "}, inplace=True)"
   ]
  },
  {
   "cell_type": "markdown",
   "id": "503907ae-fd03-40b1-b04a-8e724c836650",
   "metadata": {},
   "source": [
    "### Data Exploration\n",
    "\n",
    "##### supplier_data_1.xlsx"
   ]
  },
  {
   "cell_type": "code",
   "execution_count": 299,
   "id": "71116288-8ee4-46a7-863f-6f6028644b0c",
   "metadata": {},
   "outputs": [
    {
     "data": {
      "text/html": [
       "<div>\n",
       "<style scoped>\n",
       "    .dataframe tbody tr th:only-of-type {\n",
       "        vertical-align: middle;\n",
       "    }\n",
       "\n",
       "    .dataframe tbody tr th {\n",
       "        vertical-align: top;\n",
       "    }\n",
       "\n",
       "    .dataframe thead th {\n",
       "        text-align: right;\n",
       "    }\n",
       "</style>\n",
       "<table border=\"1\" class=\"dataframe\">\n",
       "  <thead>\n",
       "    <tr style=\"text-align: right;\">\n",
       "      <th></th>\n",
       "      <th>Quality of Material</th>\n",
       "      <th>Order Grade Text</th>\n",
       "      <th>Nominal Thickness (mm with decimal point)</th>\n",
       "      <th>Width</th>\n",
       "      <th>Length</th>\n",
       "      <th>Weight (kg)</th>\n",
       "      <th>Cluster</th>\n",
       "      <th>Silicon Content</th>\n",
       "      <th>Manganese Content</th>\n",
       "      <th>Phosphorus Content</th>\n",
       "      <th>...</th>\n",
       "      <th>Molybdenum Content</th>\n",
       "      <th>Vanadium Content</th>\n",
       "      <th>Copper Content</th>\n",
       "      <th>Niobium Content</th>\n",
       "      <th>Titanium Content</th>\n",
       "      <th>Aluminum Content</th>\n",
       "      <th>Boron Content</th>\n",
       "      <th>Yield Strength</th>\n",
       "      <th>Tensile Strength</th>\n",
       "      <th>Elongation</th>\n",
       "    </tr>\n",
       "  </thead>\n",
       "  <tbody>\n",
       "    <tr>\n",
       "      <th>0</th>\n",
       "      <td>G2UB5</td>\n",
       "      <td>SZBS800</td>\n",
       "      <td>320</td>\n",
       "      <td>856.0</td>\n",
       "      <td>787.0</td>\n",
       "      <td>16.490</td>\n",
       "      <td>WB-G</td>\n",
       "      <td>NaN</td>\n",
       "      <td>NaN</td>\n",
       "      <td>NaN</td>\n",
       "      <td>...</td>\n",
       "      <td>NaN</td>\n",
       "      <td>NaN</td>\n",
       "      <td>NaN</td>\n",
       "      <td>NaN</td>\n",
       "      <td>NaN</td>\n",
       "      <td>NaN</td>\n",
       "      <td>NaN</td>\n",
       "      <td>NaN</td>\n",
       "      <td>NaN</td>\n",
       "      <td>NaN</td>\n",
       "    </tr>\n",
       "    <tr>\n",
       "      <th>1</th>\n",
       "      <td>G2UJ5</td>\n",
       "      <td>SZBS800</td>\n",
       "      <td>339</td>\n",
       "      <td>918.0</td>\n",
       "      <td>707.0</td>\n",
       "      <td>17.160</td>\n",
       "      <td>WB-G</td>\n",
       "      <td>NaN</td>\n",
       "      <td>NaN</td>\n",
       "      <td>NaN</td>\n",
       "      <td>...</td>\n",
       "      <td>NaN</td>\n",
       "      <td>NaN</td>\n",
       "      <td>NaN</td>\n",
       "      <td>NaN</td>\n",
       "      <td>NaN</td>\n",
       "      <td>NaN</td>\n",
       "      <td>NaN</td>\n",
       "      <td>NaN</td>\n",
       "      <td>NaN</td>\n",
       "      <td>NaN</td>\n",
       "    </tr>\n",
       "    <tr>\n",
       "      <th>2</th>\n",
       "      <td>C3318</td>\n",
       "      <td>LICRO 500</td>\n",
       "      <td>452</td>\n",
       "      <td>1,839.0</td>\n",
       "      <td>300.0</td>\n",
       "      <td>18.700</td>\n",
       "      <td>WB-U</td>\n",
       "      <td>0.2540</td>\n",
       "      <td>1.2780</td>\n",
       "      <td>0.0080</td>\n",
       "      <td>...</td>\n",
       "      <td>0.0090</td>\n",
       "      <td>20.0</td>\n",
       "      <td>290.0</td>\n",
       "      <td>12.0</td>\n",
       "      <td>320.0</td>\n",
       "      <td>320.0</td>\n",
       "      <td>25.0</td>\n",
       "      <td>0.0</td>\n",
       "      <td>0.0</td>\n",
       "      <td>0.0</td>\n",
       "    </tr>\n",
       "    <tr>\n",
       "      <th>3</th>\n",
       "      <td>C3U15</td>\n",
       "      <td>S380MC mod. 4</td>\n",
       "      <td>532</td>\n",
       "      <td>1,160.0</td>\n",
       "      <td>461.0</td>\n",
       "      <td>22.011</td>\n",
       "      <td>WB-U</td>\n",
       "      <td>0.2250</td>\n",
       "      <td>1.0630</td>\n",
       "      <td>0.0100</td>\n",
       "      <td>...</td>\n",
       "      <td>0.0060</td>\n",
       "      <td>30.0</td>\n",
       "      <td>150.0</td>\n",
       "      <td>320.0</td>\n",
       "      <td>989.0</td>\n",
       "      <td>430.0</td>\n",
       "      <td>1.0</td>\n",
       "      <td>0.0</td>\n",
       "      <td>0.0</td>\n",
       "      <td>0.0</td>\n",
       "    </tr>\n",
       "    <tr>\n",
       "      <th>4</th>\n",
       "      <td>G3UB5</td>\n",
       "      <td>SZBE800</td>\n",
       "      <td>451</td>\n",
       "      <td>727.2</td>\n",
       "      <td>557.0</td>\n",
       "      <td>14.020</td>\n",
       "      <td>Spaltband</td>\n",
       "      <td>NaN</td>\n",
       "      <td>NaN</td>\n",
       "      <td>NaN</td>\n",
       "      <td>...</td>\n",
       "      <td>NaN</td>\n",
       "      <td>NaN</td>\n",
       "      <td>NaN</td>\n",
       "      <td>NaN</td>\n",
       "      <td>NaN</td>\n",
       "      <td>NaN</td>\n",
       "      <td>NaN</td>\n",
       "      <td>NaN</td>\n",
       "      <td>NaN</td>\n",
       "      <td>NaN</td>\n",
       "    </tr>\n",
       "  </tbody>\n",
       "</table>\n",
       "<p>5 rows × 23 columns</p>\n",
       "</div>"
      ],
      "text/plain": [
       "  Quality of Material Order Grade Text  \\\n",
       "0               G2UB5          SZBS800   \n",
       "1               G2UJ5          SZBS800   \n",
       "2               C3318        LICRO 500   \n",
       "3               C3U15    S380MC mod. 4   \n",
       "4               G3UB5          SZBE800   \n",
       "\n",
       "   Nominal Thickness (mm with decimal point)    Width  Length  Weight (kg)  \\\n",
       "0                                        320    856.0   787.0       16.490   \n",
       "1                                        339    918.0   707.0       17.160   \n",
       "2                                        452  1,839.0   300.0       18.700   \n",
       "3                                        532  1,160.0   461.0       22.011   \n",
       "4                                        451    727.2   557.0       14.020   \n",
       "\n",
       "     Cluster Silicon Content Manganese Content Phosphorus Content  ...  \\\n",
       "0       WB-G             NaN               NaN                NaN  ...   \n",
       "1       WB-G             NaN               NaN                NaN  ...   \n",
       "2       WB-U          0.2540            1.2780             0.0080  ...   \n",
       "3       WB-U          0.2250            1.0630             0.0100  ...   \n",
       "4  Spaltband             NaN               NaN                NaN  ...   \n",
       "\n",
       "  Molybdenum Content Vanadium Content Copper Content Niobium Content  \\\n",
       "0                NaN              NaN            NaN             NaN   \n",
       "1                NaN              NaN            NaN             NaN   \n",
       "2             0.0090             20.0          290.0            12.0   \n",
       "3             0.0060             30.0          150.0           320.0   \n",
       "4                NaN              NaN            NaN             NaN   \n",
       "\n",
       "   Titanium Content  Aluminum Content  Boron Content  Yield Strength  \\\n",
       "0               NaN               NaN            NaN             NaN   \n",
       "1               NaN               NaN            NaN             NaN   \n",
       "2             320.0             320.0           25.0             0.0   \n",
       "3             989.0             430.0            1.0             0.0   \n",
       "4               NaN               NaN            NaN             NaN   \n",
       "\n",
       "   Tensile Strength  Elongation  \n",
       "0               NaN         NaN  \n",
       "1               NaN         NaN  \n",
       "2               0.0         0.0  \n",
       "3               0.0         0.0  \n",
       "4               NaN         NaN  \n",
       "\n",
       "[5 rows x 23 columns]"
      ]
     },
     "execution_count": 299,
     "metadata": {},
     "output_type": "execute_result"
    }
   ],
   "source": [
    "df1.head()"
   ]
  },
  {
   "cell_type": "code",
   "execution_count": 300,
   "id": "315e4b03-43ea-4597-942b-0de82659c1c5",
   "metadata": {},
   "outputs": [
    {
     "name": "stdout",
     "output_type": "stream",
     "text": [
      "<class 'pandas.core.frame.DataFrame'>\n",
      "RangeIndex: 86 entries, 0 to 85\n",
      "Data columns (total 23 columns):\n",
      " #   Column                                     Non-Null Count  Dtype  \n",
      "---  ------                                     --------------  -----  \n",
      " 0   Quality of Material                        66 non-null     object \n",
      " 1   Order Grade Text                           70 non-null     object \n",
      " 2   Nominal Thickness (mm with decimal point)  86 non-null     int64  \n",
      " 3   Width                                      86 non-null     object \n",
      " 4   Length                                     86 non-null     float64\n",
      " 5   Weight (kg)                                86 non-null     float64\n",
      " 6   Cluster                                    74 non-null     object \n",
      " 7   Silicon Content                            55 non-null     object \n",
      " 8   Manganese Content                          55 non-null     object \n",
      " 9   Phosphorus Content                         55 non-null     object \n",
      " 10  Sulfur Content                             48 non-null     object \n",
      " 11  Chromium Content                           55 non-null     object \n",
      " 12  Nickel Content                             47 non-null     object \n",
      " 13  Molybdenum Content                         48 non-null     object \n",
      " 14  Vanadium Content                           48 non-null     float64\n",
      " 15  Copper Content                             48 non-null     float64\n",
      " 16  Niobium Content                            48 non-null     float64\n",
      " 17  Titanium Content                           48 non-null     float64\n",
      " 18  Aluminum Content                           48 non-null     float64\n",
      " 19  Boron Content                              48 non-null     float64\n",
      " 20  Yield Strength                             48 non-null     float64\n",
      " 21  Tensile Strength                           48 non-null     float64\n",
      " 22  Elongation                                 48 non-null     float64\n",
      "dtypes: float64(11), int64(1), object(11)\n",
      "memory usage: 15.6+ KB\n"
     ]
    }
   ],
   "source": [
    "df1.info()"
   ]
  },
  {
   "cell_type": "markdown",
   "id": "6657309b-851c-4474-a925-22d0b5c797c3",
   "metadata": {},
   "source": [
    "This shows that there are multiple missing values in the dataset for many columns."
   ]
  },
  {
   "cell_type": "markdown",
   "id": "269f7e3c-3791-4a1a-9eb6-e2ff430f3ce9",
   "metadata": {},
   "source": [
    "### Data Cleaning"
   ]
  },
  {
   "cell_type": "markdown",
   "id": "67abc3ec-5ae9-4b5d-866c-9526be640ac9",
   "metadata": {},
   "source": [
    "Finding missing values for each column"
   ]
  },
  {
   "cell_type": "code",
   "execution_count": 301,
   "id": "612ed68d-95be-487c-a687-d3a40bfde445",
   "metadata": {},
   "outputs": [
    {
     "data": {
      "text/plain": [
       "Quality of Material                          20\n",
       "Order Grade Text                             16\n",
       "Nominal Thickness (mm with decimal point)     0\n",
       "Width                                         0\n",
       "Length                                        0\n",
       "Weight (kg)                                   0\n",
       "Cluster                                      12\n",
       "Silicon Content                              31\n",
       "Manganese Content                            31\n",
       "Phosphorus Content                           31\n",
       "Sulfur Content                               38\n",
       "Chromium Content                             31\n",
       "Nickel Content                               39\n",
       "Molybdenum Content                           38\n",
       "Vanadium Content                             38\n",
       "Copper Content                               38\n",
       "Niobium Content                              38\n",
       "Titanium Content                             38\n",
       "Aluminum Content                             38\n",
       "Boron Content                                38\n",
       "Yield Strength                               38\n",
       "Tensile Strength                             38\n",
       "Elongation                                   38\n",
       "dtype: int64"
      ]
     },
     "execution_count": 301,
     "metadata": {},
     "output_type": "execute_result"
    }
   ],
   "source": [
    "df1.isnull().sum()"
   ]
  },
  {
   "cell_type": "markdown",
   "id": "e871ddf0-b83d-4433-8369-279ac12d4355",
   "metadata": {},
   "source": [
    "Let's start handling missing values for each column one by one or couple."
   ]
  },
  {
   "cell_type": "code",
   "execution_count": 302,
   "id": "a2df616e-a8b6-4826-afe9-0f90cadf9ab3",
   "metadata": {},
   "outputs": [
    {
     "data": {
      "text/plain": [
       "Quality of Material  Order Grade Text\n",
       "G2UB5                HR660Y760T-CP       9\n",
       "G2UJ5                SZBS800             6\n",
       "C27L5                50CrMo4             3\n",
       "G2UB5                2A Lager            3\n",
       "C4LF5                42CrMo4             2\n",
       "C2225                DP600-MW06          2\n",
       "C3U15                S380MC mod. 4       2\n",
       "C2WS8                C2WS8               2\n",
       "G2UB5                SZBS800             2\n",
       "G2WD8                D7G                 2\n",
       "X2UJ5                SZBS800             2\n",
       "C27W8                RobuSal®800         1\n",
       "C2UG8                CR330Y590T-DP       1\n",
       "C27N5                51CrV4              1\n",
       "C1F28                CR300LA             1\n",
       "C1DE8                CR340LA             1\n",
       "CBWW5                HC460LA             1\n",
       "C3LZ5                67CrNiMo33          1\n",
       "C37N5                51CrV4              1\n",
       "C3LF5                42CrMo4             1\n",
       "C3318                LICRO 500           1\n",
       "C27W8                DBL 4525.30         1\n",
       "G2UB5                SZBS800xpand®50     1\n",
       "G27M5                58CrV4              1\n",
       "G2WD8                CR440Y780T-DP       1\n",
       "G37M5                58CrV4              1\n",
       "G3HU8                CR210BH             1\n",
       "G3HU3                CR210BH             1\n",
       "G3K78                HX180YD             1\n",
       "G3K88                G3K88               1\n",
       "G3UB5                SZBE800             1\n",
       "X36Z5                Grade D6A           1\n",
       "Name: count, dtype: int64"
      ]
     },
     "execution_count": 302,
     "metadata": {},
     "output_type": "execute_result"
    }
   ],
   "source": [
    "df1[[\"Quality of Material\", \"Order Grade Text\"]].value_counts()"
   ]
  },
  {
   "cell_type": "code",
   "execution_count": 303,
   "id": "10adda3a-47d9-450b-b879-9d6691964198",
   "metadata": {},
   "outputs": [
    {
     "data": {
      "text/html": [
       "<div>\n",
       "<style scoped>\n",
       "    .dataframe tbody tr th:only-of-type {\n",
       "        vertical-align: middle;\n",
       "    }\n",
       "\n",
       "    .dataframe tbody tr th {\n",
       "        vertical-align: top;\n",
       "    }\n",
       "\n",
       "    .dataframe thead th {\n",
       "        text-align: right;\n",
       "    }\n",
       "</style>\n",
       "<table border=\"1\" class=\"dataframe\">\n",
       "  <thead>\n",
       "    <tr style=\"text-align: right;\">\n",
       "      <th></th>\n",
       "      <th>Quality of Material</th>\n",
       "      <th>Order Grade Text</th>\n",
       "    </tr>\n",
       "  </thead>\n",
       "  <tbody>\n",
       "    <tr>\n",
       "      <th>0</th>\n",
       "      <td>G2UB5</td>\n",
       "      <td>SZBS800</td>\n",
       "    </tr>\n",
       "    <tr>\n",
       "      <th>1</th>\n",
       "      <td>G2UJ5</td>\n",
       "      <td>SZBS800</td>\n",
       "    </tr>\n",
       "    <tr>\n",
       "      <th>2</th>\n",
       "      <td>C3318</td>\n",
       "      <td>LICRO 500</td>\n",
       "    </tr>\n",
       "    <tr>\n",
       "      <th>3</th>\n",
       "      <td>C3U15</td>\n",
       "      <td>S380MC mod. 4</td>\n",
       "    </tr>\n",
       "    <tr>\n",
       "      <th>4</th>\n",
       "      <td>G3UB5</td>\n",
       "      <td>SZBE800</td>\n",
       "    </tr>\n",
       "  </tbody>\n",
       "</table>\n",
       "</div>"
      ],
      "text/plain": [
       "  Quality of Material Order Grade Text\n",
       "0               G2UB5          SZBS800\n",
       "1               G2UJ5          SZBS800\n",
       "2               C3318        LICRO 500\n",
       "3               C3U15    S380MC mod. 4\n",
       "4               G3UB5          SZBE800"
      ]
     },
     "execution_count": 303,
     "metadata": {},
     "output_type": "execute_result"
    }
   ],
   "source": [
    "df1[[\"Quality of Material\", \"Order Grade Text\"]].head(5)"
   ]
  },
  {
   "cell_type": "markdown",
   "id": "8a6557a8-81df-4ab4-a8eb-697a3f5df519",
   "metadata": {},
   "source": [
    "As both columns are related, it is essential to impute the missing values based on frequest vice-versa values. The main reason behind imputing this way is because they are correlated though they are categorical features."
   ]
  },
  {
   "cell_type": "code",
   "execution_count": 304,
   "id": "3302f80a-dca3-4b1f-9857-da9639d4072a",
   "metadata": {},
   "outputs": [
    {
     "name": "stderr",
     "output_type": "stream",
     "text": [
      "C:\\Users\\kaleem\\AppData\\Local\\Temp\\ipykernel_6916\\2599262782.py:8: FutureWarning: A value is trying to be set on a copy of a DataFrame or Series through chained assignment using an inplace method.\n",
      "The behavior will change in pandas 3.0. This inplace method will never work because the intermediate object on which we are setting values always behaves as a copy.\n",
      "\n",
      "For example, when doing 'df[col].method(value, inplace=True)', try using 'df.method({col: value}, inplace=True)' or df[col] = df[col].method(value) instead, to perform the operation inplace on the original object.\n",
      "\n",
      "\n",
      "  df1['Quality of Material'].fillna('Others', inplace=True)\n",
      "C:\\Users\\kaleem\\AppData\\Local\\Temp\\ipykernel_6916\\2599262782.py:9: FutureWarning: A value is trying to be set on a copy of a DataFrame or Series through chained assignment using an inplace method.\n",
      "The behavior will change in pandas 3.0. This inplace method will never work because the intermediate object on which we are setting values always behaves as a copy.\n",
      "\n",
      "For example, when doing 'df[col].method(value, inplace=True)', try using 'df.method({col: value}, inplace=True)' or df[col] = df[col].method(value) instead, to perform the operation inplace on the original object.\n",
      "\n",
      "\n",
      "  df1['Order Grade Text'].fillna('Others', inplace=True)\n"
     ]
    }
   ],
   "source": [
    "# Step 1: Impute missing 'Werksgüte' based on 'Bestellgütentext'\n",
    "df1['Quality of Material'] = df1.groupby('Order Grade Text')['Quality of Material'].transform(lambda x: x.fillna(x.mode()[0] if not x.mode().empty else 'Others'))\n",
    "\n",
    "# Step 2: Impute missing 'Bestellgütentext' based on 'Werksgüte'\n",
    "df1['Order Grade Text'] = df1.groupby('Quality of Material')['Order Grade Text'].transform(lambda x: x.fillna(x.mode()[0] if not x.mode().empty else 'Others'))\n",
    "\n",
    "# Step 3: Handle rows where both 'Werksgüte' and 'Bestellgütentext' are missing\n",
    "df1['Quality of Material'].fillna('Others', inplace=True)\n",
    "df1['Order Grade Text'].fillna('Others', inplace=True)"
   ]
  },
  {
   "cell_type": "code",
   "execution_count": 305,
   "id": "2d366f78-108d-4f92-bf37-29bb2241c5ad",
   "metadata": {},
   "outputs": [
    {
     "data": {
      "text/html": [
       "<div>\n",
       "<style scoped>\n",
       "    .dataframe tbody tr th:only-of-type {\n",
       "        vertical-align: middle;\n",
       "    }\n",
       "\n",
       "    .dataframe tbody tr th {\n",
       "        vertical-align: top;\n",
       "    }\n",
       "\n",
       "    .dataframe thead th {\n",
       "        text-align: right;\n",
       "    }\n",
       "</style>\n",
       "<table border=\"1\" class=\"dataframe\">\n",
       "  <thead>\n",
       "    <tr style=\"text-align: right;\">\n",
       "      <th></th>\n",
       "      <th>Quality of Material</th>\n",
       "      <th>Order Grade Text</th>\n",
       "    </tr>\n",
       "  </thead>\n",
       "  <tbody>\n",
       "    <tr>\n",
       "      <th>0</th>\n",
       "      <td>G2UB5</td>\n",
       "      <td>SZBS800</td>\n",
       "    </tr>\n",
       "    <tr>\n",
       "      <th>1</th>\n",
       "      <td>G2UJ5</td>\n",
       "      <td>SZBS800</td>\n",
       "    </tr>\n",
       "    <tr>\n",
       "      <th>2</th>\n",
       "      <td>C3318</td>\n",
       "      <td>LICRO 500</td>\n",
       "    </tr>\n",
       "    <tr>\n",
       "      <th>3</th>\n",
       "      <td>C3U15</td>\n",
       "      <td>S380MC mod. 4</td>\n",
       "    </tr>\n",
       "    <tr>\n",
       "      <th>4</th>\n",
       "      <td>G3UB5</td>\n",
       "      <td>SZBE800</td>\n",
       "    </tr>\n",
       "  </tbody>\n",
       "</table>\n",
       "</div>"
      ],
      "text/plain": [
       "  Quality of Material Order Grade Text\n",
       "0               G2UB5          SZBS800\n",
       "1               G2UJ5          SZBS800\n",
       "2               C3318        LICRO 500\n",
       "3               C3U15    S380MC mod. 4\n",
       "4               G3UB5          SZBE800"
      ]
     },
     "execution_count": 305,
     "metadata": {},
     "output_type": "execute_result"
    }
   ],
   "source": [
    "df1[[\"Quality of Material\", \"Order Grade Text\"]].head(5)"
   ]
  },
  {
   "cell_type": "code",
   "execution_count": 41,
   "id": "fb07a3ed-138d-4b38-92cd-62c602fc688b",
   "metadata": {},
   "outputs": [
    {
     "data": {
      "text/plain": [
       "array(['WB-G', 'WB-G', 'WB-U', 'WB-U', 'Spaltband', 'Spaltband',\n",
       "       'ELO verzinkt', 'WB-G', nan, nan, 'WB-U', 'WB-U', nan, 'WB-U',\n",
       "       'WB-U', nan, 'WB-U', 'WB-U', 'WB-U', 'WB-U', 'WB-U', 'WB-U',\n",
       "       'WB-U', 'WBU', 'WBU', nan, 'WB-U', 'WB-U', 'WB-U', 'WB-U', 'WB-U',\n",
       "       'WB-U', 'WB-U', 'WB-U', 'WB-U', 'WB-U', 'WB-U', 'WB-U', 'WB-U',\n",
       "       'WB-U', nan, 'WB-U', 'WB-G', 'WB-G', 'WB-G', nan, 'WB-G', 'WB-G',\n",
       "       'WB-G', nan, nan, 'WB-G', 'WB-G', 'WB-G', 'WB-G', 'WB-G', 'WB-G',\n",
       "       'WB-G', 'WB-G', 'WB-G', 'WB-G', 'WB-G', 'WB-G', 'WB-G', 'WB-G',\n",
       "       nan, 'WB-G', 'WB-G', nan, nan, 'Kaltfeinblech', 'Kaltfeinblech',\n",
       "       'Kaltfeinblech', 'Kaltfeinblech', 'Kaltfeinblech', 'ELO verzinkt',\n",
       "       'ELO verzinkt', 'ELO verzinkt', 'ELO verzinkt', 'ELO verzinkt',\n",
       "       'ELO verzinkt', 'ELO verzinkt', 'ELO verzinkt', 'ELO verzinkt',\n",
       "       'WB-U', 'WB-U'], dtype=object)"
      ]
     },
     "execution_count": 41,
     "metadata": {},
     "output_type": "execute_result"
    }
   ],
   "source": [
    "df1[\"Cluster\"].values"
   ]
  },
  {
   "cell_type": "code",
   "execution_count": 306,
   "id": "71feedbc-9bec-4c63-a7f6-7bf4a3ed4452",
   "metadata": {
    "scrolled": true
   },
   "outputs": [
    {
     "data": {
      "text/plain": [
       "array([['G2UB5', 'SZBS800', 'WB-G'],\n",
       "       ['G2UJ5', 'SZBS800', 'WB-G'],\n",
       "       ['C3318', 'LICRO 500', 'WB-U'],\n",
       "       ['C3U15', 'S380MC mod. 4', 'WB-U'],\n",
       "       ['G3UB5', 'SZBE800', 'Spaltband'],\n",
       "       ['G2UB5', 'SZBS800', 'Spaltband'],\n",
       "       ['G2UB5', '2A Lager', 'ELO verzinkt'],\n",
       "       ['C27L5', '50CrMo4', 'WB-G'],\n",
       "       ['C2WS8', 'C2WS8', nan],\n",
       "       ['C1F28', 'CR300LA', nan],\n",
       "       ['Others', 'Others', 'WB-U'],\n",
       "       ['C2WS8', 'C2WS8', 'WB-U'],\n",
       "       ['Others', 'Others', nan],\n",
       "       ['G3K88', 'G3K88', 'WB-U'],\n",
       "       ['Others', 'Others', 'WB-U'],\n",
       "       ['Others', 'G1BX5', nan],\n",
       "       ['G37M5', '58CrV4', 'WB-U'],\n",
       "       ['C2UG8', 'CR330Y590T-DP', 'WB-U'],\n",
       "       ['G2UB5', 'HR660Y760T-CP', 'WB-U'],\n",
       "       ['G2UB5', 'HR660Y760T-CP', 'WB-U'],\n",
       "       ['G2UB5', 'HR660Y760T-CP', 'WB-U'],\n",
       "       ['G2UB5', 'HR660Y760T-CP', 'WB-U'],\n",
       "       ['G2UB5', 'HR660Y760T-CP', 'WB-U'],\n",
       "       ['G2UB5', 'HR660Y760T-CP', 'WBU'],\n",
       "       ['G2WD8', 'D7G', 'WBU'],\n",
       "       ['C4LF5', '42CrMo4', nan],\n",
       "       ['G2WD8', 'CR440Y780T-DP', 'WB-U'],\n",
       "       ['Others', 'Others', 'WB-U'],\n",
       "       ['C4LF5', '42CrMo4', 'WB-U'],\n",
       "       ['Others', 'Others', 'WB-U'],\n",
       "       ['C4LF5', '42CrMo4', 'WB-U'],\n",
       "       ['C4LF5', '42CrMo4', 'WB-U'],\n",
       "       ['G3K78', 'HX180YD', 'WB-U'],\n",
       "       ['G3HU8', 'CR210BH', 'WB-U'],\n",
       "       ['Others', 'Others', 'WB-U'],\n",
       "       ['G2WD8', 'D7G', 'WB-U'],\n",
       "       ['C1DE8', 'CR340LA', 'WB-U'],\n",
       "       ['G2UB5', 'HR660Y760T-CP', 'WB-U'],\n",
       "       ['G2UB5', 'HR660Y760T-CP', 'WB-U'],\n",
       "       ['C2225', 'DP600-MW06', 'WB-U'],\n",
       "       ['C3LZ5', '67CrNiMo33', nan],\n",
       "       ['C3LF5', '42CrMo4', 'WB-U'],\n",
       "       ['Others', 'Others', 'WB-G'],\n",
       "       ['C3LZ5', '67CrNiMo33', 'WB-G'],\n",
       "       ['G2UB5', 'SZBS800xpand®50', 'WB-G'],\n",
       "       ['C27L5', '50CrMo4', nan],\n",
       "       ['C37N5', '51CrV4', 'WB-G'],\n",
       "       ['Others', 'Others', 'WB-G'],\n",
       "       ['C27W8', 'RobuSal®800', 'WB-G'],\n",
       "       ['X36Z5', 'Grade D6A', nan],\n",
       "       ['Others', 'Others', nan],\n",
       "       ['Others', 'Others', 'WB-G'],\n",
       "       ['C27L5', '50CrMo4', 'WB-G'],\n",
       "       ['C27W8', 'DBL 4525.30', 'WB-G'],\n",
       "       ['G2UJ5', 'SZBS800', 'WB-G'],\n",
       "       ['G2UJ5', 'SZBS800', 'WB-G'],\n",
       "       ['G2UJ5', 'SZBS800', 'WB-G'],\n",
       "       ['G2UJ5', 'SZBS800', 'WB-G'],\n",
       "       ['X2UJ5', 'SZBS800', 'WB-G'],\n",
       "       ['G2UJ5', 'SZBS800', 'WB-G'],\n",
       "       ['G27M5', '58CrV4', 'WB-G'],\n",
       "       ['C27N5', '51CrV4', 'WB-G'],\n",
       "       ['X2UJ5', 'SZBS800', 'WB-G'],\n",
       "       ['Others', 'Others', 'WB-G'],\n",
       "       ['G3HU3', 'CR210BH', 'WB-G'],\n",
       "       ['Others', 'Others', nan],\n",
       "       ['Others', 'Others', 'WB-G'],\n",
       "       ['C2225', 'DP600-MW06', 'WB-G'],\n",
       "       ['C27W8', 'DBL 4525.30', nan],\n",
       "       ['C27W8', 'DBL 4525.30', nan],\n",
       "       ['C27W8', 'DBL 4525.30', 'Kaltfeinblech'],\n",
       "       ['C27W8', 'DBL 4525.30', 'Kaltfeinblech'],\n",
       "       ['C27W8', 'DBL 4525.30', 'Kaltfeinblech'],\n",
       "       ['C27W8', 'RobuSal®800', 'Kaltfeinblech'],\n",
       "       ['Others', 'CS Type B', 'Kaltfeinblech'],\n",
       "       ['CBWW5', 'HC460LA', 'ELO verzinkt'],\n",
       "       ['G2UB5', 'HR660Y760T-CP', 'ELO verzinkt'],\n",
       "       ['G2UB5', '2A Lager', 'ELO verzinkt'],\n",
       "       ['Others', 'Others', 'ELO verzinkt'],\n",
       "       ['G2UB5', '2A Lager', 'ELO verzinkt'],\n",
       "       ['G2UB5', '2A Lager', 'ELO verzinkt'],\n",
       "       ['G2UB5', 'HR660Y760T-CP', 'ELO verzinkt'],\n",
       "       ['Others', 'Others', 'ELO verzinkt'],\n",
       "       ['Others', 'Others', 'ELO verzinkt'],\n",
       "       ['C4LF5', '42CrMo4', 'WB-U'],\n",
       "       ['C3U15', 'S380MC mod. 4', 'WB-U']], dtype=object)"
      ]
     },
     "execution_count": 306,
     "metadata": {},
     "output_type": "execute_result"
    }
   ],
   "source": [
    "df1[[\"Quality of Material\", \"Order Grade Text\", \"Cluster\"]].values"
   ]
  },
  {
   "cell_type": "code",
   "execution_count": 49,
   "id": "e40a4262-8cb7-4a94-b963-96923f9007fd",
   "metadata": {},
   "outputs": [
    {
     "data": {
      "text/plain": [
       "Cluster\n",
       "WB-U             32\n",
       "WB-G             25\n",
       "ELO verzinkt     10\n",
       "Kaltfeinblech     5\n",
       "Spaltband         2\n",
       "Name: count, dtype: int64"
      ]
     },
     "execution_count": 49,
     "metadata": {},
     "output_type": "execute_result"
    }
   ],
   "source": [
    "df1[\"Cluster\"].value_counts()"
   ]
  },
  {
   "cell_type": "code",
   "execution_count": 48,
   "id": "87cf2133-8f5a-4303-b2bc-bd89923379e1",
   "metadata": {},
   "outputs": [],
   "source": [
    "df1['Cluster'] = df1['Cluster'].replace('WBU', 'WB-U')"
   ]
  },
  {
   "cell_type": "markdown",
   "id": "382798fe-2668-42e0-9b1d-0eb545b2f83d",
   "metadata": {},
   "source": [
    "Imputing the values of 'Cluster' based on 'Quality of Material' and 'Order Grade Text' as they are related and having patterns."
   ]
  },
  {
   "cell_type": "code",
   "execution_count": 307,
   "id": "015c65a6-405c-41ca-8fe2-800cd76f4c53",
   "metadata": {},
   "outputs": [],
   "source": [
    "# Impute missing 'Cluster' values based on the combination of 'Werksgüte' and 'Bestellgütentext'\n",
    "df1['Cluster'] = df1.groupby(['Quality of Material', 'Order Grade Text'])['Cluster'].transform(\n",
    "    lambda x: x.fillna(x.mode()[0] if not x.mode().empty else 'WB-U')\n",
    ")\n",
    "\n",
    "df1['Cluster'] = df1['Cluster'].fillna('WB-U')"
   ]
  },
  {
   "cell_type": "code",
   "execution_count": 308,
   "id": "4e17b5bc-f71c-4647-a821-c0db8350925c",
   "metadata": {},
   "outputs": [
    {
     "data": {
      "text/plain": [
       "Cluster\n",
       "WB-U             35\n",
       "WB-G             30\n",
       "ELO verzinkt     10\n",
       "Kaltfeinblech     7\n",
       "Spaltband         2\n",
       "WBU               2\n",
       "Name: count, dtype: int64"
      ]
     },
     "execution_count": 308,
     "metadata": {},
     "output_type": "execute_result"
    }
   ],
   "source": [
    "df1[\"Cluster\"].value_counts()"
   ]
  },
  {
   "cell_type": "code",
   "execution_count": 309,
   "id": "e874041a-7ebf-4409-8d9f-c9c7d7554142",
   "metadata": {},
   "outputs": [
    {
     "data": {
      "text/plain": [
       "array([nan, nan, '0.2540', '0.2250', nan, nan, '10', nan, '0.2330',\n",
       "       '0.1190', '0', '0.2650', '0.2920', '0.2520', '0.2280', '0.0700',\n",
       "       '0.2200', '0.2490', '0.4630', '0.4470', '0.4470', '0.4470',\n",
       "       '0.4470', '0.4470', '0.2620', '0.1640', '0.2580', '0.2350',\n",
       "       '0.1870', '0.1870', '0.1870', '0.1870', '0.2450', '0.1980',\n",
       "       '0.2540', '0.2490', '0.0590', '0.4370', '0.4370', '0.0120',\n",
       "       '0.2760', '0.1890', nan, nan, nan, nan, nan, nan, nan, nan, nan,\n",
       "       nan, nan, nan, nan, nan, nan, nan, nan, nan, nan, nan, nan, nan,\n",
       "       nan, nan, nan, nan, 'Rost flächig (UNB)',\n",
       "       'Auftragsstreichung (VRK)', 'Rost flächig (DR3)',\n",
       "       'lange Schale (TS)', 'Dickenschwankungen (TAN)',\n",
       "       'Dickenschw. wegen Stop Tandemstr. (TAN)',\n",
       "       'Dickenschwankungen (TAN)', '19', '10', '10', '10', '10', '10',\n",
       "       '10', '10', '10', '0.1870', '0.2250'], dtype=object)"
      ]
     },
     "execution_count": 309,
     "metadata": {},
     "output_type": "execute_result"
    }
   ],
   "source": [
    "df1[\"Silicon Content\"].values"
   ]
  },
  {
   "cell_type": "code",
   "execution_count": null,
   "id": "5962c5f2-1581-4398-a8d2-86f857d6b474",
   "metadata": {},
   "outputs": [],
   "source": []
  },
  {
   "cell_type": "markdown",
   "id": "66e359ed-730c-489a-bcf2-47a8ab3dc08c",
   "metadata": {},
   "source": [
    "'Silicon Content' is a numerical column though there were strings like values found which are fixed using to_numeric() function."
   ]
  },
  {
   "cell_type": "code",
   "execution_count": 310,
   "id": "49ab296f-8c4d-4906-9750-6951f61bd1d0",
   "metadata": {},
   "outputs": [],
   "source": [
    "df1['Silicon Content'] = pd.to_numeric(df1['Silicon Content'], errors='coerce')"
   ]
  },
  {
   "cell_type": "code",
   "execution_count": 311,
   "id": "73a842ca-09a0-4ba6-a4bc-6b73e06cb37b",
   "metadata": {
    "scrolled": true
   },
   "outputs": [
    {
     "data": {
      "text/plain": [
       "array([['WB-G', nan],\n",
       "       ['WB-G', nan],\n",
       "       ['WB-U', 0.254],\n",
       "       ['WB-U', 0.225],\n",
       "       ['Spaltband', nan],\n",
       "       ['Spaltband', nan],\n",
       "       ['ELO verzinkt', 10.0],\n",
       "       ['WB-G', nan],\n",
       "       ['WB-U', 0.233],\n",
       "       ['WB-U', 0.119],\n",
       "       ['WB-U', 0.0],\n",
       "       ['WB-U', 0.265],\n",
       "       ['WB-G', 0.292],\n",
       "       ['WB-U', 0.252],\n",
       "       ['WB-U', 0.228],\n",
       "       ['WB-U', 0.07],\n",
       "       ['WB-U', 0.22],\n",
       "       ['WB-U', 0.249],\n",
       "       ['WB-U', 0.463],\n",
       "       ['WB-U', 0.447],\n",
       "       ['WB-U', 0.447],\n",
       "       ['WB-U', 0.447],\n",
       "       ['WB-U', 0.447],\n",
       "       ['WBU', 0.447],\n",
       "       ['WBU', 0.262],\n",
       "       ['WB-U', 0.164],\n",
       "       ['WB-U', 0.258],\n",
       "       ['WB-U', 0.235],\n",
       "       ['WB-U', 0.187],\n",
       "       ['WB-U', 0.187],\n",
       "       ['WB-U', 0.187],\n",
       "       ['WB-U', 0.187],\n",
       "       ['WB-U', 0.245],\n",
       "       ['WB-U', 0.198],\n",
       "       ['WB-U', 0.254],\n",
       "       ['WB-U', 0.249],\n",
       "       ['WB-U', 0.059],\n",
       "       ['WB-U', 0.437],\n",
       "       ['WB-U', 0.437],\n",
       "       ['WB-U', 0.012],\n",
       "       ['WB-G', 0.276],\n",
       "       ['WB-U', 0.189],\n",
       "       ['WB-G', nan],\n",
       "       ['WB-G', nan],\n",
       "       ['WB-G', nan],\n",
       "       ['WB-G', nan],\n",
       "       ['WB-G', nan],\n",
       "       ['WB-G', nan],\n",
       "       ['WB-G', nan],\n",
       "       ['WB-U', nan],\n",
       "       ['WB-G', nan],\n",
       "       ['WB-G', nan],\n",
       "       ['WB-G', nan],\n",
       "       ['WB-G', nan],\n",
       "       ['WB-G', nan],\n",
       "       ['WB-G', nan],\n",
       "       ['WB-G', nan],\n",
       "       ['WB-G', nan],\n",
       "       ['WB-G', nan],\n",
       "       ['WB-G', nan],\n",
       "       ['WB-G', nan],\n",
       "       ['WB-G', nan],\n",
       "       ['WB-G', nan],\n",
       "       ['WB-G', nan],\n",
       "       ['WB-G', nan],\n",
       "       ['WB-G', nan],\n",
       "       ['WB-G', nan],\n",
       "       ['WB-G', nan],\n",
       "       ['Kaltfeinblech', nan],\n",
       "       ['Kaltfeinblech', nan],\n",
       "       ['Kaltfeinblech', nan],\n",
       "       ['Kaltfeinblech', nan],\n",
       "       ['Kaltfeinblech', nan],\n",
       "       ['Kaltfeinblech', nan],\n",
       "       ['Kaltfeinblech', nan],\n",
       "       ['ELO verzinkt', 19.0],\n",
       "       ['ELO verzinkt', 10.0],\n",
       "       ['ELO verzinkt', 10.0],\n",
       "       ['ELO verzinkt', 10.0],\n",
       "       ['ELO verzinkt', 10.0],\n",
       "       ['ELO verzinkt', 10.0],\n",
       "       ['ELO verzinkt', 10.0],\n",
       "       ['ELO verzinkt', 10.0],\n",
       "       ['ELO verzinkt', 10.0],\n",
       "       ['WB-U', 0.187],\n",
       "       ['WB-U', 0.225]], dtype=object)"
      ]
     },
     "execution_count": 311,
     "metadata": {},
     "output_type": "execute_result"
    }
   ],
   "source": [
    "df1[[\"Cluster\", \"Silicon Content\"]].values"
   ]
  },
  {
   "cell_type": "code",
   "execution_count": 314,
   "id": "8f5ca87a-8c7e-4a54-8ca0-16806f3994da",
   "metadata": {},
   "outputs": [
    {
     "data": {
      "text/plain": [
       "np.int64(38)"
      ]
     },
     "execution_count": 314,
     "metadata": {},
     "output_type": "execute_result"
    }
   ],
   "source": [
    "df1[\"Silicon Content\"].isnull().sum()"
   ]
  },
  {
   "cell_type": "markdown",
   "id": "6190e7cf-741c-4d70-a786-6c37b37eda9d",
   "metadata": {},
   "source": [
    "Because Cluster is a generalised feature now, computed and fixed over the first two columns, it will be used to impute values of further numerical columns."
   ]
  },
  {
   "cell_type": "code",
   "execution_count": 315,
   "id": "3bda81a1-e314-43de-9b3f-847cb05a0004",
   "metadata": {},
   "outputs": [
    {
     "name": "stderr",
     "output_type": "stream",
     "text": [
      "C:\\Users\\kaleem\\AppData\\Local\\Programs\\Python\\Python311\\Lib\\site-packages\\numpy\\lib\\_nanfunctions_impl.py:1231: RuntimeWarning: Mean of empty slice\n",
      "  return np.nanmean(a, axis, out=out, keepdims=keepdims)\n",
      "C:\\Users\\kaleem\\AppData\\Local\\Programs\\Python\\Python311\\Lib\\site-packages\\numpy\\lib\\_nanfunctions_impl.py:1231: RuntimeWarning: Mean of empty slice\n",
      "  return np.nanmean(a, axis, out=out, keepdims=keepdims)\n"
     ]
    }
   ],
   "source": [
    "df1['Silicon Content'] = df1.groupby('Cluster')['Silicon Content'].transform(lambda x: x.fillna(x.median()))"
   ]
  },
  {
   "cell_type": "code",
   "execution_count": 316,
   "id": "5aa4d997-c426-4596-9794-6e963509f069",
   "metadata": {},
   "outputs": [
    {
     "data": {
      "text/plain": [
       "4         Spaltband\n",
       "5         Spaltband\n",
       "68    Kaltfeinblech\n",
       "69    Kaltfeinblech\n",
       "70    Kaltfeinblech\n",
       "71    Kaltfeinblech\n",
       "72    Kaltfeinblech\n",
       "73    Kaltfeinblech\n",
       "74    Kaltfeinblech\n",
       "Name: Cluster, dtype: object"
      ]
     },
     "execution_count": 316,
     "metadata": {},
     "output_type": "execute_result"
    }
   ],
   "source": [
    "df1[df1[\"Silicon Content\"].isnull()][\"Cluster\"]"
   ]
  },
  {
   "cell_type": "markdown",
   "id": "966a0503-a0d0-4abf-9dc8-d056a101d82b",
   "metadata": {},
   "source": [
    "There is a pattern between Cluster and Silicon Content and also, it is essential to do so otherwise imputing the values for such a small dataset based on overall median or mean would be misleading. Median is an ideal choice as mean is susceptible to outliers."
   ]
  },
  {
   "cell_type": "code",
   "execution_count": 317,
   "id": "7ba45f18-6459-4990-965d-d0645cd4de80",
   "metadata": {},
   "outputs": [],
   "source": [
    "# Fill NaNs in 'Si-Gehalt' with the overall median\n",
    "overall_median = df1['Silicon Content'].median()\n",
    "df1['Silicon Content'] = df1.groupby('Cluster')['Silicon Content'].transform(lambda x: x.fillna(overall_median))"
   ]
  },
  {
   "cell_type": "code",
   "execution_count": 318,
   "id": "4de5e8f8-8dc0-4146-a836-c2edc14971ba",
   "metadata": {},
   "outputs": [
    {
     "data": {
      "text/plain": [
       "array([['WB-G', nan],\n",
       "       ['WB-G', nan],\n",
       "       ['WB-U', '1.2780'],\n",
       "       ['WB-U', '1.0630'],\n",
       "       ['Spaltband', nan],\n",
       "       ['Spaltband', nan],\n",
       "       ['ELO verzinkt', 'A'],\n",
       "       ['WB-G', nan],\n",
       "       ['WB-U', '1.0290'],\n",
       "       ['WB-U', '0.7440'],\n",
       "       ['WB-U', '0'],\n",
       "       ['WB-U', '1.0490'],\n",
       "       ['WB-G', '0.3230'],\n",
       "       ['WB-U', '0.9020'],\n",
       "       ['WB-U', '1.3560'],\n",
       "       ['WB-U', '1.1410'],\n",
       "       ['WB-U', '0.8540'],\n",
       "       ['WB-U', '1.2820'],\n",
       "       ['WB-U', '1.8620'],\n",
       "       ['WB-U', '1.8760'],\n",
       "       ['WB-U', '1.8760'],\n",
       "       ['WB-U', '1.8760'],\n",
       "       ['WB-U', '1.8760'],\n",
       "       ['WBU', '1.8760'],\n",
       "       ['WBU', '1.8580'],\n",
       "       ['WB-U', '0.6700'],\n",
       "       ['WB-U', '1.8220'],\n",
       "       ['WB-U', '1.8620'],\n",
       "       ['WB-U', '0.6840'],\n",
       "       ['WB-U', '0.6840'],\n",
       "       ['WB-U', '0.6840'],\n",
       "       ['WB-U', '0.6840'],\n",
       "       ['WB-U', '0.4180'],\n",
       "       ['WB-U', '0.2470'],\n",
       "       ['WB-U', '1.8220'],\n",
       "       ['WB-U', '1.8390'],\n",
       "       ['WB-U', '0.9200'],\n",
       "       ['WB-U', '1.8850'],\n",
       "       ['WB-U', '1.8850'],\n",
       "       ['WB-U', '1.2850'],\n",
       "       ['WB-G', '0.4070'],\n",
       "       ['WB-U', '0.6430'],\n",
       "       ['WB-G', nan],\n",
       "       ['WB-G', nan],\n",
       "       ['WB-G', nan],\n",
       "       ['WB-G', nan],\n",
       "       ['WB-G', nan],\n",
       "       ['WB-G', nan],\n",
       "       ['WB-G', nan],\n",
       "       ['WB-U', nan],\n",
       "       ['WB-G', nan],\n",
       "       ['WB-G', nan],\n",
       "       ['WB-G', nan],\n",
       "       ['WB-G', nan],\n",
       "       ['WB-G', nan],\n",
       "       ['WB-G', nan],\n",
       "       ['WB-G', nan],\n",
       "       ['WB-G', nan],\n",
       "       ['WB-G', nan],\n",
       "       ['WB-G', nan],\n",
       "       ['WB-G', nan],\n",
       "       ['WB-G', nan],\n",
       "       ['WB-G', nan],\n",
       "       ['WB-G', nan],\n",
       "       ['WB-G', nan],\n",
       "       ['WB-G', nan],\n",
       "       ['WB-G', nan],\n",
       "       ['WB-G', nan],\n",
       "       ['Kaltfeinblech', 'Ölung zu gering (DR3)'],\n",
       "       ['Kaltfeinblech', 'mit Dressieröl dressiert (CL4)'],\n",
       "       ['Kaltfeinblech', 'lange Schale (TS)'],\n",
       "       ['Kaltfeinblech', 'Ölung zu hoch (CL4)'],\n",
       "       ['Kaltfeinblech', 'zu dünn / Unterdicke (TAN)'],\n",
       "       ['Kaltfeinblech', 'Ölung zu hoch (CL4)'],\n",
       "       ['Kaltfeinblech', 'Standstelle/Verfärbungen (KB2)'],\n",
       "       ['ELO verzinkt', 'A'],\n",
       "       ['ELO verzinkt', 'A'],\n",
       "       ['ELO verzinkt', 'A'],\n",
       "       ['ELO verzinkt', 'A'],\n",
       "       ['ELO verzinkt', 'A'],\n",
       "       ['ELO verzinkt', 'A'],\n",
       "       ['ELO verzinkt', 'A'],\n",
       "       ['ELO verzinkt', 'A'],\n",
       "       ['ELO verzinkt', 'A'],\n",
       "       ['WB-U', '0.6840'],\n",
       "       ['WB-U', '1.0630']], dtype=object)"
      ]
     },
     "execution_count": 318,
     "metadata": {},
     "output_type": "execute_result"
    }
   ],
   "source": [
    "df1[[\"Cluster\", \"Manganese Content\"]].values"
   ]
  },
  {
   "cell_type": "code",
   "execution_count": 319,
   "id": "5d946ef4-e51c-4a4e-b199-6959c18c6300",
   "metadata": {},
   "outputs": [
    {
     "data": {
      "text/html": [
       "<div>\n",
       "<style scoped>\n",
       "    .dataframe tbody tr th:only-of-type {\n",
       "        vertical-align: middle;\n",
       "    }\n",
       "\n",
       "    .dataframe tbody tr th {\n",
       "        vertical-align: top;\n",
       "    }\n",
       "\n",
       "    .dataframe thead th {\n",
       "        text-align: right;\n",
       "    }\n",
       "</style>\n",
       "<table border=\"1\" class=\"dataframe\">\n",
       "  <thead>\n",
       "    <tr style=\"text-align: right;\">\n",
       "      <th></th>\n",
       "      <th>Cluster</th>\n",
       "      <th>Yield Strength</th>\n",
       "      <th>Tensile Strength</th>\n",
       "      <th>Elongation</th>\n",
       "    </tr>\n",
       "  </thead>\n",
       "  <tbody>\n",
       "    <tr>\n",
       "      <th>0</th>\n",
       "      <td>WB-G</td>\n",
       "      <td>NaN</td>\n",
       "      <td>NaN</td>\n",
       "      <td>NaN</td>\n",
       "    </tr>\n",
       "    <tr>\n",
       "      <th>1</th>\n",
       "      <td>WB-G</td>\n",
       "      <td>NaN</td>\n",
       "      <td>NaN</td>\n",
       "      <td>NaN</td>\n",
       "    </tr>\n",
       "    <tr>\n",
       "      <th>2</th>\n",
       "      <td>WB-U</td>\n",
       "      <td>0.000</td>\n",
       "      <td>0.00</td>\n",
       "      <td>0.0</td>\n",
       "    </tr>\n",
       "    <tr>\n",
       "      <th>3</th>\n",
       "      <td>WB-U</td>\n",
       "      <td>0.000</td>\n",
       "      <td>0.00</td>\n",
       "      <td>0.0</td>\n",
       "    </tr>\n",
       "    <tr>\n",
       "      <th>4</th>\n",
       "      <td>Spaltband</td>\n",
       "      <td>NaN</td>\n",
       "      <td>NaN</td>\n",
       "      <td>NaN</td>\n",
       "    </tr>\n",
       "    <tr>\n",
       "      <th>...</th>\n",
       "      <td>...</td>\n",
       "      <td>...</td>\n",
       "      <td>...</td>\n",
       "      <td>...</td>\n",
       "    </tr>\n",
       "    <tr>\n",
       "      <th>81</th>\n",
       "      <td>ELO verzinkt</td>\n",
       "      <td>1420.000</td>\n",
       "      <td>456.00</td>\n",
       "      <td>500.0</td>\n",
       "    </tr>\n",
       "    <tr>\n",
       "      <th>82</th>\n",
       "      <td>ELO verzinkt</td>\n",
       "      <td>1370.000</td>\n",
       "      <td>457.00</td>\n",
       "      <td>270.0</td>\n",
       "    </tr>\n",
       "    <tr>\n",
       "      <th>83</th>\n",
       "      <td>ELO verzinkt</td>\n",
       "      <td>1350.000</td>\n",
       "      <td>459.00</td>\n",
       "      <td>320.0</td>\n",
       "    </tr>\n",
       "    <tr>\n",
       "      <th>84</th>\n",
       "      <td>WB-U</td>\n",
       "      <td>1.297</td>\n",
       "      <td>1.38</td>\n",
       "      <td>9.0</td>\n",
       "    </tr>\n",
       "    <tr>\n",
       "      <th>85</th>\n",
       "      <td>WB-U</td>\n",
       "      <td>0.000</td>\n",
       "      <td>0.00</td>\n",
       "      <td>0.0</td>\n",
       "    </tr>\n",
       "  </tbody>\n",
       "</table>\n",
       "<p>86 rows × 4 columns</p>\n",
       "</div>"
      ],
      "text/plain": [
       "         Cluster  Yield Strength  Tensile Strength  Elongation\n",
       "0           WB-G             NaN               NaN         NaN\n",
       "1           WB-G             NaN               NaN         NaN\n",
       "2           WB-U           0.000              0.00         0.0\n",
       "3           WB-U           0.000              0.00         0.0\n",
       "4      Spaltband             NaN               NaN         NaN\n",
       "..           ...             ...               ...         ...\n",
       "81  ELO verzinkt        1420.000            456.00       500.0\n",
       "82  ELO verzinkt        1370.000            457.00       270.0\n",
       "83  ELO verzinkt        1350.000            459.00       320.0\n",
       "84          WB-U           1.297              1.38         9.0\n",
       "85          WB-U           0.000              0.00         0.0\n",
       "\n",
       "[86 rows x 4 columns]"
      ]
     },
     "execution_count": 319,
     "metadata": {},
     "output_type": "execute_result"
    }
   ],
   "source": [
    "df1[[\"Cluster\", \"Yield Strength\", \"Tensile Strength\", \"Elongation\"]]"
   ]
  },
  {
   "cell_type": "markdown",
   "id": "3f7a1419-ee1e-4485-8582-8cdbeed0bc57",
   "metadata": {},
   "source": [
    "Following numerical columns also contains missing values, the generalised column named 'Cluster' will be used to imputer their values based on context."
   ]
  },
  {
   "cell_type": "code",
   "execution_count": 320,
   "id": "579ffcbd-d408-437a-81a5-44b748583634",
   "metadata": {},
   "outputs": [
    {
     "data": {
      "text/plain": [
       "Index(['Quality of Material', 'Order Grade Text',\n",
       "       'Nominal Thickness (mm with decimal point)', 'Width', 'Length',\n",
       "       'Weight (kg)', 'Cluster', 'Silicon Content', 'Manganese Content',\n",
       "       'Phosphorus Content', 'Sulfur Content', 'Chromium Content',\n",
       "       'Nickel Content', 'Molybdenum Content', 'Vanadium Content',\n",
       "       'Copper Content', 'Niobium Content', 'Titanium Content',\n",
       "       'Aluminum Content', 'Boron Content', 'Yield Strength',\n",
       "       'Tensile Strength', 'Elongation'],\n",
       "      dtype='object')"
      ]
     },
     "execution_count": 320,
     "metadata": {},
     "output_type": "execute_result"
    }
   ],
   "source": [
    "df1.columns"
   ]
  },
  {
   "cell_type": "code",
   "execution_count": 321,
   "id": "685a6e42-9e4b-4a04-b591-9fead91d80e1",
   "metadata": {},
   "outputs": [
    {
     "name": "stderr",
     "output_type": "stream",
     "text": [
      "C:\\Users\\kaleem\\AppData\\Local\\Programs\\Python\\Python311\\Lib\\site-packages\\numpy\\lib\\_nanfunctions_impl.py:1231: RuntimeWarning: Mean of empty slice\n",
      "  return np.nanmean(a, axis, out=out, keepdims=keepdims)\n",
      "C:\\Users\\kaleem\\AppData\\Local\\Programs\\Python\\Python311\\Lib\\site-packages\\numpy\\lib\\_nanfunctions_impl.py:1231: RuntimeWarning: Mean of empty slice\n",
      "  return np.nanmean(a, axis, out=out, keepdims=keepdims)\n",
      "C:\\Users\\kaleem\\AppData\\Local\\Programs\\Python\\Python311\\Lib\\site-packages\\numpy\\lib\\_nanfunctions_impl.py:1231: RuntimeWarning: Mean of empty slice\n",
      "  return np.nanmean(a, axis, out=out, keepdims=keepdims)\n",
      "C:\\Users\\kaleem\\AppData\\Local\\Programs\\Python\\Python311\\Lib\\site-packages\\numpy\\lib\\_nanfunctions_impl.py:1231: RuntimeWarning: Mean of empty slice\n",
      "  return np.nanmean(a, axis, out=out, keepdims=keepdims)\n",
      "C:\\Users\\kaleem\\AppData\\Local\\Programs\\Python\\Python311\\Lib\\site-packages\\numpy\\lib\\_nanfunctions_impl.py:1231: RuntimeWarning: Mean of empty slice\n",
      "  return np.nanmean(a, axis, out=out, keepdims=keepdims)\n",
      "C:\\Users\\kaleem\\AppData\\Local\\Programs\\Python\\Python311\\Lib\\site-packages\\numpy\\lib\\_nanfunctions_impl.py:1231: RuntimeWarning: Mean of empty slice\n",
      "  return np.nanmean(a, axis, out=out, keepdims=keepdims)\n",
      "C:\\Users\\kaleem\\AppData\\Local\\Programs\\Python\\Python311\\Lib\\site-packages\\numpy\\lib\\_nanfunctions_impl.py:1231: RuntimeWarning: Mean of empty slice\n",
      "  return np.nanmean(a, axis, out=out, keepdims=keepdims)\n",
      "C:\\Users\\kaleem\\AppData\\Local\\Programs\\Python\\Python311\\Lib\\site-packages\\numpy\\lib\\_nanfunctions_impl.py:1231: RuntimeWarning: Mean of empty slice\n",
      "  return np.nanmean(a, axis, out=out, keepdims=keepdims)\n",
      "C:\\Users\\kaleem\\AppData\\Local\\Programs\\Python\\Python311\\Lib\\site-packages\\numpy\\lib\\_nanfunctions_impl.py:1231: RuntimeWarning: Mean of empty slice\n",
      "  return np.nanmean(a, axis, out=out, keepdims=keepdims)\n",
      "C:\\Users\\kaleem\\AppData\\Local\\Programs\\Python\\Python311\\Lib\\site-packages\\numpy\\lib\\_nanfunctions_impl.py:1231: RuntimeWarning: Mean of empty slice\n",
      "  return np.nanmean(a, axis, out=out, keepdims=keepdims)\n",
      "C:\\Users\\kaleem\\AppData\\Local\\Programs\\Python\\Python311\\Lib\\site-packages\\numpy\\lib\\_nanfunctions_impl.py:1231: RuntimeWarning: Mean of empty slice\n",
      "  return np.nanmean(a, axis, out=out, keepdims=keepdims)\n",
      "C:\\Users\\kaleem\\AppData\\Local\\Programs\\Python\\Python311\\Lib\\site-packages\\numpy\\lib\\_nanfunctions_impl.py:1231: RuntimeWarning: Mean of empty slice\n",
      "  return np.nanmean(a, axis, out=out, keepdims=keepdims)\n",
      "C:\\Users\\kaleem\\AppData\\Local\\Programs\\Python\\Python311\\Lib\\site-packages\\numpy\\lib\\_nanfunctions_impl.py:1231: RuntimeWarning: Mean of empty slice\n",
      "  return np.nanmean(a, axis, out=out, keepdims=keepdims)\n",
      "C:\\Users\\kaleem\\AppData\\Local\\Programs\\Python\\Python311\\Lib\\site-packages\\numpy\\lib\\_nanfunctions_impl.py:1231: RuntimeWarning: Mean of empty slice\n",
      "  return np.nanmean(a, axis, out=out, keepdims=keepdims)\n",
      "C:\\Users\\kaleem\\AppData\\Local\\Programs\\Python\\Python311\\Lib\\site-packages\\numpy\\lib\\_nanfunctions_impl.py:1231: RuntimeWarning: Mean of empty slice\n",
      "  return np.nanmean(a, axis, out=out, keepdims=keepdims)\n",
      "C:\\Users\\kaleem\\AppData\\Local\\Programs\\Python\\Python311\\Lib\\site-packages\\numpy\\lib\\_nanfunctions_impl.py:1231: RuntimeWarning: Mean of empty slice\n",
      "  return np.nanmean(a, axis, out=out, keepdims=keepdims)\n",
      "C:\\Users\\kaleem\\AppData\\Local\\Programs\\Python\\Python311\\Lib\\site-packages\\numpy\\lib\\_nanfunctions_impl.py:1231: RuntimeWarning: Mean of empty slice\n",
      "  return np.nanmean(a, axis, out=out, keepdims=keepdims)\n",
      "C:\\Users\\kaleem\\AppData\\Local\\Programs\\Python\\Python311\\Lib\\site-packages\\numpy\\lib\\_nanfunctions_impl.py:1231: RuntimeWarning: Mean of empty slice\n",
      "  return np.nanmean(a, axis, out=out, keepdims=keepdims)\n",
      "C:\\Users\\kaleem\\AppData\\Local\\Programs\\Python\\Python311\\Lib\\site-packages\\numpy\\lib\\_nanfunctions_impl.py:1231: RuntimeWarning: Mean of empty slice\n",
      "  return np.nanmean(a, axis, out=out, keepdims=keepdims)\n",
      "C:\\Users\\kaleem\\AppData\\Local\\Programs\\Python\\Python311\\Lib\\site-packages\\numpy\\lib\\_nanfunctions_impl.py:1231: RuntimeWarning: Mean of empty slice\n",
      "  return np.nanmean(a, axis, out=out, keepdims=keepdims)\n",
      "C:\\Users\\kaleem\\AppData\\Local\\Programs\\Python\\Python311\\Lib\\site-packages\\numpy\\lib\\_nanfunctions_impl.py:1231: RuntimeWarning: Mean of empty slice\n",
      "  return np.nanmean(a, axis, out=out, keepdims=keepdims)\n",
      "C:\\Users\\kaleem\\AppData\\Local\\Programs\\Python\\Python311\\Lib\\site-packages\\numpy\\lib\\_nanfunctions_impl.py:1231: RuntimeWarning: Mean of empty slice\n",
      "  return np.nanmean(a, axis, out=out, keepdims=keepdims)\n",
      "C:\\Users\\kaleem\\AppData\\Local\\Programs\\Python\\Python311\\Lib\\site-packages\\numpy\\lib\\_nanfunctions_impl.py:1231: RuntimeWarning: Mean of empty slice\n",
      "  return np.nanmean(a, axis, out=out, keepdims=keepdims)\n",
      "C:\\Users\\kaleem\\AppData\\Local\\Programs\\Python\\Python311\\Lib\\site-packages\\numpy\\lib\\_nanfunctions_impl.py:1231: RuntimeWarning: Mean of empty slice\n",
      "  return np.nanmean(a, axis, out=out, keepdims=keepdims)\n",
      "C:\\Users\\kaleem\\AppData\\Local\\Programs\\Python\\Python311\\Lib\\site-packages\\numpy\\lib\\_nanfunctions_impl.py:1231: RuntimeWarning: Mean of empty slice\n",
      "  return np.nanmean(a, axis, out=out, keepdims=keepdims)\n",
      "C:\\Users\\kaleem\\AppData\\Local\\Programs\\Python\\Python311\\Lib\\site-packages\\numpy\\lib\\_nanfunctions_impl.py:1231: RuntimeWarning: Mean of empty slice\n",
      "  return np.nanmean(a, axis, out=out, keepdims=keepdims)\n",
      "C:\\Users\\kaleem\\AppData\\Local\\Programs\\Python\\Python311\\Lib\\site-packages\\numpy\\lib\\_nanfunctions_impl.py:1231: RuntimeWarning: Mean of empty slice\n",
      "  return np.nanmean(a, axis, out=out, keepdims=keepdims)\n",
      "C:\\Users\\kaleem\\AppData\\Local\\Programs\\Python\\Python311\\Lib\\site-packages\\numpy\\lib\\_nanfunctions_impl.py:1231: RuntimeWarning: Mean of empty slice\n",
      "  return np.nanmean(a, axis, out=out, keepdims=keepdims)\n",
      "C:\\Users\\kaleem\\AppData\\Local\\Programs\\Python\\Python311\\Lib\\site-packages\\numpy\\lib\\_nanfunctions_impl.py:1231: RuntimeWarning: Mean of empty slice\n",
      "  return np.nanmean(a, axis, out=out, keepdims=keepdims)\n",
      "C:\\Users\\kaleem\\AppData\\Local\\Programs\\Python\\Python311\\Lib\\site-packages\\numpy\\lib\\_nanfunctions_impl.py:1231: RuntimeWarning: Mean of empty slice\n",
      "  return np.nanmean(a, axis, out=out, keepdims=keepdims)\n",
      "C:\\Users\\kaleem\\AppData\\Local\\Programs\\Python\\Python311\\Lib\\site-packages\\numpy\\lib\\_nanfunctions_impl.py:1231: RuntimeWarning: Mean of empty slice\n",
      "  return np.nanmean(a, axis, out=out, keepdims=keepdims)\n",
      "C:\\Users\\kaleem\\AppData\\Local\\Programs\\Python\\Python311\\Lib\\site-packages\\numpy\\lib\\_nanfunctions_impl.py:1231: RuntimeWarning: Mean of empty slice\n",
      "  return np.nanmean(a, axis, out=out, keepdims=keepdims)\n",
      "C:\\Users\\kaleem\\AppData\\Local\\Programs\\Python\\Python311\\Lib\\site-packages\\numpy\\lib\\_nanfunctions_impl.py:1231: RuntimeWarning: Mean of empty slice\n",
      "  return np.nanmean(a, axis, out=out, keepdims=keepdims)\n",
      "C:\\Users\\kaleem\\AppData\\Local\\Programs\\Python\\Python311\\Lib\\site-packages\\numpy\\lib\\_nanfunctions_impl.py:1231: RuntimeWarning: Mean of empty slice\n",
      "  return np.nanmean(a, axis, out=out, keepdims=keepdims)\n",
      "C:\\Users\\kaleem\\AppData\\Local\\Programs\\Python\\Python311\\Lib\\site-packages\\numpy\\lib\\_nanfunctions_impl.py:1231: RuntimeWarning: Mean of empty slice\n",
      "  return np.nanmean(a, axis, out=out, keepdims=keepdims)\n"
     ]
    }
   ],
   "source": [
    "def fill_missing_gehalt(df, columns, cluster_column='Cluster'):\n",
    "    \"\"\"\n",
    "    Fills missing values in specified columns based on the median of each cluster first,\n",
    "    and if any values are still missing, fills with the overall median of the column.\n",
    "    \n",
    "    Parameters:\n",
    "    - df: The pandas DataFrame\n",
    "    - columns: List of column names (like ['Si-Gehalt', 'Mn-Gehalt', ...])\n",
    "    - cluster_column: The column used for grouping (default is 'Cluster')\n",
    "    \"\"\"\n",
    "    for col in columns:\n",
    "\n",
    "        # actual numeric columns which are non-numeric by mistake, convert them to numeric\n",
    "        df[col] = pd.to_numeric(df[col], errors='coerce')\n",
    "        \n",
    "        # First, fill NaN values with the median of each group (cluster)\n",
    "        df[col] = df.groupby(cluster_column)[col].transform(lambda x: x.fillna(x.median()))\n",
    "        \n",
    "        # If any NaNs still remain, fill them with the overall median of the column\n",
    "        overall_median = df[col].median()\n",
    "        df[col] = df[col].fillna(overall_median)\n",
    "    \n",
    "    return df\n",
    "\n",
    "# List of columns you mentioned\n",
    "gehalt_columns = ['Manganese Content',\n",
    "       'Phosphorus Content', 'Sulfur Content', 'Chromium Content',\n",
    "       'Nickel Content', 'Molybdenum Content', 'Vanadium Content',\n",
    "       'Copper Content', 'Niobium Content', 'Titanium Content',\n",
    "       'Aluminum Content', 'Boron Content', 'Yield Strength',\n",
    "       'Tensile Strength', 'Elongation']\n",
    "\n",
    "df1[gehalt_columns] = df1[gehalt_columns].apply(lambda col: fill_missing_gehalt(df1, [col.name], cluster_column='Cluster')[col.name], axis=0)"
   ]
  },
  {
   "cell_type": "code",
   "execution_count": null,
   "id": "6c398070-fb5e-4390-9d76-0aeb944c36fb",
   "metadata": {},
   "outputs": [],
   "source": []
  },
  {
   "cell_type": "code",
   "execution_count": 322,
   "id": "95e62681-15ab-482f-8963-d3fbdfb16d8a",
   "metadata": {},
   "outputs": [
    {
     "data": {
      "text/plain": [
       "Quality of Material                          0\n",
       "Order Grade Text                             0\n",
       "Nominal Thickness (mm with decimal point)    0\n",
       "Width                                        0\n",
       "Length                                       0\n",
       "Weight (kg)                                  0\n",
       "Cluster                                      0\n",
       "Silicon Content                              0\n",
       "Manganese Content                            0\n",
       "Phosphorus Content                           0\n",
       "Sulfur Content                               0\n",
       "Chromium Content                             0\n",
       "Nickel Content                               0\n",
       "Molybdenum Content                           0\n",
       "Vanadium Content                             0\n",
       "Copper Content                               0\n",
       "Niobium Content                              0\n",
       "Titanium Content                             0\n",
       "Aluminum Content                             0\n",
       "Boron Content                                0\n",
       "Yield Strength                               0\n",
       "Tensile Strength                             0\n",
       "Elongation                                   0\n",
       "dtype: int64"
      ]
     },
     "execution_count": 322,
     "metadata": {},
     "output_type": "execute_result"
    }
   ],
   "source": [
    "df1.isnull().sum()"
   ]
  },
  {
   "cell_type": "markdown",
   "id": "c7cd28e0-bad6-42ae-a67a-95f0dd6396c0",
   "metadata": {},
   "source": [
    "Now, the dataset is cleaned. Let's explore it again to see the updated version."
   ]
  },
  {
   "cell_type": "code",
   "execution_count": 323,
   "id": "8784e74b-ee5c-4a95-886d-776270476ee3",
   "metadata": {},
   "outputs": [
    {
     "data": {
      "text/html": [
       "<div>\n",
       "<style scoped>\n",
       "    .dataframe tbody tr th:only-of-type {\n",
       "        vertical-align: middle;\n",
       "    }\n",
       "\n",
       "    .dataframe tbody tr th {\n",
       "        vertical-align: top;\n",
       "    }\n",
       "\n",
       "    .dataframe thead th {\n",
       "        text-align: right;\n",
       "    }\n",
       "</style>\n",
       "<table border=\"1\" class=\"dataframe\">\n",
       "  <thead>\n",
       "    <tr style=\"text-align: right;\">\n",
       "      <th></th>\n",
       "      <th>Quality of Material</th>\n",
       "      <th>Order Grade Text</th>\n",
       "      <th>Nominal Thickness (mm with decimal point)</th>\n",
       "      <th>Width</th>\n",
       "      <th>Length</th>\n",
       "      <th>Weight (kg)</th>\n",
       "      <th>Cluster</th>\n",
       "      <th>Silicon Content</th>\n",
       "      <th>Manganese Content</th>\n",
       "      <th>Phosphorus Content</th>\n",
       "      <th>...</th>\n",
       "      <th>Molybdenum Content</th>\n",
       "      <th>Vanadium Content</th>\n",
       "      <th>Copper Content</th>\n",
       "      <th>Niobium Content</th>\n",
       "      <th>Titanium Content</th>\n",
       "      <th>Aluminum Content</th>\n",
       "      <th>Boron Content</th>\n",
       "      <th>Yield Strength</th>\n",
       "      <th>Tensile Strength</th>\n",
       "      <th>Elongation</th>\n",
       "    </tr>\n",
       "  </thead>\n",
       "  <tbody>\n",
       "    <tr>\n",
       "      <th>0</th>\n",
       "      <td>G2UB5</td>\n",
       "      <td>SZBS800</td>\n",
       "      <td>320</td>\n",
       "      <td>856.0</td>\n",
       "      <td>787.0</td>\n",
       "      <td>16.490</td>\n",
       "      <td>WB-G</td>\n",
       "      <td>0.284</td>\n",
       "      <td>0.365</td>\n",
       "      <td>0.0105</td>\n",
       "      <td>...</td>\n",
       "      <td>0.107</td>\n",
       "      <td>10.0</td>\n",
       "      <td>165.0</td>\n",
       "      <td>9.0</td>\n",
       "      <td>36.0</td>\n",
       "      <td>430.0</td>\n",
       "      <td>1.5</td>\n",
       "      <td>400.0</td>\n",
       "      <td>0.5205</td>\n",
       "      <td>7.0</td>\n",
       "    </tr>\n",
       "    <tr>\n",
       "      <th>1</th>\n",
       "      <td>G2UJ5</td>\n",
       "      <td>SZBS800</td>\n",
       "      <td>339</td>\n",
       "      <td>918.0</td>\n",
       "      <td>707.0</td>\n",
       "      <td>17.160</td>\n",
       "      <td>WB-G</td>\n",
       "      <td>0.284</td>\n",
       "      <td>0.365</td>\n",
       "      <td>0.0105</td>\n",
       "      <td>...</td>\n",
       "      <td>0.107</td>\n",
       "      <td>10.0</td>\n",
       "      <td>165.0</td>\n",
       "      <td>9.0</td>\n",
       "      <td>36.0</td>\n",
       "      <td>430.0</td>\n",
       "      <td>1.5</td>\n",
       "      <td>400.0</td>\n",
       "      <td>0.5205</td>\n",
       "      <td>7.0</td>\n",
       "    </tr>\n",
       "    <tr>\n",
       "      <th>2</th>\n",
       "      <td>C3318</td>\n",
       "      <td>LICRO 500</td>\n",
       "      <td>452</td>\n",
       "      <td>1,839.0</td>\n",
       "      <td>300.0</td>\n",
       "      <td>18.700</td>\n",
       "      <td>WB-U</td>\n",
       "      <td>0.254</td>\n",
       "      <td>1.278</td>\n",
       "      <td>0.0080</td>\n",
       "      <td>...</td>\n",
       "      <td>0.009</td>\n",
       "      <td>20.0</td>\n",
       "      <td>290.0</td>\n",
       "      <td>12.0</td>\n",
       "      <td>320.0</td>\n",
       "      <td>320.0</td>\n",
       "      <td>25.0</td>\n",
       "      <td>0.0</td>\n",
       "      <td>0.0000</td>\n",
       "      <td>0.0</td>\n",
       "    </tr>\n",
       "    <tr>\n",
       "      <th>3</th>\n",
       "      <td>C3U15</td>\n",
       "      <td>S380MC mod. 4</td>\n",
       "      <td>532</td>\n",
       "      <td>1,160.0</td>\n",
       "      <td>461.0</td>\n",
       "      <td>22.011</td>\n",
       "      <td>WB-U</td>\n",
       "      <td>0.225</td>\n",
       "      <td>1.063</td>\n",
       "      <td>0.0100</td>\n",
       "      <td>...</td>\n",
       "      <td>0.006</td>\n",
       "      <td>30.0</td>\n",
       "      <td>150.0</td>\n",
       "      <td>320.0</td>\n",
       "      <td>989.0</td>\n",
       "      <td>430.0</td>\n",
       "      <td>1.0</td>\n",
       "      <td>0.0</td>\n",
       "      <td>0.0000</td>\n",
       "      <td>0.0</td>\n",
       "    </tr>\n",
       "    <tr>\n",
       "      <th>4</th>\n",
       "      <td>G3UB5</td>\n",
       "      <td>SZBE800</td>\n",
       "      <td>451</td>\n",
       "      <td>727.2</td>\n",
       "      <td>557.0</td>\n",
       "      <td>14.020</td>\n",
       "      <td>Spaltband</td>\n",
       "      <td>0.284</td>\n",
       "      <td>0.643</td>\n",
       "      <td>0.0105</td>\n",
       "      <td>...</td>\n",
       "      <td>0.107</td>\n",
       "      <td>20.0</td>\n",
       "      <td>165.0</td>\n",
       "      <td>14.0</td>\n",
       "      <td>36.0</td>\n",
       "      <td>430.0</td>\n",
       "      <td>1.5</td>\n",
       "      <td>400.0</td>\n",
       "      <td>0.5205</td>\n",
       "      <td>7.0</td>\n",
       "    </tr>\n",
       "  </tbody>\n",
       "</table>\n",
       "<p>5 rows × 23 columns</p>\n",
       "</div>"
      ],
      "text/plain": [
       "  Quality of Material Order Grade Text  \\\n",
       "0               G2UB5          SZBS800   \n",
       "1               G2UJ5          SZBS800   \n",
       "2               C3318        LICRO 500   \n",
       "3               C3U15    S380MC mod. 4   \n",
       "4               G3UB5          SZBE800   \n",
       "\n",
       "   Nominal Thickness (mm with decimal point)    Width  Length  Weight (kg)  \\\n",
       "0                                        320    856.0   787.0       16.490   \n",
       "1                                        339    918.0   707.0       17.160   \n",
       "2                                        452  1,839.0   300.0       18.700   \n",
       "3                                        532  1,160.0   461.0       22.011   \n",
       "4                                        451    727.2   557.0       14.020   \n",
       "\n",
       "     Cluster  Silicon Content  Manganese Content  Phosphorus Content  ...  \\\n",
       "0       WB-G            0.284              0.365              0.0105  ...   \n",
       "1       WB-G            0.284              0.365              0.0105  ...   \n",
       "2       WB-U            0.254              1.278              0.0080  ...   \n",
       "3       WB-U            0.225              1.063              0.0100  ...   \n",
       "4  Spaltband            0.284              0.643              0.0105  ...   \n",
       "\n",
       "   Molybdenum Content  Vanadium Content  Copper Content  Niobium Content  \\\n",
       "0               0.107              10.0           165.0              9.0   \n",
       "1               0.107              10.0           165.0              9.0   \n",
       "2               0.009              20.0           290.0             12.0   \n",
       "3               0.006              30.0           150.0            320.0   \n",
       "4               0.107              20.0           165.0             14.0   \n",
       "\n",
       "   Titanium Content  Aluminum Content  Boron Content  Yield Strength  \\\n",
       "0              36.0             430.0            1.5           400.0   \n",
       "1              36.0             430.0            1.5           400.0   \n",
       "2             320.0             320.0           25.0             0.0   \n",
       "3             989.0             430.0            1.0             0.0   \n",
       "4              36.0             430.0            1.5           400.0   \n",
       "\n",
       "   Tensile Strength  Elongation  \n",
       "0            0.5205         7.0  \n",
       "1            0.5205         7.0  \n",
       "2            0.0000         0.0  \n",
       "3            0.0000         0.0  \n",
       "4            0.5205         7.0  \n",
       "\n",
       "[5 rows x 23 columns]"
      ]
     },
     "execution_count": 323,
     "metadata": {},
     "output_type": "execute_result"
    }
   ],
   "source": [
    "df1.head()"
   ]
  },
  {
   "cell_type": "code",
   "execution_count": null,
   "id": "5bb3c810-1eba-4b9f-baf0-f4208c716690",
   "metadata": {},
   "outputs": [],
   "source": []
  },
  {
   "cell_type": "code",
   "execution_count": null,
   "id": "8405b0bb-f0be-4cdf-9090-1d70b3bce7b2",
   "metadata": {},
   "outputs": [],
   "source": []
  },
  {
   "cell_type": "code",
   "execution_count": null,
   "id": "36388f11-398c-46ee-b6cd-9ac379f953f9",
   "metadata": {},
   "outputs": [],
   "source": []
  },
  {
   "cell_type": "code",
   "execution_count": null,
   "id": "9e46ed6e-bc49-4b4a-8e08-b12493411f4f",
   "metadata": {},
   "outputs": [],
   "source": []
  },
  {
   "cell_type": "code",
   "execution_count": null,
   "id": "82b0db6b-efad-4fe8-bdb9-db9e85ec9424",
   "metadata": {},
   "outputs": [],
   "source": []
  },
  {
   "cell_type": "code",
   "execution_count": null,
   "id": "3d35a624-630c-4377-951a-0a1962ebf8c8",
   "metadata": {},
   "outputs": [],
   "source": []
  },
  {
   "cell_type": "code",
   "execution_count": null,
   "id": "52241114-a136-468f-9d21-cbdc436a1abd",
   "metadata": {},
   "outputs": [],
   "source": []
  },
  {
   "cell_type": "code",
   "execution_count": null,
   "id": "30aeaae1-e788-4972-9e61-d11a75778f0d",
   "metadata": {},
   "outputs": [],
   "source": []
  },
  {
   "cell_type": "code",
   "execution_count": null,
   "id": "09a8b7f1-de1b-474a-ba68-35f73689e952",
   "metadata": {},
   "outputs": [],
   "source": []
  },
  {
   "cell_type": "code",
   "execution_count": null,
   "id": "7f717533-a164-40dc-86f9-ebb79f9869a3",
   "metadata": {},
   "outputs": [],
   "source": []
  },
  {
   "cell_type": "markdown",
   "id": "54516c7c-5965-4fe5-ada4-bded62acf06e",
   "metadata": {},
   "source": [
    "### Data Exploration\n",
    "##### supplier_data_2.xlsx"
   ]
  },
  {
   "cell_type": "code",
   "execution_count": 154,
   "id": "081d0cd8-0c6a-4bf4-8e5d-0ff0e9bdd140",
   "metadata": {},
   "outputs": [
    {
     "data": {
      "text/html": [
       "<div>\n",
       "<style scoped>\n",
       "    .dataframe tbody tr th:only-of-type {\n",
       "        vertical-align: middle;\n",
       "    }\n",
       "\n",
       "    .dataframe tbody tr th {\n",
       "        vertical-align: top;\n",
       "    }\n",
       "\n",
       "    .dataframe thead th {\n",
       "        text-align: right;\n",
       "    }\n",
       "</style>\n",
       "<table border=\"1\" class=\"dataframe\">\n",
       "  <thead>\n",
       "    <tr style=\"text-align: right;\">\n",
       "      <th></th>\n",
       "      <th>PRODUCT_TYPE</th>\n",
       "      <th>ORDER_ID</th>\n",
       "      <th>SITE</th>\n",
       "      <th>MATERIAL_NAME</th>\n",
       "      <th>MATERIAL_NUMBER</th>\n",
       "      <th>MATERIAL_QUALITY_NORM</th>\n",
       "      <th>SURFACE_COATING</th>\n",
       "      <th>DEFECT_NOTES</th>\n",
       "      <th>NOMINAL_THICKNESS_MM</th>\n",
       "      <th>WIDTH_MM</th>\n",
       "      <th>...</th>\n",
       "      <th>HEIGHT_MM</th>\n",
       "      <th>MASS_MIN_KG</th>\n",
       "      <th>NUMBER_OF_COILS</th>\n",
       "      <th>DELIVERY_EARLIEST</th>\n",
       "      <th>DELIVERY_LATEST</th>\n",
       "      <th>INCO_TERM</th>\n",
       "      <th>BUY_NOW_EUR_PER_TON</th>\n",
       "      <th>MIN/MAX_BID_EUR_PER_TON</th>\n",
       "      <th>CO2_PER_TON_MAX_KG</th>\n",
       "      <th>VALID_UNTIL</th>\n",
       "    </tr>\n",
       "  </thead>\n",
       "  <tbody>\n",
       "    <tr>\n",
       "      <th>0</th>\n",
       "      <td>SHEET</td>\n",
       "      <td>436765</td>\n",
       "      <td>1 company gmbh</td>\n",
       "      <td>S235JR</td>\n",
       "      <td>1.0038</td>\n",
       "      <td>DIN EN 10025</td>\n",
       "      <td>NaN</td>\n",
       "      <td>DEKL-S235JR  / D2A EID</td>\n",
       "      <td>11.859</td>\n",
       "      <td>1509</td>\n",
       "      <td>...</td>\n",
       "      <td>NaN</td>\n",
       "      <td>2091</td>\n",
       "      <td>NaN</td>\n",
       "      <td>NaN</td>\n",
       "      <td>NaN</td>\n",
       "      <td>FCA</td>\n",
       "      <td>600.0</td>\n",
       "      <td>NaN</td>\n",
       "      <td>NaN</td>\n",
       "      <td>20/02/2025 11:00</td>\n",
       "    </tr>\n",
       "    <tr>\n",
       "      <th>1</th>\n",
       "      <td>SHEET</td>\n",
       "      <td>436754</td>\n",
       "      <td>1 company gmbh</td>\n",
       "      <td>S355MC</td>\n",
       "      <td>1.0976</td>\n",
       "      <td>DIN EN 10149</td>\n",
       "      <td>NaN</td>\n",
       "      <td>NaN</td>\n",
       "      <td>8.057</td>\n",
       "      <td>1011</td>\n",
       "      <td>...</td>\n",
       "      <td>NaN</td>\n",
       "      <td>2411</td>\n",
       "      <td>NaN</td>\n",
       "      <td>NaN</td>\n",
       "      <td>NaN</td>\n",
       "      <td>FCA</td>\n",
       "      <td>600.0</td>\n",
       "      <td>NaN</td>\n",
       "      <td>NaN</td>\n",
       "      <td>20/02/2025 11:00</td>\n",
       "    </tr>\n",
       "    <tr>\n",
       "      <th>2</th>\n",
       "      <td>SHEET</td>\n",
       "      <td>436755</td>\n",
       "      <td>1 company gmbh</td>\n",
       "      <td>NaN</td>\n",
       "      <td>1.0976</td>\n",
       "      <td>DIN EN 10149</td>\n",
       "      <td>NaN</td>\n",
       "      <td>DEKL-S355MC  / D2A WEH</td>\n",
       "      <td>8.057</td>\n",
       "      <td>1010</td>\n",
       "      <td>...</td>\n",
       "      <td>NaN</td>\n",
       "      <td>2251</td>\n",
       "      <td>NaN</td>\n",
       "      <td>NaN</td>\n",
       "      <td>NaN</td>\n",
       "      <td>FKA</td>\n",
       "      <td>600.0</td>\n",
       "      <td>NaN</td>\n",
       "      <td>NaN</td>\n",
       "      <td>2025-02-20 11:00</td>\n",
       "    </tr>\n",
       "    <tr>\n",
       "      <th>3</th>\n",
       "      <td>SHEET</td>\n",
       "      <td>436757</td>\n",
       "      <td>1 company gmbh</td>\n",
       "      <td>S355MC</td>\n",
       "      <td>1.0976</td>\n",
       "      <td>NaN</td>\n",
       "      <td>NaN</td>\n",
       "      <td>DEKL-S355MC  / D2A WEH</td>\n",
       "      <td>8.057</td>\n",
       "      <td>1011</td>\n",
       "      <td>...</td>\n",
       "      <td>NaN</td>\n",
       "      <td>2401</td>\n",
       "      <td>NaN</td>\n",
       "      <td>NaN</td>\n",
       "      <td>NaN</td>\n",
       "      <td>FCA</td>\n",
       "      <td>600.0</td>\n",
       "      <td>NaN</td>\n",
       "      <td>NaN</td>\n",
       "      <td>2025-02-20 11:00</td>\n",
       "    </tr>\n",
       "    <tr>\n",
       "      <th>4</th>\n",
       "      <td>SHEET</td>\n",
       "      <td>436758</td>\n",
       "      <td>1 company gmbh</td>\n",
       "      <td>S355MC</td>\n",
       "      <td>1.0976</td>\n",
       "      <td>DN EN 10149</td>\n",
       "      <td>NaN</td>\n",
       "      <td>DEKL-S355MC  / D2A WEH</td>\n",
       "      <td>8.057</td>\n",
       "      <td>1010</td>\n",
       "      <td>...</td>\n",
       "      <td>NaN</td>\n",
       "      <td>2401</td>\n",
       "      <td>NaN</td>\n",
       "      <td>NaN</td>\n",
       "      <td>NaN</td>\n",
       "      <td>FCA</td>\n",
       "      <td>600.0</td>\n",
       "      <td>NaN</td>\n",
       "      <td>NaN</td>\n",
       "      <td>2025-02-20 11:00</td>\n",
       "    </tr>\n",
       "  </tbody>\n",
       "</table>\n",
       "<p>5 rows × 21 columns</p>\n",
       "</div>"
      ],
      "text/plain": [
       "  PRODUCT_TYPE  ORDER_ID            SITE MATERIAL_NAME  MATERIAL_NUMBER  \\\n",
       "0        SHEET    436765  1 company gmbh        S235JR           1.0038   \n",
       "1        SHEET    436754  1 company gmbh        S355MC           1.0976   \n",
       "2        SHEET    436755  1 company gmbh           NaN           1.0976   \n",
       "3        SHEET    436757  1 company gmbh        S355MC           1.0976   \n",
       "4        SHEET    436758  1 company gmbh        S355MC           1.0976   \n",
       "\n",
       "  MATERIAL_QUALITY_NORM  SURFACE_COATING            DEFECT_NOTES  \\\n",
       "0          DIN EN 10025              NaN  DEKL-S235JR  / D2A EID   \n",
       "1          DIN EN 10149              NaN                     NaN   \n",
       "2          DIN EN 10149              NaN  DEKL-S355MC  / D2A WEH   \n",
       "3                   NaN              NaN  DEKL-S355MC  / D2A WEH   \n",
       "4           DN EN 10149              NaN  DEKL-S355MC  / D2A WEH   \n",
       "\n",
       "   NOMINAL_THICKNESS_MM  WIDTH_MM  ...  HEIGHT_MM  MASS_MIN_KG  \\\n",
       "0                11.859      1509  ...        NaN         2091   \n",
       "1                 8.057      1011  ...        NaN         2411   \n",
       "2                 8.057      1010  ...        NaN         2251   \n",
       "3                 8.057      1011  ...        NaN         2401   \n",
       "4                 8.057      1010  ...        NaN         2401   \n",
       "\n",
       "   NUMBER_OF_COILS  DELIVERY_EARLIEST  DELIVERY_LATEST  INCO_TERM  \\\n",
       "0              NaN                NaN              NaN        FCA   \n",
       "1              NaN                NaN              NaN        FCA   \n",
       "2              NaN                NaN              NaN        FKA   \n",
       "3              NaN                NaN              NaN        FCA   \n",
       "4              NaN                NaN              NaN        FCA   \n",
       "\n",
       "  BUY_NOW_EUR_PER_TON  MIN/MAX_BID_EUR_PER_TON  CO2_PER_TON_MAX_KG  \\\n",
       "0               600.0                      NaN                 NaN   \n",
       "1               600.0                      NaN                 NaN   \n",
       "2               600.0                      NaN                 NaN   \n",
       "3               600.0                      NaN                 NaN   \n",
       "4               600.0                      NaN                 NaN   \n",
       "\n",
       "        VALID_UNTIL  \n",
       "0  20/02/2025 11:00  \n",
       "1  20/02/2025 11:00  \n",
       "2  2025-02-20 11:00  \n",
       "3  2025-02-20 11:00  \n",
       "4  2025-02-20 11:00  \n",
       "\n",
       "[5 rows x 21 columns]"
      ]
     },
     "execution_count": 154,
     "metadata": {},
     "output_type": "execute_result"
    }
   ],
   "source": [
    "df2 = pd.read_excel(dataset2_file)\n",
    "df2.head()"
   ]
  },
  {
   "cell_type": "markdown",
   "id": "06d37146-c5db-454a-b2e6-93314c1437c0",
   "metadata": {},
   "source": [
    "Similarly, to first dataset, this dataset also contains several missing values, with few columns corrupted completely."
   ]
  },
  {
   "cell_type": "code",
   "execution_count": 155,
   "id": "bada2cfc-cb01-4d10-8423-5305be21452c",
   "metadata": {},
   "outputs": [
    {
     "name": "stdout",
     "output_type": "stream",
     "text": [
      "<class 'pandas.core.frame.DataFrame'>\n",
      "RangeIndex: 136 entries, 0 to 135\n",
      "Data columns (total 21 columns):\n",
      " #   Column                   Non-Null Count  Dtype  \n",
      "---  ------                   --------------  -----  \n",
      " 0   PRODUCT_TYPE             118 non-null    object \n",
      " 1   ORDER_ID                 136 non-null    int64  \n",
      " 2   SITE                     136 non-null    object \n",
      " 3   MATERIAL_NAME            116 non-null    object \n",
      " 4   MATERIAL_NUMBER          91 non-null     float64\n",
      " 5   MATERIAL_QUALITY_NORM    119 non-null    object \n",
      " 6   SURFACE_COATING          0 non-null      float64\n",
      " 7   DEFECT_NOTES             116 non-null    object \n",
      " 8   NOMINAL_THICKNESS_MM     136 non-null    float64\n",
      " 9   WIDTH_MM                 136 non-null    int64  \n",
      " 10  LENGTH_MM                55 non-null     float64\n",
      " 11  HEIGHT_MM                0 non-null      float64\n",
      " 12  MASS_MIN_KG              136 non-null    int64  \n",
      " 13  NUMBER_OF_COILS          0 non-null      float64\n",
      " 14  DELIVERY_EARLIEST        0 non-null      float64\n",
      " 15  DELIVERY_LATEST          0 non-null      float64\n",
      " 16  INCO_TERM                108 non-null    object \n",
      " 17  BUY_NOW_EUR_PER_TON      39 non-null     float64\n",
      " 18  MIN/MAX_BID_EUR_PER_TON  125 non-null    float64\n",
      " 19  CO2_PER_TON_MAX_KG       0 non-null      float64\n",
      " 20  VALID_UNTIL              136 non-null    object \n",
      "dtypes: float64(11), int64(3), object(7)\n",
      "memory usage: 22.4+ KB\n"
     ]
    }
   ],
   "source": [
    "df2.info()"
   ]
  },
  {
   "cell_type": "code",
   "execution_count": null,
   "id": "2c5a0dd5-c0b9-491b-9882-e1bfc0a5e351",
   "metadata": {},
   "outputs": [],
   "source": []
  },
  {
   "cell_type": "markdown",
   "id": "89b513e4-5371-4413-994c-2b158ab23f9a",
   "metadata": {},
   "source": [
    "### Data Cleaning"
   ]
  },
  {
   "cell_type": "markdown",
   "id": "40ade47c-f45d-4ecd-b5b5-1223adf6dbbc",
   "metadata": {},
   "source": [
    "As I cleaned the dataset 1 column by column, I will approach the task for this dataset in a similar fashion."
   ]
  },
  {
   "cell_type": "code",
   "execution_count": 156,
   "id": "84782b4d-ada7-4a69-b66b-0b3dfdcd1efc",
   "metadata": {},
   "outputs": [
    {
     "data": {
      "text/plain": [
       "PRODUCT_TYPE\n",
       "COIL_STRIP     63\n",
       "SHEET          43\n",
       "SHET            6\n",
       "COILS_STRIP     6\n",
       "Name: count, dtype: int64"
      ]
     },
     "execution_count": 156,
     "metadata": {},
     "output_type": "execute_result"
    }
   ],
   "source": [
    "df2[\"PRODUCT_TYPE\"].value_counts()"
   ]
  },
  {
   "cell_type": "markdown",
   "id": "5ae7526c-002c-42fe-b2d2-4b252773bb78",
   "metadata": {},
   "source": [
    "Replacing mispelled values."
   ]
  },
  {
   "cell_type": "code",
   "execution_count": 157,
   "id": "85691a96-44e7-4dd8-bd98-30d8849ae581",
   "metadata": {},
   "outputs": [
    {
     "data": {
      "text/plain": [
       "PRODUCT_TYPE\n",
       "COIL_STRIP    69\n",
       "SHEET         49\n",
       "Name: count, dtype: int64"
      ]
     },
     "execution_count": 157,
     "metadata": {},
     "output_type": "execute_result"
    }
   ],
   "source": [
    "product_type_mapping = {\n",
    "    'COIL_STRIP': 'COIL_STRIP',\n",
    "    'COILS_STRIP': 'COIL_STRIP',\n",
    "    'SHEET': 'SHEET',\n",
    "    'SHET': 'SHEET'\n",
    "}\n",
    "\n",
    "df2['PRODUCT_TYPE'] = df2['PRODUCT_TYPE'].map(product_type_mapping)\n",
    "df2[\"PRODUCT_TYPE\"].value_counts()"
   ]
  },
  {
   "cell_type": "code",
   "execution_count": null,
   "id": "5ff8d61b-9142-4166-9efd-750a63eaabef",
   "metadata": {},
   "outputs": [],
   "source": []
  },
  {
   "cell_type": "code",
   "execution_count": null,
   "id": "4a877c9b-1125-4e24-8b38-17ad8cc2bb14",
   "metadata": {},
   "outputs": [],
   "source": []
  },
  {
   "cell_type": "markdown",
   "id": "a259fa82-0d62-42ae-865a-bef5af5b5815",
   "metadata": {},
   "source": [
    "I found these features correlated as they are having pattern."
   ]
  },
  {
   "cell_type": "code",
   "execution_count": 158,
   "id": "82572608-c28a-44c3-8d4e-28b2ab819fc0",
   "metadata": {
    "scrolled": true
   },
   "outputs": [
    {
     "data": {
      "text/plain": [
       "array([['SHEET', 1.0038, 'S235JR'],\n",
       "       ['SHEET', 1.0976, 'S355MC'],\n",
       "       ['SHEET', 1.0976, nan],\n",
       "       ['SHEET', 1.0976, 'S355MC'],\n",
       "       ['SHEET', 1.0976, 'S355MC'],\n",
       "       ['SHEET', 1.0976, 'S355MC'],\n",
       "       ['SHEET', 1.0045, 'S355JR'],\n",
       "       ['SHEET', 1.0976, nan],\n",
       "       ['SHEET', 1.0976, 'S355MC'],\n",
       "       ['SHEET', 1.0976, 'S355MC'],\n",
       "       ['COIL_STRIP', 1.0873, nan],\n",
       "       ['COIL_STRIP', 1.0873, 'DC06'],\n",
       "       ['COIL_STRIP', 1.0873, 'DC06'],\n",
       "       ['COIL_STRIP', 1.0873, 'DC06'],\n",
       "       [nan, 1.0873, 'DC06'],\n",
       "       ['COIL_STRIP', 1.033, nan],\n",
       "       ['COIL_STRIP', 1.0873, 'DC06'],\n",
       "       ['COIL_STRIP', 1.0873, 'DC06'],\n",
       "       [nan, 1.0873, 'DC06'],\n",
       "       ['SHEET', 1.0982, 'S460MC'],\n",
       "       [nan, 1.0976, 'S355MC'],\n",
       "       ['SHEET', 1.0038, 'S235JR'],\n",
       "       ['SHEET', 1.0038, 'S235JR'],\n",
       "       ['SHEET', 1.0038, 'S235JR'],\n",
       "       ['SHEET', 1.0038, 'S235JR'],\n",
       "       ['SHEET', 1.0038, 'S23SJR'],\n",
       "       ['SHEET', 1.0045, 'S355JR'],\n",
       "       ['SHEET', 1.0045, nan],\n",
       "       ['SHEET', 1.0045, 'S355JR'],\n",
       "       ['SHEET', 1.0045, 'S355JR'],\n",
       "       ['SHEET', 1.0045, 'S35SJR'],\n",
       "       ['SHEET', 1.0045, 'S355JR'],\n",
       "       ['SHEET', 1.0045, 'S35SJR'],\n",
       "       ['SHEET', 1.0045, 'S355JR'],\n",
       "       ['SHEET', 1.0045, 'S355JR'],\n",
       "       ['SHEET', 1.0045, 'S355JR'],\n",
       "       ['COIL_STRIP', 1.0943, 'HCT780X'],\n",
       "       [nan, 1.0943, nan],\n",
       "       ['COIL_STRIP', 1.0943, 'HCT780X'],\n",
       "       ['COIL_STRIP', 1.0943, 'HCT780X'],\n",
       "       ['COIL_STRIP', 1.0943, 'HCT780X'],\n",
       "       ['COIL_STRIP', 1.0943, 'HCT780X'],\n",
       "       ['COIL_STRIP', 1.0943, 'HCT780X'],\n",
       "       ['COIL_STRIP', 1.0943, 'HCT780X'],\n",
       "       ['COIL_STRIP', 1.0943, 'HCT780X'],\n",
       "       ['COIL_STRIP', 1.0943, 'HCT780X'],\n",
       "       ['COIL_STRIP', 1.0943, nan],\n",
       "       ['COIL_STRIP', 1.0943, 'HCT780X'],\n",
       "       ['COIL_STRIP', 1.0943, 'HCT780X'],\n",
       "       [nan, 1.0943, nan],\n",
       "       ['COIL_STRIP', 1.0943, 'HCT780X'],\n",
       "       [nan, 1.0038, 'S23SJR'],\n",
       "       ['SHEET', 1.0038, 'S23SJR'],\n",
       "       ['SHEET', 1.0984, 'S500MC'],\n",
       "       ['SHEET', 1.0984, 'S500MC'],\n",
       "       ['SHEET', 1.1191, 'C45E'],\n",
       "       ['SHEET', 1.1191, 'C45E'],\n",
       "       ['SHEET', 1.006, 'E335'],\n",
       "       ['SHEET', 1.0982, 'S460MC'],\n",
       "       ['SHEET', 1.0038, 'S235JR'],\n",
       "       ['SHEET', 1.0984, 'S500MC'],\n",
       "       ['SHEET', 1.0984, 'S500MC'],\n",
       "       ['SHEET', 1.0982, 'S460MC'],\n",
       "       ['SHEET', 1.098, nan],\n",
       "       ['SHEET', 1.0332, 'DD11'],\n",
       "       ['SHEET', 1.098, 'S420MC'],\n",
       "       ['SHEET', 1.0038, 'S235JR'],\n",
       "       [nan, 1.098, 'S420MC'],\n",
       "       ['SHEET', 1.098, 'S420MC'],\n",
       "       [nan, 1.0976, 'S355MC'],\n",
       "       ['SHEET', 1.0038, 'S235JR'],\n",
       "       ['SHEET', 1.0038, 'S235JR'],\n",
       "       ['SHEET', 1.0503, 'C45'],\n",
       "       ['SHEET', 1.0503, 'C45'],\n",
       "       ['SHEET', 1.0038, 'S235JR'],\n",
       "       [nan, 1.0984, 'S500MC'],\n",
       "       ['COIL_STRIP', nan, 'CR380LA'],\n",
       "       ['COIL_STRIP', nan, 'CR180BH'],\n",
       "       ['COIL_STRIP', nan, 'CR180BH'],\n",
       "       ['COIL_STRIP', 1.0306, nan],\n",
       "       [nan, nan, 'CR3'],\n",
       "       ['COIL_STRIP', nan, 'CR380LA'],\n",
       "       ['COIL_STRIP', nan, 'CR180BH'],\n",
       "       ['COIL_STRIP', nan, 'CR4'],\n",
       "       ['COIL_STRIP', 1.035, nan],\n",
       "       ['COIL_STRIP', nan, 'CR4'],\n",
       "       ['COIL_STRIP', nan, 'CR180BH'],\n",
       "       ['COIL_STRIP', nan, 'CR210BH'],\n",
       "       ['COIL_STRIP', nan, 'CR380LA'],\n",
       "       ['COIL_STRIP', nan, 'CR380LA'],\n",
       "       ['COIL_STRIP', nan, 'CR210BH'],\n",
       "       ['COIL_STRIP', nan, 'CR3'],\n",
       "       ['COIL_STRIP', 1.0914, 'HX180BD'],\n",
       "       ['COIL_STRIP', nan, 'CR420LA'],\n",
       "       ['COIL_STRIP', nan, nan],\n",
       "       [nan, 1.0919, 'HX220BD'],\n",
       "       [nan, 1.0226, 'DX51D'],\n",
       "       ['COIL_STRIP', nan, 'CR380LA'],\n",
       "       ['COIL_STRIP', nan, 'CR210BH'],\n",
       "       ['COIL_STRIP', nan, nan],\n",
       "       ['COIL_STRIP', 1.0914, 'HX180BD'],\n",
       "       ['COIL_STRIP', nan, nan],\n",
       "       [nan, 1.0917, 'DX51D'],\n",
       "       ['COIL_STRIP', 1.0306, 'DX54D'],\n",
       "       ['COIL_STRIP', nan, 'CR270BH'],\n",
       "       ['COIL_STRIP', nan, nan],\n",
       "       [nan, nan, nan],\n",
       "       ['COIL_STRIP', nan, 'CR4'],\n",
       "       ['COIL_STRIP', nan, 'CR4'],\n",
       "       ['COIL_STRIP', nan, 'CR5'],\n",
       "       ['COIL_STRIP', nan, 'CR270BH'],\n",
       "       ['COIL_STRIP', nan, 'CR5'],\n",
       "       ['COIL_STRIP', nan, 'CR210BH'],\n",
       "       ['COIL_STRIP', nan, 'CR180BH'],\n",
       "       ['COIL_STRIP', nan, 'CR3'],\n",
       "       ['COIL_STRIP', nan, 'CR380LA'],\n",
       "       ['COIL_STRIP', nan, 'CR4'],\n",
       "       [nan, nan, nan],\n",
       "       ['COIL_STRIP', nan, 'CR5'],\n",
       "       ['COIL_STRIP', 1.0226, 'DX51D'],\n",
       "       ['COIL_STRIP', nan, 'CR4'],\n",
       "       ['COIL_STRIP', nan, 'CR4'],\n",
       "       [nan, 1.0355, 'DX53D'],\n",
       "       ['COIL_STRIP', nan, 'CR4'],\n",
       "       ['COIL_STRIP', nan, nan],\n",
       "       ['COIL_STRIP', nan, 'CR380LA'],\n",
       "       ['COIL_STRIP', nan, 'CR180BH'],\n",
       "       ['COIL_STRIP', nan, 'CR5'],\n",
       "       [nan, nan, 'DIVERSE'],\n",
       "       ['COIL_STRIP', 1.0395, 'HC180B'],\n",
       "       ['COIL_STRIP', nan, 'CR5'],\n",
       "       ['COIL_STRIP', 1.0873, nan],\n",
       "       ['SHEET', 1.0038, 'S235JR'],\n",
       "       ['COIL_STRIP', nan, 'CR180BH'],\n",
       "       ['SHEET', 1.0045, nan],\n",
       "       [nan, 1.0038, 'S23SJR']], dtype=object)"
      ]
     },
     "execution_count": 158,
     "metadata": {},
     "output_type": "execute_result"
    }
   ],
   "source": [
    "df2[[\"PRODUCT_TYPE\", \"MATERIAL_NUMBER\", \"MATERIAL_NAME\"]].values"
   ]
  },
  {
   "cell_type": "code",
   "execution_count": null,
   "id": "1496fcf3-de07-4450-a52e-9baeee2d1499",
   "metadata": {},
   "outputs": [],
   "source": []
  },
  {
   "cell_type": "code",
   "execution_count": 159,
   "id": "2bf2ffd5-3fa5-4e29-8667-1debcc0c4cb0",
   "metadata": {},
   "outputs": [
    {
     "data": {
      "text/plain": [
       "PRODUCT_TYPE  MATERIAL_NUMBER\n",
       "COIL_STRIP    1.0943             13\n",
       "SHEET         1.0038             13\n",
       "              1.0045             12\n",
       "              1.0976              8\n",
       "COIL_STRIP    1.0873              7\n",
       "SHEET         1.0984              4\n",
       "              1.0982              3\n",
       "              1.0980              3\n",
       "              1.0503              2\n",
       "COIL_STRIP    1.0306              2\n",
       "              1.0914              2\n",
       "SHEET         1.1191              2\n",
       "COIL_STRIP    1.0226              1\n",
       "              1.0395              1\n",
       "              1.0350              1\n",
       "              1.0330              1\n",
       "SHEET         1.0060              1\n",
       "              1.0332              1\n",
       "Name: count, dtype: int64"
      ]
     },
     "execution_count": 159,
     "metadata": {},
     "output_type": "execute_result"
    }
   ],
   "source": [
    "df2[[\"PRODUCT_TYPE\", \"MATERIAL_NUMBER\"]].value_counts()"
   ]
  },
  {
   "cell_type": "markdown",
   "id": "7131271b-41b2-4abf-b8fe-ff846f44fdf1",
   "metadata": {},
   "source": [
    "Checking appropriate similar columns to see the pattern and hard-encoding the missing values based on maximum / frequest class."
   ]
  },
  {
   "cell_type": "markdown",
   "id": "100ff6d2-92c2-4ac4-94d5-5bd32d11bdd2",
   "metadata": {},
   "source": [
    "Due to time limitations (sickness), I have used hard-encoding here, I could do in a more generalised function."
   ]
  },
  {
   "cell_type": "code",
   "execution_count": 160,
   "id": "e1ffe715-9439-4a00-bee2-e54ab3198531",
   "metadata": {},
   "outputs": [
    {
     "data": {
      "text/plain": [
       "96            NaN\n",
       "119    COIL_STRIP\n",
       "Name: PRODUCT_TYPE, dtype: object"
      ]
     },
     "execution_count": 160,
     "metadata": {},
     "output_type": "execute_result"
    }
   ],
   "source": [
    "df2[df2[\"MATERIAL_NUMBER\"] == 1.0226][\"PRODUCT_TYPE\"]"
   ]
  },
  {
   "cell_type": "markdown",
   "id": "ba8e3022-ea26-454e-80ed-1283881436e3",
   "metadata": {},
   "source": [
    "Based on more frequent class, impute the values accordingly."
   ]
  },
  {
   "cell_type": "code",
   "execution_count": 161,
   "id": "2709acbc-fa7a-4685-9dd3-1bf00c1b960d",
   "metadata": {},
   "outputs": [],
   "source": [
    "df2.loc[(df2[\"MATERIAL_NUMBER\"] == 1.0943) & (df2[\"PRODUCT_TYPE\"].isna()), \"PRODUCT_TYPE\"] = \"COIL_STRIP\"\n",
    "df2.loc[(df2[\"MATERIAL_NUMBER\"] == 1.0038) & (df2[\"PRODUCT_TYPE\"].isna()), \"PRODUCT_TYPE\"] = \"SHEET\"\n",
    "df2.loc[(df2[\"MATERIAL_NUMBER\"] == 1.0976) & (df2[\"PRODUCT_TYPE\"].isna()), \"PRODUCT_TYPE\"] = \"SHEET\"\n",
    "df2.loc[(df2[\"MATERIAL_NUMBER\"] == 1.0873) & (df2[\"PRODUCT_TYPE\"].isna()), \"PRODUCT_TYPE\"] = \"COIL_STRIP\"\n",
    "df2.loc[(df2[\"MATERIAL_NUMBER\"] == 1.0984) & (df2[\"PRODUCT_TYPE\"].isna()), \"PRODUCT_TYPE\"] = \"SHEET\"\n",
    "df2.loc[(df2[\"MATERIAL_NUMBER\"] == 1.0980) & (df2[\"PRODUCT_TYPE\"].isna()), \"PRODUCT_TYPE\"] = \"SHEET\"\n",
    "df2.loc[(df2[\"MATERIAL_NUMBER\"] == 1.0226) & (df2[\"PRODUCT_TYPE\"].isna()), \"PRODUCT_TYPE\"] = \"COIL_STRIP\""
   ]
  },
  {
   "cell_type": "code",
   "execution_count": 162,
   "id": "e18f32d7-7fce-46e1-bbd7-b45a4f775b5d",
   "metadata": {},
   "outputs": [
    {
     "data": {
      "text/html": [
       "<div>\n",
       "<style scoped>\n",
       "    .dataframe tbody tr th:only-of-type {\n",
       "        vertical-align: middle;\n",
       "    }\n",
       "\n",
       "    .dataframe tbody tr th {\n",
       "        vertical-align: top;\n",
       "    }\n",
       "\n",
       "    .dataframe thead th {\n",
       "        text-align: right;\n",
       "    }\n",
       "</style>\n",
       "<table border=\"1\" class=\"dataframe\">\n",
       "  <thead>\n",
       "    <tr style=\"text-align: right;\">\n",
       "      <th></th>\n",
       "      <th>MATERIAL_NUMBER</th>\n",
       "      <th>MATERIAL_NAME</th>\n",
       "    </tr>\n",
       "  </thead>\n",
       "  <tbody>\n",
       "    <tr>\n",
       "      <th>80</th>\n",
       "      <td>NaN</td>\n",
       "      <td>CR3</td>\n",
       "    </tr>\n",
       "    <tr>\n",
       "      <th>95</th>\n",
       "      <td>1.0919</td>\n",
       "      <td>HX220BD</td>\n",
       "    </tr>\n",
       "    <tr>\n",
       "      <th>102</th>\n",
       "      <td>1.0917</td>\n",
       "      <td>DX51D</td>\n",
       "    </tr>\n",
       "    <tr>\n",
       "      <th>106</th>\n",
       "      <td>NaN</td>\n",
       "      <td>NaN</td>\n",
       "    </tr>\n",
       "    <tr>\n",
       "      <th>117</th>\n",
       "      <td>NaN</td>\n",
       "      <td>NaN</td>\n",
       "    </tr>\n",
       "    <tr>\n",
       "      <th>122</th>\n",
       "      <td>1.0355</td>\n",
       "      <td>DX53D</td>\n",
       "    </tr>\n",
       "    <tr>\n",
       "      <th>128</th>\n",
       "      <td>NaN</td>\n",
       "      <td>DIVERSE</td>\n",
       "    </tr>\n",
       "  </tbody>\n",
       "</table>\n",
       "</div>"
      ],
      "text/plain": [
       "     MATERIAL_NUMBER MATERIAL_NAME\n",
       "80               NaN           CR3\n",
       "95            1.0919       HX220BD\n",
       "102           1.0917         DX51D\n",
       "106              NaN           NaN\n",
       "117              NaN           NaN\n",
       "122           1.0355         DX53D\n",
       "128              NaN       DIVERSE"
      ]
     },
     "execution_count": 162,
     "metadata": {},
     "output_type": "execute_result"
    }
   ],
   "source": [
    "df2[df2[\"PRODUCT_TYPE\"].isnull()][[\"MATERIAL_NUMBER\", \"MATERIAL_NAME\"]]"
   ]
  },
  {
   "cell_type": "code",
   "execution_count": 163,
   "id": "d2e09eb0-ca32-48d1-88e4-372b935025d1",
   "metadata": {},
   "outputs": [
    {
     "data": {
      "text/plain": [
       "MATERIAL_NAME  PRODUCT_TYPE\n",
       "HCT780X        COIL_STRIP      12\n",
       "S235JR         SHEET           11\n",
       "S355MC         SHEET            8\n",
       "S355JR         SHEET            8\n",
       "CR4            COIL_STRIP       8\n",
       "DC06           COIL_STRIP       7\n",
       "CR380LA        COIL_STRIP       7\n",
       "CR180BH        COIL_STRIP       7\n",
       "S500MC         SHEET            5\n",
       "CR5            COIL_STRIP       5\n",
       "S23SJR         SHEET            4\n",
       "CR210BH        COIL_STRIP       4\n",
       "S460MC         SHEET            3\n",
       "S420MC         SHEET            3\n",
       "C45            SHEET            2\n",
       "CR3            COIL_STRIP       2\n",
       "CR270BH        COIL_STRIP       2\n",
       "C45E           SHEET            2\n",
       "DX51D          COIL_STRIP       2\n",
       "HX180BD        COIL_STRIP       2\n",
       "S35SJR         SHEET            2\n",
       "CR420LA        COIL_STRIP       1\n",
       "E335           SHEET            1\n",
       "HC180B         COIL_STRIP       1\n",
       "DD11           SHEET            1\n",
       "DX54D          COIL_STRIP       1\n",
       "Name: count, dtype: int64"
      ]
     },
     "execution_count": 163,
     "metadata": {},
     "output_type": "execute_result"
    }
   ],
   "source": [
    "df2[[\"MATERIAL_NAME\", \"PRODUCT_TYPE\"]].value_counts()"
   ]
  },
  {
   "cell_type": "code",
   "execution_count": 164,
   "id": "a5eecdd8-2353-4417-8736-b868610ed6b0",
   "metadata": {},
   "outputs": [
    {
     "data": {
      "text/plain": [
       "128    NaN\n",
       "Name: PRODUCT_TYPE, dtype: object"
      ]
     },
     "execution_count": 164,
     "metadata": {},
     "output_type": "execute_result"
    }
   ],
   "source": [
    "df2[df2[\"MATERIAL_NAME\"] == \"DIVERSE\"][\"PRODUCT_TYPE\"]"
   ]
  },
  {
   "cell_type": "markdown",
   "id": "12381925-6029-4814-ae05-4eb46e7eced3",
   "metadata": {},
   "source": [
    "##### Finding the pattern based on textual similarity between the values and their appropriate features."
   ]
  },
  {
   "cell_type": "markdown",
   "id": "84e6bf47-ac73-4c4f-bc8e-7178d449ac5a",
   "metadata": {},
   "source": [
    "idx: 80\t: CR3 -> COIL_STRIP\n",
    "\n",
    "idx: 95: HX220BD -> HC or HX or similar -> COIL_STRIP\n",
    "\n",
    "idx: 102: DX51D -> COIL_STRIP\n",
    "\n",
    "idx: 122: DX53D -> DX -> COIL_STRIP\n",
    "\n",
    "DIVERSE -> Frequent\n",
    "\n",
    "idx: 106: 117: 128: Freuqent category."
   ]
  },
  {
   "cell_type": "code",
   "execution_count": 165,
   "id": "1c74d5b1-80a7-4c45-865a-17667756dab3",
   "metadata": {},
   "outputs": [
    {
     "name": "stdout",
     "output_type": "stream",
     "text": [
      "Empty DataFrame\n",
      "Columns: [PRODUCT_TYPE, ORDER_ID, SITE, MATERIAL_NAME, MATERIAL_NUMBER, MATERIAL_QUALITY_NORM, SURFACE_COATING, DEFECT_NOTES, NOMINAL_THICKNESS_MM, WIDTH_MM, LENGTH_MM, HEIGHT_MM, MASS_MIN_KG, NUMBER_OF_COILS, DELIVERY_EARLIEST, DELIVERY_LATEST, INCO_TERM, BUY_NOW_EUR_PER_TON, MIN/MAX_BID_EUR_PER_TON, CO2_PER_TON_MAX_KG, VALID_UNTIL]\n",
      "Index: []\n",
      "\n",
      "[0 rows x 21 columns]\n"
     ]
    }
   ],
   "source": [
    "# Replace missing values at specific indices with appropriate categories\n",
    "df2.loc[80, \"PRODUCT_TYPE\"] = \"COIL_STRIP\"\n",
    "df2.loc[95, \"PRODUCT_TYPE\"] = \"COIL_STRIP\"\n",
    "df2.loc[102, \"PRODUCT_TYPE\"] = \"COIL_STRIP\"\n",
    "df2.loc[122, \"PRODUCT_TYPE\"] = \"COIL_STRIP\"\n",
    "\n",
    "# Specific indices to Frequent category\n",
    "most_frequent_value = df2[\"PRODUCT_TYPE\"].mode()[0]\n",
    "df2.loc[106, \"PRODUCT_TYPE\"] = most_frequent_value\n",
    "df2.loc[117, \"PRODUCT_TYPE\"] = most_frequent_value\n",
    "df2.loc[128, \"PRODUCT_TYPE\"] = most_frequent_value\n",
    "\n",
    "# Verify if the missing values are updated correctly\n",
    "print(df2[df2[\"PRODUCT_TYPE\"].isna()])"
   ]
  },
  {
   "cell_type": "code",
   "execution_count": 166,
   "id": "b6152f9f-e37c-47c4-a48d-0c377643a5a5",
   "metadata": {
    "scrolled": true
   },
   "outputs": [
    {
     "data": {
      "text/plain": [
       "array([['SHEET', 1.0038, 'S235JR'],\n",
       "       ['SHEET', 1.0976, 'S355MC'],\n",
       "       ['SHEET', 1.0976, nan],\n",
       "       ['SHEET', 1.0976, 'S355MC'],\n",
       "       ['SHEET', 1.0976, 'S355MC'],\n",
       "       ['SHEET', 1.0976, 'S355MC'],\n",
       "       ['SHEET', 1.0045, 'S355JR'],\n",
       "       ['SHEET', 1.0976, nan],\n",
       "       ['SHEET', 1.0976, 'S355MC'],\n",
       "       ['SHEET', 1.0976, 'S355MC'],\n",
       "       ['COIL_STRIP', 1.0873, nan],\n",
       "       ['COIL_STRIP', 1.0873, 'DC06'],\n",
       "       ['COIL_STRIP', 1.0873, 'DC06'],\n",
       "       ['COIL_STRIP', 1.0873, 'DC06'],\n",
       "       ['COIL_STRIP', 1.0873, 'DC06'],\n",
       "       ['COIL_STRIP', 1.033, nan],\n",
       "       ['COIL_STRIP', 1.0873, 'DC06'],\n",
       "       ['COIL_STRIP', 1.0873, 'DC06'],\n",
       "       ['COIL_STRIP', 1.0873, 'DC06'],\n",
       "       ['SHEET', 1.0982, 'S460MC'],\n",
       "       ['SHEET', 1.0976, 'S355MC'],\n",
       "       ['SHEET', 1.0038, 'S235JR'],\n",
       "       ['SHEET', 1.0038, 'S235JR'],\n",
       "       ['SHEET', 1.0038, 'S235JR'],\n",
       "       ['SHEET', 1.0038, 'S235JR'],\n",
       "       ['SHEET', 1.0038, 'S23SJR'],\n",
       "       ['SHEET', 1.0045, 'S355JR'],\n",
       "       ['SHEET', 1.0045, nan],\n",
       "       ['SHEET', 1.0045, 'S355JR'],\n",
       "       ['SHEET', 1.0045, 'S355JR'],\n",
       "       ['SHEET', 1.0045, 'S35SJR'],\n",
       "       ['SHEET', 1.0045, 'S355JR'],\n",
       "       ['SHEET', 1.0045, 'S35SJR'],\n",
       "       ['SHEET', 1.0045, 'S355JR'],\n",
       "       ['SHEET', 1.0045, 'S355JR'],\n",
       "       ['SHEET', 1.0045, 'S355JR'],\n",
       "       ['COIL_STRIP', 1.0943, 'HCT780X'],\n",
       "       ['COIL_STRIP', 1.0943, nan],\n",
       "       ['COIL_STRIP', 1.0943, 'HCT780X'],\n",
       "       ['COIL_STRIP', 1.0943, 'HCT780X'],\n",
       "       ['COIL_STRIP', 1.0943, 'HCT780X'],\n",
       "       ['COIL_STRIP', 1.0943, 'HCT780X'],\n",
       "       ['COIL_STRIP', 1.0943, 'HCT780X'],\n",
       "       ['COIL_STRIP', 1.0943, 'HCT780X'],\n",
       "       ['COIL_STRIP', 1.0943, 'HCT780X'],\n",
       "       ['COIL_STRIP', 1.0943, 'HCT780X'],\n",
       "       ['COIL_STRIP', 1.0943, nan],\n",
       "       ['COIL_STRIP', 1.0943, 'HCT780X'],\n",
       "       ['COIL_STRIP', 1.0943, 'HCT780X'],\n",
       "       ['COIL_STRIP', 1.0943, nan],\n",
       "       ['COIL_STRIP', 1.0943, 'HCT780X'],\n",
       "       ['SHEET', 1.0038, 'S23SJR'],\n",
       "       ['SHEET', 1.0038, 'S23SJR'],\n",
       "       ['SHEET', 1.0984, 'S500MC'],\n",
       "       ['SHEET', 1.0984, 'S500MC'],\n",
       "       ['SHEET', 1.1191, 'C45E'],\n",
       "       ['SHEET', 1.1191, 'C45E'],\n",
       "       ['SHEET', 1.006, 'E335'],\n",
       "       ['SHEET', 1.0982, 'S460MC'],\n",
       "       ['SHEET', 1.0038, 'S235JR'],\n",
       "       ['SHEET', 1.0984, 'S500MC'],\n",
       "       ['SHEET', 1.0984, 'S500MC'],\n",
       "       ['SHEET', 1.0982, 'S460MC'],\n",
       "       ['SHEET', 1.098, nan],\n",
       "       ['SHEET', 1.0332, 'DD11'],\n",
       "       ['SHEET', 1.098, 'S420MC'],\n",
       "       ['SHEET', 1.0038, 'S235JR'],\n",
       "       ['SHEET', 1.098, 'S420MC'],\n",
       "       ['SHEET', 1.098, 'S420MC'],\n",
       "       ['SHEET', 1.0976, 'S355MC'],\n",
       "       ['SHEET', 1.0038, 'S235JR'],\n",
       "       ['SHEET', 1.0038, 'S235JR'],\n",
       "       ['SHEET', 1.0503, 'C45'],\n",
       "       ['SHEET', 1.0503, 'C45'],\n",
       "       ['SHEET', 1.0038, 'S235JR'],\n",
       "       ['SHEET', 1.0984, 'S500MC'],\n",
       "       ['COIL_STRIP', nan, 'CR380LA'],\n",
       "       ['COIL_STRIP', nan, 'CR180BH'],\n",
       "       ['COIL_STRIP', nan, 'CR180BH'],\n",
       "       ['COIL_STRIP', 1.0306, nan],\n",
       "       ['COIL_STRIP', nan, 'CR3'],\n",
       "       ['COIL_STRIP', nan, 'CR380LA'],\n",
       "       ['COIL_STRIP', nan, 'CR180BH'],\n",
       "       ['COIL_STRIP', nan, 'CR4'],\n",
       "       ['COIL_STRIP', 1.035, nan],\n",
       "       ['COIL_STRIP', nan, 'CR4'],\n",
       "       ['COIL_STRIP', nan, 'CR180BH'],\n",
       "       ['COIL_STRIP', nan, 'CR210BH'],\n",
       "       ['COIL_STRIP', nan, 'CR380LA'],\n",
       "       ['COIL_STRIP', nan, 'CR380LA'],\n",
       "       ['COIL_STRIP', nan, 'CR210BH'],\n",
       "       ['COIL_STRIP', nan, 'CR3'],\n",
       "       ['COIL_STRIP', 1.0914, 'HX180BD'],\n",
       "       ['COIL_STRIP', nan, 'CR420LA'],\n",
       "       ['COIL_STRIP', nan, nan],\n",
       "       ['COIL_STRIP', 1.0919, 'HX220BD'],\n",
       "       ['COIL_STRIP', 1.0226, 'DX51D'],\n",
       "       ['COIL_STRIP', nan, 'CR380LA'],\n",
       "       ['COIL_STRIP', nan, 'CR210BH'],\n",
       "       ['COIL_STRIP', nan, nan],\n",
       "       ['COIL_STRIP', 1.0914, 'HX180BD'],\n",
       "       ['COIL_STRIP', nan, nan],\n",
       "       ['COIL_STRIP', 1.0917, 'DX51D'],\n",
       "       ['COIL_STRIP', 1.0306, 'DX54D'],\n",
       "       ['COIL_STRIP', nan, 'CR270BH'],\n",
       "       ['COIL_STRIP', nan, nan],\n",
       "       ['COIL_STRIP', nan, nan],\n",
       "       ['COIL_STRIP', nan, 'CR4'],\n",
       "       ['COIL_STRIP', nan, 'CR4'],\n",
       "       ['COIL_STRIP', nan, 'CR5'],\n",
       "       ['COIL_STRIP', nan, 'CR270BH'],\n",
       "       ['COIL_STRIP', nan, 'CR5'],\n",
       "       ['COIL_STRIP', nan, 'CR210BH'],\n",
       "       ['COIL_STRIP', nan, 'CR180BH'],\n",
       "       ['COIL_STRIP', nan, 'CR3'],\n",
       "       ['COIL_STRIP', nan, 'CR380LA'],\n",
       "       ['COIL_STRIP', nan, 'CR4'],\n",
       "       ['COIL_STRIP', nan, nan],\n",
       "       ['COIL_STRIP', nan, 'CR5'],\n",
       "       ['COIL_STRIP', 1.0226, 'DX51D'],\n",
       "       ['COIL_STRIP', nan, 'CR4'],\n",
       "       ['COIL_STRIP', nan, 'CR4'],\n",
       "       ['COIL_STRIP', 1.0355, 'DX53D'],\n",
       "       ['COIL_STRIP', nan, 'CR4'],\n",
       "       ['COIL_STRIP', nan, nan],\n",
       "       ['COIL_STRIP', nan, 'CR380LA'],\n",
       "       ['COIL_STRIP', nan, 'CR180BH'],\n",
       "       ['COIL_STRIP', nan, 'CR5'],\n",
       "       ['COIL_STRIP', nan, 'DIVERSE'],\n",
       "       ['COIL_STRIP', 1.0395, 'HC180B'],\n",
       "       ['COIL_STRIP', nan, 'CR5'],\n",
       "       ['COIL_STRIP', 1.0873, nan],\n",
       "       ['SHEET', 1.0038, 'S235JR'],\n",
       "       ['COIL_STRIP', nan, 'CR180BH'],\n",
       "       ['SHEET', 1.0045, nan],\n",
       "       ['SHEET', 1.0038, 'S23SJR']], dtype=object)"
      ]
     },
     "execution_count": 166,
     "metadata": {},
     "output_type": "execute_result"
    }
   ],
   "source": [
    "df2[[\"PRODUCT_TYPE\", \"MATERIAL_NUMBER\", \"MATERIAL_NAME\"]].values"
   ]
  },
  {
   "cell_type": "code",
   "execution_count": 167,
   "id": "4a4e3050-2d36-477f-ae20-a4de0466e3cb",
   "metadata": {},
   "outputs": [],
   "source": [
    "# Step 1: Fill missing values in 'MATERIAL_NUMBER' by taking the median within each 'PRODUCT_TYPE'\n",
    "df2[\"MATERIAL_NUMBER\"] = df2.groupby(\"PRODUCT_TYPE\")[\"MATERIAL_NUMBER\"].transform(lambda x: x.fillna(x.median()))\n",
    "\n",
    "# Step 2: Fill missing values in 'MATERIAL_NAME' by taking the mode (most frequent value) within each 'PRODUCT_TYPE'\n",
    "df2[\"MATERIAL_NAME\"] = df2.groupby(\"PRODUCT_TYPE\")[\"MATERIAL_NAME\"].transform(lambda x: x.fillna(x.mode()[0]))"
   ]
  },
  {
   "cell_type": "markdown",
   "id": "42f36c97-c357-434d-adfd-cbb1b13d4c7b",
   "metadata": {},
   "source": [
    "Deleting the columns which are completely null."
   ]
  },
  {
   "cell_type": "code",
   "execution_count": 168,
   "id": "fb425756-4e5d-4223-ad61-e1c95338b77a",
   "metadata": {},
   "outputs": [],
   "source": [
    "df2 = df2.drop(columns = [\"SURFACE_COATING\", \"HEIGHT_MM\", \"NUMBER_OF_COILS\", \"DELIVERY_EARLIEST\", \"DELIVERY_LATEST\", \"CO2_PER_TON_MAX_KG\"], axis = 1)"
   ]
  },
  {
   "cell_type": "code",
   "execution_count": 204,
   "id": "459f414d-a68e-4f25-ac59-c8d218d8e7f4",
   "metadata": {},
   "outputs": [
    {
     "name": "stdout",
     "output_type": "stream",
     "text": [
      "<class 'pandas.core.frame.DataFrame'>\n",
      "RangeIndex: 136 entries, 0 to 135\n",
      "Data columns (total 15 columns):\n",
      " #   Column                   Non-Null Count  Dtype  \n",
      "---  ------                   --------------  -----  \n",
      " 0   PRODUCT_TYPE             136 non-null    object \n",
      " 1   ORDER_ID                 136 non-null    int64  \n",
      " 2   SITE                     136 non-null    object \n",
      " 3   MATERIAL_NAME            136 non-null    object \n",
      " 4   MATERIAL_NUMBER          136 non-null    float64\n",
      " 5   MATERIAL_QUALITY_NORM    136 non-null    object \n",
      " 6   DEFECT_NOTES             136 non-null    object \n",
      " 7   NOMINAL_THICKNESS_MM     136 non-null    float64\n",
      " 8   WIDTH_MM                 136 non-null    int64  \n",
      " 9   LENGTH_MM                136 non-null    float64\n",
      " 10  MASS_MIN_KG              136 non-null    int64  \n",
      " 11  INCO_TERM                136 non-null    object \n",
      " 12  BUY_NOW_EUR_PER_TON      39 non-null     float64\n",
      " 13  MIN/MAX_BID_EUR_PER_TON  125 non-null    float64\n",
      " 14  VALID_UNTIL              136 non-null    object \n",
      "dtypes: float64(5), int64(3), object(7)\n",
      "memory usage: 16.1+ KB\n"
     ]
    }
   ],
   "source": [
    "df2.info()"
   ]
  },
  {
   "cell_type": "code",
   "execution_count": 184,
   "id": "66481336-798c-4926-9951-374326160ab2",
   "metadata": {},
   "outputs": [
    {
     "data": {
      "text/plain": [
       "MATERIAL_QUALITY_NORM\n",
       "VDA 239-100             37\n",
       "DIN EN 10025            25\n",
       "DIN EN 10149            17\n",
       "DIN EN 10338            14\n",
       "DIN EN 10130             8\n",
       "DIN EN 10346             6\n",
       "DN EN 10025              3\n",
       "DN EN 10149              2\n",
       "DIN EN 10277:2018-09     2\n",
       "DIN EN 10111             1\n",
       "DN EN 10083              1\n",
       "DN EN 10346              1\n",
       "DIN EN 10268             1\n",
       "Name: count, dtype: int64"
      ]
     },
     "execution_count": 184,
     "metadata": {},
     "output_type": "execute_result"
    }
   ],
   "source": [
    "df2[\"MATERIAL_QUALITY_NORM\"].value_counts()"
   ]
  },
  {
   "cell_type": "code",
   "execution_count": 182,
   "id": "f7567471-97e5-47f0-b39a-4a1ce6d76659",
   "metadata": {},
   "outputs": [
    {
     "name": "stderr",
     "output_type": "stream",
     "text": [
      "C:\\Users\\kaleem\\AppData\\Local\\Temp\\ipykernel_6916\\1037717692.py:1: FutureWarning: A value is trying to be set on a copy of a DataFrame or Series through chained assignment using an inplace method.\n",
      "The behavior will change in pandas 3.0. This inplace method will never work because the intermediate object on which we are setting values always behaves as a copy.\n",
      "\n",
      "For example, when doing 'df[col].method(value, inplace=True)', try using 'df.method({col: value}, inplace=True)' or df[col] = df[col].method(value) instead, to perform the operation inplace on the original object.\n",
      "\n",
      "\n",
      "  df2[\"MATERIAL_QUALITY_NORM\"].replace(\"-\", np.nan, inplace=True)\n"
     ]
    }
   ],
   "source": [
    "df2[\"MATERIAL_QUALITY_NORM\"].replace(\"-\", np.nan, inplace=True)"
   ]
  },
  {
   "cell_type": "code",
   "execution_count": 183,
   "id": "126eae80-7f0c-44e2-a309-d1256cac72cf",
   "metadata": {
    "scrolled": true
   },
   "outputs": [
    {
     "data": {
      "text/plain": [
       "array([['SHEET', 1.0038, 'S235JR', 'DIN EN 10025'],\n",
       "       ['SHEET', 1.0976, 'S355MC', 'DIN EN 10149'],\n",
       "       ['SHEET', 1.0976, 'S235JR', 'DIN EN 10149'],\n",
       "       ['SHEET', 1.0976, 'S355MC', nan],\n",
       "       ['SHEET', 1.0976, 'S355MC', 'DN EN 10149'],\n",
       "       ['SHEET', 1.0976, 'S355MC', 'DIN EN 10149'],\n",
       "       ['SHEET', 1.0045, 'S355JR', 'DIN EN 10025'],\n",
       "       ['SHEET', 1.0976, 'S235JR', 'DIN EN 10149'],\n",
       "       ['SHEET', 1.0976, 'S355MC', 'DIN EN 10149'],\n",
       "       ['SHEET', 1.0976, 'S355MC', 'DIN EN 10149'],\n",
       "       ['COIL_STRIP', 1.0873, 'HCT780X', nan],\n",
       "       ['COIL_STRIP', 1.0873, 'DC06', 'DIN EN 10130'],\n",
       "       ['COIL_STRIP', 1.0873, 'DC06', 'DIN EN 10130'],\n",
       "       ['COIL_STRIP', 1.0873, 'DC06', 'DIN EN 10130'],\n",
       "       ['COIL_STRIP', 1.0873, 'DC06', 'DIN EN 10130'],\n",
       "       ['COIL_STRIP', 1.033, 'HCT780X', 'DIN EN 10130'],\n",
       "       ['COIL_STRIP', 1.0873, 'DC06', 'DIN EN 10130'],\n",
       "       ['COIL_STRIP', 1.0873, 'DC06', 'DIN EN 10130'],\n",
       "       ['COIL_STRIP', 1.0873, 'DC06', 'DIN EN 10130'],\n",
       "       ['SHEET', 1.0982, 'S460MC', 'DIN EN 10149'],\n",
       "       ['SHEET', 1.0976, 'S355MC', 'DIN EN 10149'],\n",
       "       ['SHEET', 1.0038, 'S235JR', 'DIN EN 10025'],\n",
       "       ['SHEET', 1.0038, 'S235JR', 'DIN EN 10025'],\n",
       "       ['SHEET', 1.0038, 'S235JR', 'DIN EN 10025'],\n",
       "       ['SHEET', 1.0038, 'S235JR', 'DN EN 10025'],\n",
       "       ['SHEET', 1.0038, 'S23SJR', 'DIN EN 10025'],\n",
       "       ['SHEET', 1.0045, 'S355JR', 'DIN EN 10025'],\n",
       "       ['SHEET', 1.0045, 'S235JR', 'DIN EN 10025'],\n",
       "       ['SHEET', 1.0045, 'S355JR', 'DIN EN 10025'],\n",
       "       ['SHEET', 1.0045, 'S355JR', 'DIN EN 10025'],\n",
       "       ['SHEET', 1.0045, 'S35SJR', 'DIN EN 10025'],\n",
       "       ['SHEET', 1.0045, 'S355JR', 'DIN EN 10025'],\n",
       "       ['SHEET', 1.0045, 'S35SJR', 'DN EN 10025'],\n",
       "       ['SHEET', 1.0045, 'S355JR', 'DIN EN 10025'],\n",
       "       ['SHEET', 1.0045, 'S355JR', 'DN EN 10025'],\n",
       "       ['SHEET', 1.0045, 'S355JR', 'DIN EN 10025'],\n",
       "       ['COIL_STRIP', 1.0943, 'HCT780X', 'DIN EN 10338'],\n",
       "       ['COIL_STRIP', 1.0943, 'HCT780X', 'DIN EN 10338'],\n",
       "       ['COIL_STRIP', 1.0943, 'HCT780X', 'DIN EN 10338'],\n",
       "       ['COIL_STRIP', 1.0943, 'HCT780X', 'DIN EN 10338'],\n",
       "       ['COIL_STRIP', 1.0943, 'HCT780X', 'DIN EN 10338'],\n",
       "       ['COIL_STRIP', 1.0943, 'HCT780X', 'DIN EN 10338'],\n",
       "       ['COIL_STRIP', 1.0943, 'HCT780X', 'DIN EN 10338'],\n",
       "       ['COIL_STRIP', 1.0943, 'HCT780X', 'DIN EN 10338'],\n",
       "       ['COIL_STRIP', 1.0943, 'HCT780X', nan],\n",
       "       ['COIL_STRIP', 1.0943, 'HCT780X', 'DIN EN 10338'],\n",
       "       ['COIL_STRIP', 1.0943, 'HCT780X', 'DIN EN 10338'],\n",
       "       ['COIL_STRIP', 1.0943, 'HCT780X', 'DIN EN 10338'],\n",
       "       ['COIL_STRIP', 1.0943, 'HCT780X', 'DIN EN 10338'],\n",
       "       ['COIL_STRIP', 1.0943, 'HCT780X', 'DIN EN 10338'],\n",
       "       ['COIL_STRIP', 1.0943, 'HCT780X', 'DIN EN 10338'],\n",
       "       ['SHEET', 1.0038, 'S23SJR', 'DIN EN 10025'],\n",
       "       ['SHEET', 1.0038, 'S23SJR', 'DIN EN 10025'],\n",
       "       ['SHEET', 1.0984, 'S500MC', 'DN EN 10149'],\n",
       "       ['SHEET', 1.0984, 'S500MC', 'DIN EN 10149'],\n",
       "       ['SHEET', 1.1191, 'C45E', 'DN EN 10083'],\n",
       "       ['SHEET', 1.1191, 'C45E', nan],\n",
       "       ['SHEET', 1.006, 'E335', 'DIN EN 10025'],\n",
       "       ['SHEET', 1.0982, 'S460MC', 'DIN EN 10149'],\n",
       "       ['SHEET', 1.0038, 'S235JR', 'DIN EN 10025'],\n",
       "       ['SHEET', 1.0984, 'S500MC', 'DIN EN 10149'],\n",
       "       ['SHEET', 1.0984, 'S500MC', nan],\n",
       "       ['SHEET', 1.0982, 'S460MC', nan],\n",
       "       ['SHEET', 1.098, 'S235JR', 'DIN EN 10149'],\n",
       "       ['SHEET', 1.0332, 'DD11', 'DIN EN 10111'],\n",
       "       ['SHEET', 1.098, 'S420MC', 'DIN EN 10149'],\n",
       "       ['SHEET', 1.0038, 'S235JR', 'DIN EN 10025'],\n",
       "       ['SHEET', 1.098, 'S420MC', 'DIN EN 10149'],\n",
       "       ['SHEET', 1.098, 'S420MC', 'DIN EN 10149'],\n",
       "       ['SHEET', 1.0976, 'S355MC', 'DIN EN 10149'],\n",
       "       ['SHEET', 1.0038, 'S235JR', 'DIN EN 10025'],\n",
       "       ['SHEET', 1.0038, 'S235JR', 'DIN EN 10025'],\n",
       "       ['SHEET', 1.0503, 'C45', 'DIN EN 10277:2018-09'],\n",
       "       ['SHEET', 1.0503, 'C45', 'DIN EN 10277:2018-09'],\n",
       "       ['SHEET', 1.0038, 'S235JR', 'DIN EN 10025'],\n",
       "       ['SHEET', 1.0984, 'S500MC', 'DIN EN 10149'],\n",
       "       ['COIL_STRIP', 1.0914, 'CR380LA', 'VDA 239-100'],\n",
       "       ['COIL_STRIP', 1.0914, 'CR180BH', 'VDA 239-100'],\n",
       "       ['COIL_STRIP', 1.0914, 'CR180BH', nan],\n",
       "       ['COIL_STRIP', 1.0306, 'HCT780X', nan],\n",
       "       ['COIL_STRIP', 1.0914, 'CR3', 'VDA 239-100'],\n",
       "       ['COIL_STRIP', 1.0914, 'CR380LA', 'VDA 239-100'],\n",
       "       ['COIL_STRIP', 1.0914, 'CR180BH', 'VDA 239-100'],\n",
       "       ['COIL_STRIP', 1.0914, 'CR4', 'VDA 239-100'],\n",
       "       ['COIL_STRIP', 1.035, 'HCT780X', 'DIN EN 10346'],\n",
       "       ['COIL_STRIP', 1.0914, 'CR4', 'VDA 239-100'],\n",
       "       ['COIL_STRIP', 1.0914, 'CR180BH', 'VDA 239-100'],\n",
       "       ['COIL_STRIP', 1.0914, 'CR210BH', nan],\n",
       "       ['COIL_STRIP', 1.0914, 'CR380LA', 'VDA 239-100'],\n",
       "       ['COIL_STRIP', 1.0914, 'CR380LA', 'VDA 239-100'],\n",
       "       ['COIL_STRIP', 1.0914, 'CR210BH', nan],\n",
       "       ['COIL_STRIP', 1.0914, 'CR3', 'VDA 239-100'],\n",
       "       ['COIL_STRIP', 1.0914, 'HX180BD', 'DIN EN 10346'],\n",
       "       ['COIL_STRIP', 1.0914, 'CR420LA', 'VDA 239-100'],\n",
       "       ['COIL_STRIP', 1.0914, 'HCT780X', 'VDA 239-100'],\n",
       "       ['COIL_STRIP', 1.0919, 'HX220BD', 'DIN EN 10346'],\n",
       "       ['COIL_STRIP', 1.0226, 'DX51D', 'DIN EN 10346'],\n",
       "       ['COIL_STRIP', 1.0914, 'CR380LA', 'VDA 239-100'],\n",
       "       ['COIL_STRIP', 1.0914, 'CR210BH', 'VDA 239-100'],\n",
       "       ['COIL_STRIP', 1.0914, 'HCT780X', 'VDA 239-100'],\n",
       "       ['COIL_STRIP', 1.0914, 'HX180BD', 'DN EN 10346'],\n",
       "       ['COIL_STRIP', 1.0914, 'HCT780X', 'VDA 239-100'],\n",
       "       ['COIL_STRIP', 1.0917, 'DX51D', nan],\n",
       "       ['COIL_STRIP', 1.0306, 'DX54D', 'DIN EN 10346'],\n",
       "       ['COIL_STRIP', 1.0914, 'CR270BH', 'VDA 239-100'],\n",
       "       ['COIL_STRIP', 1.0914, 'HCT780X', 'VDA 239-100'],\n",
       "       ['COIL_STRIP', 1.0914, 'HCT780X', 'VDA 239-100'],\n",
       "       ['COIL_STRIP', 1.0914, 'CR4', nan],\n",
       "       ['COIL_STRIP', 1.0914, 'CR4', nan],\n",
       "       ['COIL_STRIP', 1.0914, 'CR5', 'VDA 239-100'],\n",
       "       ['COIL_STRIP', 1.0914, 'CR270BH', 'VDA 239-100'],\n",
       "       ['COIL_STRIP', 1.0914, 'CR5', 'VDA 239-100'],\n",
       "       ['COIL_STRIP', 1.0914, 'CR210BH', 'VDA 239-100'],\n",
       "       ['COIL_STRIP', 1.0914, 'CR180BH', 'VDA 239-100'],\n",
       "       ['COIL_STRIP', 1.0914, 'CR3', 'VDA 239-100'],\n",
       "       ['COIL_STRIP', 1.0914, 'CR380LA', 'VDA 239-100'],\n",
       "       ['COIL_STRIP', 1.0914, 'CR4', 'VDA 239-100'],\n",
       "       ['COIL_STRIP', 1.0914, 'HCT780X', nan],\n",
       "       ['COIL_STRIP', 1.0914, 'CR5', 'VDA 239-100'],\n",
       "       ['COIL_STRIP', 1.0226, 'DX51D', nan],\n",
       "       ['COIL_STRIP', 1.0914, 'CR4', 'VDA 239-100'],\n",
       "       ['COIL_STRIP', 1.0914, 'CR4', 'VDA 239-100'],\n",
       "       ['COIL_STRIP', 1.0355, 'DX53D', 'DIN EN 10346'],\n",
       "       ['COIL_STRIP', 1.0914, 'CR4', 'VDA 239-100'],\n",
       "       ['COIL_STRIP', 1.0914, 'HCT780X', 'VDA 239-100'],\n",
       "       ['COIL_STRIP', 1.0914, 'CR380LA', 'VDA 239-100'],\n",
       "       ['COIL_STRIP', 1.0914, 'CR180BH', nan],\n",
       "       ['COIL_STRIP', 1.0914, 'CR5', 'VDA 239-100'],\n",
       "       ['COIL_STRIP', 1.0914, 'DIVERSE', nan],\n",
       "       ['COIL_STRIP', 1.0395, 'HC180B', 'DIN EN 10268'],\n",
       "       ['COIL_STRIP', 1.0914, 'CR5', 'VDA 239-100'],\n",
       "       ['COIL_STRIP', 1.0873, 'HCT780X', nan],\n",
       "       ['SHEET', 1.0038, 'S235JR', 'DIN EN 10025'],\n",
       "       ['COIL_STRIP', 1.0914, 'CR180BH', 'VDA 239-100'],\n",
       "       ['SHEET', 1.0045, 'S235JR', 'DIN EN 10025'],\n",
       "       ['SHEET', 1.0038, 'S23SJR', 'DIN EN 10025']], dtype=object)"
      ]
     },
     "execution_count": 183,
     "metadata": {},
     "output_type": "execute_result"
    }
   ],
   "source": [
    "df2[[\"PRODUCT_TYPE\", \"MATERIAL_NUMBER\", \"MATERIAL_NAME\", \"MATERIAL_QUALITY_NORM\"]].values"
   ]
  },
  {
   "cell_type": "code",
   "execution_count": 181,
   "id": "757db102-d7de-40f6-9b93-58d736b10d79",
   "metadata": {},
   "outputs": [
    {
     "data": {
      "text/html": [
       "<div>\n",
       "<style scoped>\n",
       "    .dataframe tbody tr th:only-of-type {\n",
       "        vertical-align: middle;\n",
       "    }\n",
       "\n",
       "    .dataframe tbody tr th {\n",
       "        vertical-align: top;\n",
       "    }\n",
       "\n",
       "    .dataframe thead th {\n",
       "        text-align: right;\n",
       "    }\n",
       "</style>\n",
       "<table border=\"1\" class=\"dataframe\">\n",
       "  <thead>\n",
       "    <tr style=\"text-align: right;\">\n",
       "      <th></th>\n",
       "      <th>PRODUCT_TYPE</th>\n",
       "      <th>MATERIAL_NUMBER</th>\n",
       "      <th>MATERIAL_NAME</th>\n",
       "      <th>MATERIAL_QUALITY_NORM</th>\n",
       "    </tr>\n",
       "  </thead>\n",
       "  <tbody>\n",
       "    <tr>\n",
       "      <th>3</th>\n",
       "      <td>SHEET</td>\n",
       "      <td>1.0976</td>\n",
       "      <td>S355MC</td>\n",
       "      <td>NaN</td>\n",
       "    </tr>\n",
       "    <tr>\n",
       "      <th>10</th>\n",
       "      <td>COIL_STRIP</td>\n",
       "      <td>1.0873</td>\n",
       "      <td>HCT780X</td>\n",
       "      <td>NaN</td>\n",
       "    </tr>\n",
       "    <tr>\n",
       "      <th>44</th>\n",
       "      <td>COIL_STRIP</td>\n",
       "      <td>1.0943</td>\n",
       "      <td>HCT780X</td>\n",
       "      <td>NaN</td>\n",
       "    </tr>\n",
       "    <tr>\n",
       "      <th>56</th>\n",
       "      <td>SHEET</td>\n",
       "      <td>1.1191</td>\n",
       "      <td>C45E</td>\n",
       "      <td>NaN</td>\n",
       "    </tr>\n",
       "    <tr>\n",
       "      <th>61</th>\n",
       "      <td>SHEET</td>\n",
       "      <td>1.0984</td>\n",
       "      <td>S500MC</td>\n",
       "      <td>NaN</td>\n",
       "    </tr>\n",
       "    <tr>\n",
       "      <th>62</th>\n",
       "      <td>SHEET</td>\n",
       "      <td>1.0982</td>\n",
       "      <td>S460MC</td>\n",
       "      <td>NaN</td>\n",
       "    </tr>\n",
       "    <tr>\n",
       "      <th>78</th>\n",
       "      <td>COIL_STRIP</td>\n",
       "      <td>1.0914</td>\n",
       "      <td>CR180BH</td>\n",
       "      <td>NaN</td>\n",
       "    </tr>\n",
       "    <tr>\n",
       "      <th>79</th>\n",
       "      <td>COIL_STRIP</td>\n",
       "      <td>1.0306</td>\n",
       "      <td>HCT780X</td>\n",
       "      <td>NaN</td>\n",
       "    </tr>\n",
       "    <tr>\n",
       "      <th>87</th>\n",
       "      <td>COIL_STRIP</td>\n",
       "      <td>1.0914</td>\n",
       "      <td>CR210BH</td>\n",
       "      <td>NaN</td>\n",
       "    </tr>\n",
       "    <tr>\n",
       "      <th>90</th>\n",
       "      <td>COIL_STRIP</td>\n",
       "      <td>1.0914</td>\n",
       "      <td>CR210BH</td>\n",
       "      <td>NaN</td>\n",
       "    </tr>\n",
       "    <tr>\n",
       "      <th>102</th>\n",
       "      <td>COIL_STRIP</td>\n",
       "      <td>1.0917</td>\n",
       "      <td>DX51D</td>\n",
       "      <td>NaN</td>\n",
       "    </tr>\n",
       "    <tr>\n",
       "      <th>107</th>\n",
       "      <td>COIL_STRIP</td>\n",
       "      <td>1.0914</td>\n",
       "      <td>CR4</td>\n",
       "      <td>NaN</td>\n",
       "    </tr>\n",
       "    <tr>\n",
       "      <th>108</th>\n",
       "      <td>COIL_STRIP</td>\n",
       "      <td>1.0914</td>\n",
       "      <td>CR4</td>\n",
       "      <td>NaN</td>\n",
       "    </tr>\n",
       "    <tr>\n",
       "      <th>117</th>\n",
       "      <td>COIL_STRIP</td>\n",
       "      <td>1.0914</td>\n",
       "      <td>HCT780X</td>\n",
       "      <td>NaN</td>\n",
       "    </tr>\n",
       "    <tr>\n",
       "      <th>119</th>\n",
       "      <td>COIL_STRIP</td>\n",
       "      <td>1.0226</td>\n",
       "      <td>DX51D</td>\n",
       "      <td>NaN</td>\n",
       "    </tr>\n",
       "    <tr>\n",
       "      <th>126</th>\n",
       "      <td>COIL_STRIP</td>\n",
       "      <td>1.0914</td>\n",
       "      <td>CR180BH</td>\n",
       "      <td>NaN</td>\n",
       "    </tr>\n",
       "    <tr>\n",
       "      <th>131</th>\n",
       "      <td>COIL_STRIP</td>\n",
       "      <td>1.0873</td>\n",
       "      <td>HCT780X</td>\n",
       "      <td>NaN</td>\n",
       "    </tr>\n",
       "  </tbody>\n",
       "</table>\n",
       "</div>"
      ],
      "text/plain": [
       "    PRODUCT_TYPE  MATERIAL_NUMBER MATERIAL_NAME MATERIAL_QUALITY_NORM\n",
       "3          SHEET           1.0976        S355MC                   NaN\n",
       "10    COIL_STRIP           1.0873       HCT780X                   NaN\n",
       "44    COIL_STRIP           1.0943       HCT780X                   NaN\n",
       "56         SHEET           1.1191          C45E                   NaN\n",
       "61         SHEET           1.0984        S500MC                   NaN\n",
       "62         SHEET           1.0982        S460MC                   NaN\n",
       "78    COIL_STRIP           1.0914       CR180BH                   NaN\n",
       "79    COIL_STRIP           1.0306       HCT780X                   NaN\n",
       "87    COIL_STRIP           1.0914       CR210BH                   NaN\n",
       "90    COIL_STRIP           1.0914       CR210BH                   NaN\n",
       "102   COIL_STRIP           1.0917         DX51D                   NaN\n",
       "107   COIL_STRIP           1.0914           CR4                   NaN\n",
       "108   COIL_STRIP           1.0914           CR4                   NaN\n",
       "117   COIL_STRIP           1.0914       HCT780X                   NaN\n",
       "119   COIL_STRIP           1.0226         DX51D                   NaN\n",
       "126   COIL_STRIP           1.0914       CR180BH                   NaN\n",
       "131   COIL_STRIP           1.0873       HCT780X                   NaN"
      ]
     },
     "execution_count": 181,
     "metadata": {},
     "output_type": "execute_result"
    }
   ],
   "source": [
    "df2[df2[\"MATERIAL_QUALITY_NORM\"].isnull()][[\"PRODUCT_TYPE\", \"MATERIAL_NUMBER\", \"MATERIAL_NAME\", \"MATERIAL_QUALITY_NORM\"]]"
   ]
  },
  {
   "cell_type": "markdown",
   "id": "360fff7d-ed86-44d0-81d9-dbe6f9a5fa29",
   "metadata": {},
   "source": [
    "Imputing based on most frequenting values."
   ]
  },
  {
   "cell_type": "code",
   "execution_count": 185,
   "id": "da2899c7-687c-48b1-a187-94fd465c7828",
   "metadata": {},
   "outputs": [
    {
     "name": "stderr",
     "output_type": "stream",
     "text": [
      "C:\\Users\\kaleem\\AppData\\Local\\Temp\\ipykernel_6916\\3185222845.py:6: FutureWarning: A value is trying to be set on a copy of a DataFrame or Series through chained assignment using an inplace method.\n",
      "The behavior will change in pandas 3.0. This inplace method will never work because the intermediate object on which we are setting values always behaves as a copy.\n",
      "\n",
      "For example, when doing 'df[col].method(value, inplace=True)', try using 'df.method({col: value}, inplace=True)' or df[col] = df[col].method(value) instead, to perform the operation inplace on the original object.\n",
      "\n",
      "\n",
      "  df2[\"MATERIAL_QUALITY_NORM\"].fillna(mode_material_quality, inplace=True)\n"
     ]
    }
   ],
   "source": [
    "# Step 1: Fill missing values in 'MATERIAL_QUALITY_NORM' within 'PRODUCT_TYPE' and 'MATERIAL_NAME'\n",
    "df2[\"MATERIAL_QUALITY_NORM\"] = df2.groupby([\"PRODUCT_TYPE\", \"MATERIAL_NAME\"])[\"MATERIAL_QUALITY_NORM\"].transform(lambda x: x.fillna(x.mode()[0] if not x.mode().empty else \"Unknown\"))\n",
    "\n",
    "# Step 2: If any NaN values remain, fill them with the mode of the entire 'MATERIAL_QUALITY_NORM' column\n",
    "mode_material_quality = df2[\"MATERIAL_QUALITY_NORM\"].mode()[0]  # Mode of the entire column\n",
    "df2[\"MATERIAL_QUALITY_NORM\"].fillna(mode_material_quality, inplace=True)"
   ]
  },
  {
   "cell_type": "code",
   "execution_count": 201,
   "id": "b7c170f7-84ed-4f55-9069-b267f6c267cf",
   "metadata": {},
   "outputs": [
    {
     "name": "stdout",
     "output_type": "stream",
     "text": [
      "<class 'pandas.core.frame.DataFrame'>\n",
      "RangeIndex: 136 entries, 0 to 135\n",
      "Data columns (total 15 columns):\n",
      " #   Column                   Non-Null Count  Dtype  \n",
      "---  ------                   --------------  -----  \n",
      " 0   PRODUCT_TYPE             136 non-null    object \n",
      " 1   ORDER_ID                 136 non-null    int64  \n",
      " 2   SITE                     136 non-null    object \n",
      " 3   MATERIAL_NAME            136 non-null    object \n",
      " 4   MATERIAL_NUMBER          136 non-null    float64\n",
      " 5   MATERIAL_QUALITY_NORM    136 non-null    object \n",
      " 6   DEFECT_NOTES             136 non-null    object \n",
      " 7   NOMINAL_THICKNESS_MM     136 non-null    float64\n",
      " 8   WIDTH_MM                 136 non-null    int64  \n",
      " 9   LENGTH_MM                136 non-null    float64\n",
      " 10  MASS_MIN_KG              136 non-null    int64  \n",
      " 11  INCO_TERM                136 non-null    object \n",
      " 12  BUY_NOW_EUR_PER_TON      39 non-null     float64\n",
      " 13  MIN/MAX_BID_EUR_PER_TON  125 non-null    float64\n",
      " 14  VALID_UNTIL              136 non-null    object \n",
      "dtypes: float64(5), int64(3), object(7)\n",
      "memory usage: 16.1+ KB\n"
     ]
    }
   ],
   "source": [
    "df2.info()"
   ]
  },
  {
   "cell_type": "code",
   "execution_count": 188,
   "id": "c1059577-5916-49d5-97ee-a0e9451f1e8c",
   "metadata": {},
   "outputs": [
    {
     "data": {
      "text/html": [
       "<div>\n",
       "<style scoped>\n",
       "    .dataframe tbody tr th:only-of-type {\n",
       "        vertical-align: middle;\n",
       "    }\n",
       "\n",
       "    .dataframe tbody tr th {\n",
       "        vertical-align: top;\n",
       "    }\n",
       "\n",
       "    .dataframe thead th {\n",
       "        text-align: right;\n",
       "    }\n",
       "</style>\n",
       "<table border=\"1\" class=\"dataframe\">\n",
       "  <thead>\n",
       "    <tr style=\"text-align: right;\">\n",
       "      <th></th>\n",
       "      <th>PRODUCT_TYPE</th>\n",
       "      <th>MATERIAL_NUMBER</th>\n",
       "      <th>MATERIAL_QUALITY_NORM</th>\n",
       "      <th>DEFECT_NOTES</th>\n",
       "    </tr>\n",
       "  </thead>\n",
       "  <tbody>\n",
       "    <tr>\n",
       "      <th>1</th>\n",
       "      <td>SHEET</td>\n",
       "      <td>1.0976</td>\n",
       "      <td>DIN EN 10149</td>\n",
       "      <td>NaN</td>\n",
       "    </tr>\n",
       "    <tr>\n",
       "      <th>13</th>\n",
       "      <td>COIL_STRIP</td>\n",
       "      <td>1.0873</td>\n",
       "      <td>DIN EN 10130</td>\n",
       "      <td>NaN</td>\n",
       "    </tr>\n",
       "    <tr>\n",
       "      <th>14</th>\n",
       "      <td>COIL_STRIP</td>\n",
       "      <td>1.0873</td>\n",
       "      <td>DIN EN 10130</td>\n",
       "      <td>NaN</td>\n",
       "    </tr>\n",
       "    <tr>\n",
       "      <th>16</th>\n",
       "      <td>COIL_STRIP</td>\n",
       "      <td>1.0873</td>\n",
       "      <td>DIN EN 10130</td>\n",
       "      <td>NaN</td>\n",
       "    </tr>\n",
       "    <tr>\n",
       "      <th>25</th>\n",
       "      <td>SHEET</td>\n",
       "      <td>1.0038</td>\n",
       "      <td>DIN EN 10025</td>\n",
       "      <td>NaN</td>\n",
       "    </tr>\n",
       "    <tr>\n",
       "      <th>27</th>\n",
       "      <td>SHEET</td>\n",
       "      <td>1.0045</td>\n",
       "      <td>DIN EN 10025</td>\n",
       "      <td>NaN</td>\n",
       "    </tr>\n",
       "    <tr>\n",
       "      <th>37</th>\n",
       "      <td>COIL_STRIP</td>\n",
       "      <td>1.0943</td>\n",
       "      <td>DIN EN 10338</td>\n",
       "      <td>NaN</td>\n",
       "    </tr>\n",
       "    <tr>\n",
       "      <th>41</th>\n",
       "      <td>COIL_STRIP</td>\n",
       "      <td>1.0943</td>\n",
       "      <td>DIN EN 10338</td>\n",
       "      <td>NaN</td>\n",
       "    </tr>\n",
       "    <tr>\n",
       "      <th>49</th>\n",
       "      <td>COIL_STRIP</td>\n",
       "      <td>1.0943</td>\n",
       "      <td>DIN EN 10338</td>\n",
       "      <td>NaN</td>\n",
       "    </tr>\n",
       "    <tr>\n",
       "      <th>50</th>\n",
       "      <td>COIL_STRIP</td>\n",
       "      <td>1.0943</td>\n",
       "      <td>DIN EN 10338</td>\n",
       "      <td>NaN</td>\n",
       "    </tr>\n",
       "    <tr>\n",
       "      <th>51</th>\n",
       "      <td>SHEET</td>\n",
       "      <td>1.0038</td>\n",
       "      <td>DIN EN 10025</td>\n",
       "      <td>NaN</td>\n",
       "    </tr>\n",
       "    <tr>\n",
       "      <th>59</th>\n",
       "      <td>SHEET</td>\n",
       "      <td>1.0038</td>\n",
       "      <td>DIN EN 10025</td>\n",
       "      <td>NaN</td>\n",
       "    </tr>\n",
       "    <tr>\n",
       "      <th>64</th>\n",
       "      <td>SHEET</td>\n",
       "      <td>1.0332</td>\n",
       "      <td>DIN EN 10111</td>\n",
       "      <td>NaN</td>\n",
       "    </tr>\n",
       "    <tr>\n",
       "      <th>70</th>\n",
       "      <td>SHEET</td>\n",
       "      <td>1.0038</td>\n",
       "      <td>DIN EN 10025</td>\n",
       "      <td>NaN</td>\n",
       "    </tr>\n",
       "    <tr>\n",
       "      <th>98</th>\n",
       "      <td>COIL_STRIP</td>\n",
       "      <td>1.0914</td>\n",
       "      <td>VDA 239-100</td>\n",
       "      <td>NaN</td>\n",
       "    </tr>\n",
       "    <tr>\n",
       "      <th>119</th>\n",
       "      <td>COIL_STRIP</td>\n",
       "      <td>1.0226</td>\n",
       "      <td>DIN EN 10346</td>\n",
       "      <td>NaN</td>\n",
       "    </tr>\n",
       "    <tr>\n",
       "      <th>120</th>\n",
       "      <td>COIL_STRIP</td>\n",
       "      <td>1.0914</td>\n",
       "      <td>VDA 239-100</td>\n",
       "      <td>NaN</td>\n",
       "    </tr>\n",
       "    <tr>\n",
       "      <th>129</th>\n",
       "      <td>COIL_STRIP</td>\n",
       "      <td>1.0395</td>\n",
       "      <td>DIN EN 10268</td>\n",
       "      <td>NaN</td>\n",
       "    </tr>\n",
       "    <tr>\n",
       "      <th>134</th>\n",
       "      <td>SHEET</td>\n",
       "      <td>1.0045</td>\n",
       "      <td>DIN EN 10025</td>\n",
       "      <td>NaN</td>\n",
       "    </tr>\n",
       "    <tr>\n",
       "      <th>135</th>\n",
       "      <td>SHEET</td>\n",
       "      <td>1.0038</td>\n",
       "      <td>DIN EN 10025</td>\n",
       "      <td>NaN</td>\n",
       "    </tr>\n",
       "  </tbody>\n",
       "</table>\n",
       "</div>"
      ],
      "text/plain": [
       "    PRODUCT_TYPE  MATERIAL_NUMBER MATERIAL_QUALITY_NORM DEFECT_NOTES\n",
       "1          SHEET           1.0976          DIN EN 10149          NaN\n",
       "13    COIL_STRIP           1.0873          DIN EN 10130          NaN\n",
       "14    COIL_STRIP           1.0873          DIN EN 10130          NaN\n",
       "16    COIL_STRIP           1.0873          DIN EN 10130          NaN\n",
       "25         SHEET           1.0038          DIN EN 10025          NaN\n",
       "27         SHEET           1.0045          DIN EN 10025          NaN\n",
       "37    COIL_STRIP           1.0943          DIN EN 10338          NaN\n",
       "41    COIL_STRIP           1.0943          DIN EN 10338          NaN\n",
       "49    COIL_STRIP           1.0943          DIN EN 10338          NaN\n",
       "50    COIL_STRIP           1.0943          DIN EN 10338          NaN\n",
       "51         SHEET           1.0038          DIN EN 10025          NaN\n",
       "59         SHEET           1.0038          DIN EN 10025          NaN\n",
       "64         SHEET           1.0332          DIN EN 10111          NaN\n",
       "70         SHEET           1.0038          DIN EN 10025          NaN\n",
       "98    COIL_STRIP           1.0914           VDA 239-100          NaN\n",
       "119   COIL_STRIP           1.0226          DIN EN 10346          NaN\n",
       "120   COIL_STRIP           1.0914           VDA 239-100          NaN\n",
       "129   COIL_STRIP           1.0395          DIN EN 10268          NaN\n",
       "134        SHEET           1.0045          DIN EN 10025          NaN\n",
       "135        SHEET           1.0038          DIN EN 10025          NaN"
      ]
     },
     "execution_count": 188,
     "metadata": {},
     "output_type": "execute_result"
    }
   ],
   "source": [
    "df2[df2[\"DEFECT_NOTES\"].isnull()][[\"PRODUCT_TYPE\", \"MATERIAL_NUMBER\", \"MATERIAL_QUALITY_NORM\", \"DEFECT_NOTES\"]]"
   ]
  },
  {
   "cell_type": "code",
   "execution_count": 191,
   "id": "9a847e9d-3f9e-4040-af2f-1278d040ac8f",
   "metadata": {},
   "outputs": [
    {
     "data": {
      "text/plain": [
       "DEFECT_NOTES\n",
       "No Defect                               20\n",
       "DEKL-S355MC  / D2A WEH                   7\n",
       "DEKL-S355JR  / D2A KRA                   7\n",
       "HCT780X+ Z 145 MB OL                     6\n",
       "DEKL-S500MC  / D2A UUE                   5\n",
       "                                        ..\n",
       "CR4GI40/40-U Z 90 MB OL  / D2A DSH       1\n",
       "CR210BHGI75/75-E Z 160 MC  / D3A DGN     1\n",
       "CR180BHGI50/50-U Z 100 MB  / D2A SUN     1\n",
       "CR5GI40/40-U Z 90 MB OL  / D2A SAO       1\n",
       "phs-uncoated 1500 CR  / D2A KS           1\n",
       "Name: count, Length: 75, dtype: int64"
      ]
     },
     "execution_count": 191,
     "metadata": {},
     "output_type": "execute_result"
    }
   ],
   "source": [
    "df2[\"DEFECT_NOTES\"].value_counts()"
   ]
  },
  {
   "cell_type": "code",
   "execution_count": 190,
   "id": "24b7f618-c03e-41d0-83e9-8926a10060c2",
   "metadata": {},
   "outputs": [
    {
     "name": "stderr",
     "output_type": "stream",
     "text": [
      "C:\\Users\\kaleem\\AppData\\Local\\Temp\\ipykernel_6916\\2666949148.py:1: FutureWarning: A value is trying to be set on a copy of a DataFrame or Series through chained assignment using an inplace method.\n",
      "The behavior will change in pandas 3.0. This inplace method will never work because the intermediate object on which we are setting values always behaves as a copy.\n",
      "\n",
      "For example, when doing 'df[col].method(value, inplace=True)', try using 'df.method({col: value}, inplace=True)' or df[col] = df[col].method(value) instead, to perform the operation inplace on the original object.\n",
      "\n",
      "\n",
      "  df2[\"DEFECT_NOTES\"].fillna(\"No Defect\", inplace=True)\n"
     ]
    }
   ],
   "source": [
    "df2[\"DEFECT_NOTES\"].fillna(\"No Defect\", inplace=True)"
   ]
  },
  {
   "cell_type": "code",
   "execution_count": 193,
   "id": "b193490e-7258-4513-8236-92dc82409431",
   "metadata": {},
   "outputs": [
    {
     "data": {
      "text/plain": [
       "LENGTH_MM\n",
       "3008.0    12\n",
       "2506.0     8\n",
       "2356.0     6\n",
       "2760.0     5\n",
       "1974.0     4\n",
       "3000.0     3\n",
       "2355.0     2\n",
       "2256.0     2\n",
       "2000.0     2\n",
       "2907.0     1\n",
       "3702.0     1\n",
       "2005.0     1\n",
       "3009.0     1\n",
       "3007.0     1\n",
       "2956.0     1\n",
       "3802.0     1\n",
       "2605.0     1\n",
       "2957.0     1\n",
       "2830.0     1\n",
       "3108.0     1\n",
       "Name: count, dtype: int64"
      ]
     },
     "execution_count": 193,
     "metadata": {},
     "output_type": "execute_result"
    }
   ],
   "source": [
    "df2[\"LENGTH_MM\"].value_counts()"
   ]
  },
  {
   "cell_type": "code",
   "execution_count": 194,
   "id": "d0673f9f-942e-4235-b635-ac96859bc9ee",
   "metadata": {},
   "outputs": [
    {
     "data": {
      "text/html": [
       "<div>\n",
       "<style scoped>\n",
       "    .dataframe tbody tr th:only-of-type {\n",
       "        vertical-align: middle;\n",
       "    }\n",
       "\n",
       "    .dataframe tbody tr th {\n",
       "        vertical-align: top;\n",
       "    }\n",
       "\n",
       "    .dataframe thead th {\n",
       "        text-align: right;\n",
       "    }\n",
       "</style>\n",
       "<table border=\"1\" class=\"dataframe\">\n",
       "  <thead>\n",
       "    <tr style=\"text-align: right;\">\n",
       "      <th></th>\n",
       "      <th>PRODUCT_TYPE</th>\n",
       "      <th>MATERIAL_NUMBER</th>\n",
       "      <th>WIDTH_MM</th>\n",
       "      <th>LENGTH_MM</th>\n",
       "    </tr>\n",
       "  </thead>\n",
       "  <tbody>\n",
       "    <tr>\n",
       "      <th>10</th>\n",
       "      <td>COIL_STRIP</td>\n",
       "      <td>1.0873</td>\n",
       "      <td>1385</td>\n",
       "      <td>NaN</td>\n",
       "    </tr>\n",
       "    <tr>\n",
       "      <th>11</th>\n",
       "      <td>COIL_STRIP</td>\n",
       "      <td>1.0873</td>\n",
       "      <td>1170</td>\n",
       "      <td>NaN</td>\n",
       "    </tr>\n",
       "    <tr>\n",
       "      <th>12</th>\n",
       "      <td>COIL_STRIP</td>\n",
       "      <td>1.0873</td>\n",
       "      <td>1581</td>\n",
       "      <td>NaN</td>\n",
       "    </tr>\n",
       "    <tr>\n",
       "      <th>13</th>\n",
       "      <td>COIL_STRIP</td>\n",
       "      <td>1.0873</td>\n",
       "      <td>1479</td>\n",
       "      <td>NaN</td>\n",
       "    </tr>\n",
       "    <tr>\n",
       "      <th>14</th>\n",
       "      <td>COIL_STRIP</td>\n",
       "      <td>1.0873</td>\n",
       "      <td>1628</td>\n",
       "      <td>NaN</td>\n",
       "    </tr>\n",
       "    <tr>\n",
       "      <th>...</th>\n",
       "      <td>...</td>\n",
       "      <td>...</td>\n",
       "      <td>...</td>\n",
       "      <td>...</td>\n",
       "    </tr>\n",
       "    <tr>\n",
       "      <th>128</th>\n",
       "      <td>COIL_STRIP</td>\n",
       "      <td>1.0914</td>\n",
       "      <td>1130</td>\n",
       "      <td>NaN</td>\n",
       "    </tr>\n",
       "    <tr>\n",
       "      <th>129</th>\n",
       "      <td>COIL_STRIP</td>\n",
       "      <td>1.0395</td>\n",
       "      <td>1282</td>\n",
       "      <td>NaN</td>\n",
       "    </tr>\n",
       "    <tr>\n",
       "      <th>130</th>\n",
       "      <td>COIL_STRIP</td>\n",
       "      <td>1.0914</td>\n",
       "      <td>1451</td>\n",
       "      <td>NaN</td>\n",
       "    </tr>\n",
       "    <tr>\n",
       "      <th>131</th>\n",
       "      <td>COIL_STRIP</td>\n",
       "      <td>1.0873</td>\n",
       "      <td>1385</td>\n",
       "      <td>NaN</td>\n",
       "    </tr>\n",
       "    <tr>\n",
       "      <th>133</th>\n",
       "      <td>COIL_STRIP</td>\n",
       "      <td>1.0914</td>\n",
       "      <td>1432</td>\n",
       "      <td>NaN</td>\n",
       "    </tr>\n",
       "  </tbody>\n",
       "</table>\n",
       "<p>81 rows × 4 columns</p>\n",
       "</div>"
      ],
      "text/plain": [
       "    PRODUCT_TYPE  MATERIAL_NUMBER  WIDTH_MM  LENGTH_MM\n",
       "10    COIL_STRIP           1.0873      1385        NaN\n",
       "11    COIL_STRIP           1.0873      1170        NaN\n",
       "12    COIL_STRIP           1.0873      1581        NaN\n",
       "13    COIL_STRIP           1.0873      1479        NaN\n",
       "14    COIL_STRIP           1.0873      1628        NaN\n",
       "..           ...              ...       ...        ...\n",
       "128   COIL_STRIP           1.0914      1130        NaN\n",
       "129   COIL_STRIP           1.0395      1282        NaN\n",
       "130   COIL_STRIP           1.0914      1451        NaN\n",
       "131   COIL_STRIP           1.0873      1385        NaN\n",
       "133   COIL_STRIP           1.0914      1432        NaN\n",
       "\n",
       "[81 rows x 4 columns]"
      ]
     },
     "execution_count": 194,
     "metadata": {},
     "output_type": "execute_result"
    }
   ],
   "source": [
    "df2[df2[\"LENGTH_MM\"].isnull()][[\"PRODUCT_TYPE\", \"MATERIAL_NUMBER\", \"WIDTH_MM\", \"LENGTH_MM\"]]"
   ]
  },
  {
   "cell_type": "code",
   "execution_count": 295,
   "id": "fa15583c-0418-4e04-a0e4-4f86c86269c4",
   "metadata": {},
   "outputs": [
    {
     "data": {
      "text/plain": [
       "array([['SHEET', 1.0038, 1509.0, 3008.0],\n",
       "       ['SHEET', 1.0976, 1011.0, 2355.0],\n",
       "       ['SHEET', 1.0976, 1010.0, 2356.0],\n",
       "       ['SHEET', 1.0976, 1011.0, 2356.0],\n",
       "       ['SHEET', 1.0976, 1010.0, 2356.0]], dtype=object)"
      ]
     },
     "execution_count": 295,
     "metadata": {},
     "output_type": "execute_result"
    }
   ],
   "source": [
    "df2[[\"PRODUCT_TYPE\", \"MATERIAL_NUMBER\", \"WIDTH_MM\", \"LENGTH_MM\"]].values[:5]"
   ]
  },
  {
   "cell_type": "code",
   "execution_count": 197,
   "id": "e55f0ec3-1861-4778-b429-b1ad6205b20f",
   "metadata": {},
   "outputs": [
    {
     "name": "stderr",
     "output_type": "stream",
     "text": [
      "C:\\Users\\kaleem\\AppData\\Local\\Temp\\ipykernel_6916\\1886780349.py:2: FutureWarning: A value is trying to be set on a copy of a DataFrame or Series through chained assignment using an inplace method.\n",
      "The behavior will change in pandas 3.0. This inplace method will never work because the intermediate object on which we are setting values always behaves as a copy.\n",
      "\n",
      "For example, when doing 'df[col].method(value, inplace=True)', try using 'df.method({col: value}, inplace=True)' or df[col] = df[col].method(value) instead, to perform the operation inplace on the original object.\n",
      "\n",
      "\n",
      "  df2[\"LENGTH_MM\"].fillna(most_frequent_length, inplace=True)\n"
     ]
    }
   ],
   "source": [
    "most_frequent_length = df2[\"LENGTH_MM\"].mode()[0]\n",
    "df2[\"LENGTH_MM\"].fillna(most_frequent_length, inplace=True)"
   ]
  },
  {
   "cell_type": "code",
   "execution_count": 199,
   "id": "46a4d0aa-b7ac-4afb-9b72-21c12e8bb148",
   "metadata": {},
   "outputs": [
    {
     "data": {
      "text/plain": [
       "INCO_TERM\n",
       "FCA    93\n",
       "FKA    15\n",
       "Name: count, dtype: int64"
      ]
     },
     "execution_count": 199,
     "metadata": {},
     "output_type": "execute_result"
    }
   ],
   "source": [
    "df2[\"INCO_TERM\"].value_counts()"
   ]
  },
  {
   "cell_type": "markdown",
   "id": "a2eddf02-0077-4f71-9394-0d1ce5ec27b2",
   "metadata": {},
   "source": [
    "I guess FKA is mispelled here, it should be FCA too. C might be mispelled to K."
   ]
  },
  {
   "cell_type": "code",
   "execution_count": 200,
   "id": "f97efbc6-645d-415d-afbb-6618c78ef73c",
   "metadata": {},
   "outputs": [],
   "source": [
    "# Replace 'FKA' with 'FCA'\n",
    "df2['INCO_TERM'] = df2['INCO_TERM'].replace('FKA', 'FCA')\n",
    "\n",
    "# Fill NaN values with \"Others\"\n",
    "df2['INCO_TERM'] = df2['INCO_TERM'].fillna('Others')"
   ]
  },
  {
   "cell_type": "code",
   "execution_count": 203,
   "id": "6715ccad-f806-4288-afc7-200e9a86d239",
   "metadata": {},
   "outputs": [
    {
     "data": {
      "text/plain": [
       "BUY_NOW_EUR_PER_TON\n",
       "600.0    21\n",
       "640.0    18\n",
       "Name: count, dtype: int64"
      ]
     },
     "execution_count": 203,
     "metadata": {},
     "output_type": "execute_result"
    }
   ],
   "source": [
    "df2[\"BUY_NOW_EUR_PER_TON\"].value_counts()"
   ]
  },
  {
   "cell_type": "code",
   "execution_count": 294,
   "id": "2c453e49-7caf-4966-a0d1-ebf289ab161d",
   "metadata": {},
   "outputs": [
    {
     "data": {
      "text/plain": [
       "array([['SHEET', 1.0038, 600.0],\n",
       "       ['SHEET', 1.0976, 600.0],\n",
       "       ['SHEET', 1.0976, 600.0],\n",
       "       ['SHEET', 1.0976, 600.0],\n",
       "       ['SHEET', 1.0976, 600.0]], dtype=object)"
      ]
     },
     "execution_count": 294,
     "metadata": {},
     "output_type": "execute_result"
    }
   ],
   "source": [
    "df2[[\"PRODUCT_TYPE\", \"MATERIAL_NUMBER\", \"BUY_NOW_EUR_PER_TON\"]].values[:5]"
   ]
  },
  {
   "cell_type": "code",
   "execution_count": 206,
   "id": "a87c0430-2f80-4b48-9448-d4f8ef8526a1",
   "metadata": {},
   "outputs": [],
   "source": [
    "# Fill NaN values with the mean price (600.0 + 640.0) / 2\n",
    "df2[\"BUY_NOW_EUR_PER_TON\"] = df2[\"BUY_NOW_EUR_PER_TON\"].fillna(df2[\"BUY_NOW_EUR_PER_TON\"].mean())"
   ]
  },
  {
   "cell_type": "code",
   "execution_count": 208,
   "id": "95faa0c6-b96d-4969-8f0d-5bb1f6aa76b6",
   "metadata": {},
   "outputs": [
    {
     "data": {
      "text/plain": [
       "MIN/MAX_BID_EUR_PER_TON\n",
       "520.0    29\n",
       "490.0    27\n",
       "550.0    26\n",
       "610.0    18\n",
       "620.0    15\n",
       "570.0    10\n",
       "Name: count, dtype: int64"
      ]
     },
     "execution_count": 208,
     "metadata": {},
     "output_type": "execute_result"
    }
   ],
   "source": [
    "df2[\"MIN/MAX_BID_EUR_PER_TON\"].value_counts()"
   ]
  },
  {
   "cell_type": "code",
   "execution_count": 293,
   "id": "d75e993c-40a6-43a2-b113-b5a2dbed2527",
   "metadata": {},
   "outputs": [
    {
     "data": {
      "text/plain": [
       "array([['SHEET', 1.0038, 600.0, 520.0],\n",
       "       ['SHEET', 1.0976, 600.0, 520.0],\n",
       "       ['SHEET', 1.0976, 600.0, 520.0],\n",
       "       ['SHEET', 1.0976, 600.0, 520.0],\n",
       "       ['SHEET', 1.0976, 600.0, 520.0]], dtype=object)"
      ]
     },
     "execution_count": 293,
     "metadata": {},
     "output_type": "execute_result"
    }
   ],
   "source": [
    "df2[[\"PRODUCT_TYPE\", \"MATERIAL_NUMBER\", \"BUY_NOW_EUR_PER_TON\", \"MIN/MAX_BID_EUR_PER_TON\"]].values[:5]"
   ]
  },
  {
   "cell_type": "code",
   "execution_count": 210,
   "id": "7cb176d6-9eb9-4578-8a84-4cd20766997a",
   "metadata": {},
   "outputs": [],
   "source": [
    "df2['MIN/MAX_BID_EUR_PER_TON'].fillna(df2['MIN/MAX_BID_EUR_PER_TON'].mode()[0], inplace=True)"
   ]
  },
  {
   "cell_type": "code",
   "execution_count": 211,
   "id": "67ea198a-e6c7-46e6-9fb7-bed050293c86",
   "metadata": {},
   "outputs": [
    {
     "data": {
      "text/html": [
       "<div>\n",
       "<style scoped>\n",
       "    .dataframe tbody tr th:only-of-type {\n",
       "        vertical-align: middle;\n",
       "    }\n",
       "\n",
       "    .dataframe tbody tr th {\n",
       "        vertical-align: top;\n",
       "    }\n",
       "\n",
       "    .dataframe thead th {\n",
       "        text-align: right;\n",
       "    }\n",
       "</style>\n",
       "<table border=\"1\" class=\"dataframe\">\n",
       "  <thead>\n",
       "    <tr style=\"text-align: right;\">\n",
       "      <th></th>\n",
       "      <th>PRODUCT_TYPE</th>\n",
       "      <th>ORDER_ID</th>\n",
       "      <th>SITE</th>\n",
       "      <th>MATERIAL_NAME</th>\n",
       "      <th>MATERIAL_NUMBER</th>\n",
       "      <th>MATERIAL_QUALITY_NORM</th>\n",
       "      <th>DEFECT_NOTES</th>\n",
       "      <th>NOMINAL_THICKNESS_MM</th>\n",
       "      <th>WIDTH_MM</th>\n",
       "      <th>LENGTH_MM</th>\n",
       "      <th>MASS_MIN_KG</th>\n",
       "      <th>INCO_TERM</th>\n",
       "      <th>BUY_NOW_EUR_PER_TON</th>\n",
       "      <th>MIN/MAX_BID_EUR_PER_TON</th>\n",
       "      <th>VALID_UNTIL</th>\n",
       "    </tr>\n",
       "  </thead>\n",
       "  <tbody>\n",
       "    <tr>\n",
       "      <th>0</th>\n",
       "      <td>SHEET</td>\n",
       "      <td>436765</td>\n",
       "      <td>1 company gmbh</td>\n",
       "      <td>S235JR</td>\n",
       "      <td>1.0038</td>\n",
       "      <td>DIN EN 10025</td>\n",
       "      <td>DEKL-S235JR  / D2A EID</td>\n",
       "      <td>11.859</td>\n",
       "      <td>1509</td>\n",
       "      <td>3008.0</td>\n",
       "      <td>2091</td>\n",
       "      <td>FCA</td>\n",
       "      <td>600.0</td>\n",
       "      <td>520.0</td>\n",
       "      <td>20/02/2025 11:00</td>\n",
       "    </tr>\n",
       "    <tr>\n",
       "      <th>1</th>\n",
       "      <td>SHEET</td>\n",
       "      <td>436754</td>\n",
       "      <td>1 company gmbh</td>\n",
       "      <td>S355MC</td>\n",
       "      <td>1.0976</td>\n",
       "      <td>DIN EN 10149</td>\n",
       "      <td>No Defect</td>\n",
       "      <td>8.057</td>\n",
       "      <td>1011</td>\n",
       "      <td>2355.0</td>\n",
       "      <td>2411</td>\n",
       "      <td>FCA</td>\n",
       "      <td>600.0</td>\n",
       "      <td>520.0</td>\n",
       "      <td>20/02/2025 11:00</td>\n",
       "    </tr>\n",
       "    <tr>\n",
       "      <th>2</th>\n",
       "      <td>SHEET</td>\n",
       "      <td>436755</td>\n",
       "      <td>1 company gmbh</td>\n",
       "      <td>S235JR</td>\n",
       "      <td>1.0976</td>\n",
       "      <td>DIN EN 10149</td>\n",
       "      <td>DEKL-S355MC  / D2A WEH</td>\n",
       "      <td>8.057</td>\n",
       "      <td>1010</td>\n",
       "      <td>2356.0</td>\n",
       "      <td>2251</td>\n",
       "      <td>FCA</td>\n",
       "      <td>600.0</td>\n",
       "      <td>520.0</td>\n",
       "      <td>2025-02-20 11:00</td>\n",
       "    </tr>\n",
       "    <tr>\n",
       "      <th>3</th>\n",
       "      <td>SHEET</td>\n",
       "      <td>436757</td>\n",
       "      <td>1 company gmbh</td>\n",
       "      <td>S355MC</td>\n",
       "      <td>1.0976</td>\n",
       "      <td>DIN EN 10149</td>\n",
       "      <td>DEKL-S355MC  / D2A WEH</td>\n",
       "      <td>8.057</td>\n",
       "      <td>1011</td>\n",
       "      <td>2356.0</td>\n",
       "      <td>2401</td>\n",
       "      <td>FCA</td>\n",
       "      <td>600.0</td>\n",
       "      <td>520.0</td>\n",
       "      <td>2025-02-20 11:00</td>\n",
       "    </tr>\n",
       "    <tr>\n",
       "      <th>4</th>\n",
       "      <td>SHEET</td>\n",
       "      <td>436758</td>\n",
       "      <td>1 company gmbh</td>\n",
       "      <td>S355MC</td>\n",
       "      <td>1.0976</td>\n",
       "      <td>DN EN 10149</td>\n",
       "      <td>DEKL-S355MC  / D2A WEH</td>\n",
       "      <td>8.057</td>\n",
       "      <td>1010</td>\n",
       "      <td>2356.0</td>\n",
       "      <td>2401</td>\n",
       "      <td>FCA</td>\n",
       "      <td>600.0</td>\n",
       "      <td>520.0</td>\n",
       "      <td>2025-02-20 11:00</td>\n",
       "    </tr>\n",
       "  </tbody>\n",
       "</table>\n",
       "</div>"
      ],
      "text/plain": [
       "  PRODUCT_TYPE  ORDER_ID            SITE MATERIAL_NAME  MATERIAL_NUMBER  \\\n",
       "0        SHEET    436765  1 company gmbh        S235JR           1.0038   \n",
       "1        SHEET    436754  1 company gmbh        S355MC           1.0976   \n",
       "2        SHEET    436755  1 company gmbh        S235JR           1.0976   \n",
       "3        SHEET    436757  1 company gmbh        S355MC           1.0976   \n",
       "4        SHEET    436758  1 company gmbh        S355MC           1.0976   \n",
       "\n",
       "  MATERIAL_QUALITY_NORM            DEFECT_NOTES  NOMINAL_THICKNESS_MM  \\\n",
       "0          DIN EN 10025  DEKL-S235JR  / D2A EID                11.859   \n",
       "1          DIN EN 10149               No Defect                 8.057   \n",
       "2          DIN EN 10149  DEKL-S355MC  / D2A WEH                 8.057   \n",
       "3          DIN EN 10149  DEKL-S355MC  / D2A WEH                 8.057   \n",
       "4           DN EN 10149  DEKL-S355MC  / D2A WEH                 8.057   \n",
       "\n",
       "   WIDTH_MM  LENGTH_MM  MASS_MIN_KG INCO_TERM  BUY_NOW_EUR_PER_TON  \\\n",
       "0      1509     3008.0         2091       FCA                600.0   \n",
       "1      1011     2355.0         2411       FCA                600.0   \n",
       "2      1010     2356.0         2251       FCA                600.0   \n",
       "3      1011     2356.0         2401       FCA                600.0   \n",
       "4      1010     2356.0         2401       FCA                600.0   \n",
       "\n",
       "   MIN/MAX_BID_EUR_PER_TON       VALID_UNTIL  \n",
       "0                    520.0  20/02/2025 11:00  \n",
       "1                    520.0  20/02/2025 11:00  \n",
       "2                    520.0  2025-02-20 11:00  \n",
       "3                    520.0  2025-02-20 11:00  \n",
       "4                    520.0  2025-02-20 11:00  "
      ]
     },
     "execution_count": 211,
     "metadata": {},
     "output_type": "execute_result"
    }
   ],
   "source": [
    "df2.head()"
   ]
  },
  {
   "cell_type": "code",
   "execution_count": null,
   "id": "a2af81ff-6705-4897-9d97-d8ae91667ce2",
   "metadata": {},
   "outputs": [],
   "source": []
  },
  {
   "cell_type": "code",
   "execution_count": null,
   "id": "6c1ced8f-f52d-469f-8f3c-20e77a43075b",
   "metadata": {},
   "outputs": [],
   "source": []
  },
  {
   "cell_type": "code",
   "execution_count": null,
   "id": "77848a79-09ea-4b62-9a27-90d7ae044c6f",
   "metadata": {},
   "outputs": [],
   "source": []
  },
  {
   "cell_type": "markdown",
   "id": "f459c6ea-7a82-4e56-a9db-ab94ddfca015",
   "metadata": {},
   "source": [
    "### Join the datasets"
   ]
  },
  {
   "cell_type": "code",
   "execution_count": 220,
   "id": "48bd5546-b1f0-4888-b990-12c0e6c8ffad",
   "metadata": {},
   "outputs": [
    {
     "data": {
      "text/plain": [
       "Index(['Quality of Material', 'Order Grade Text',\n",
       "       'Nominal Thickness (mm with decimal point)', 'Width', 'Length',\n",
       "       'Weight (kg)', 'Cluster', 'Silicon Content', 'Manganese Content',\n",
       "       'Phosphorus Content', 'Sulfur Content', 'Chromium Content',\n",
       "       'Nickel Content', 'Molybdenum Content', 'Vanadium Content',\n",
       "       'Copper Content', 'Niobium Content', 'Titanium Content',\n",
       "       'Aluminum Content', 'Boron Content', 'Yield Strength',\n",
       "       'Tensile Strength', 'Elongation'],\n",
       "      dtype='object')"
      ]
     },
     "execution_count": 220,
     "metadata": {},
     "output_type": "execute_result"
    }
   ],
   "source": [
    "df1.head().columns"
   ]
  },
  {
   "cell_type": "code",
   "execution_count": 221,
   "id": "a6b48635-dfa7-4d60-810c-76b4884d7b2b",
   "metadata": {},
   "outputs": [
    {
     "data": {
      "text/plain": [
       "Index(['PRODUCT_TYPE', 'ORDER_ID', 'SITE', 'MATERIAL_NAME', 'MATERIAL_NUMBER',\n",
       "       'MATERIAL_QUALITY_NORM', 'DEFECT_NOTES', 'NOMINAL_THICKNESS_MM',\n",
       "       'WIDTH_MM', 'LENGTH_MM', 'MASS_MIN_KG', 'INCO_TERM',\n",
       "       'BUY_NOW_EUR_PER_TON', 'MIN/MAX_BID_EUR_PER_TON', 'VALID_UNTIL'],\n",
       "      dtype='object')"
      ]
     },
     "execution_count": 221,
     "metadata": {},
     "output_type": "execute_result"
    }
   ],
   "source": [
    "df2.head().columns"
   ]
  },
  {
   "cell_type": "code",
   "execution_count": 222,
   "id": "979b2dc7-2877-4d96-a2f0-79d6774c99a1",
   "metadata": {},
   "outputs": [
    {
     "data": {
      "text/plain": [
       "Index(['Quality of Material', 'Order Grade Text',\n",
       "       'Nominal Thickness (mm with decimal point)', 'Width', 'Length',\n",
       "       'Weight (kg)', 'Cluster', 'Silicon Content', 'Manganese Content',\n",
       "       'Phosphorus Content', 'Sulfur Content', 'Chromium Content',\n",
       "       'Nickel Content', 'Molybdenum Content', 'Vanadium Content',\n",
       "       'Copper Content', 'Niobium Content', 'Titanium Content',\n",
       "       'Aluminum Content', 'Boron Content', 'Yield Strength',\n",
       "       'Tensile Strength', 'Elongation'],\n",
       "      dtype='object')"
      ]
     },
     "execution_count": 222,
     "metadata": {},
     "output_type": "execute_result"
    }
   ],
   "source": [
    "df1.columns.str.strip()"
   ]
  },
  {
   "cell_type": "code",
   "execution_count": 246,
   "id": "7d5d23c3-d571-4e7c-af02-9c7fe7286f07",
   "metadata": {},
   "outputs": [
    {
     "data": {
      "text/plain": [
       "0      1509.0\n",
       "1      1011.0\n",
       "2      1010.0\n",
       "3      1011.0\n",
       "4      1010.0\n",
       "        ...  \n",
       "131    1385.0\n",
       "132    1509.0\n",
       "133    1432.0\n",
       "134    1507.0\n",
       "135    1256.0\n",
       "Name: WIDTH_MM, Length: 136, dtype: float64"
      ]
     },
     "execution_count": 246,
     "metadata": {},
     "output_type": "execute_result"
    }
   ],
   "source": [
    "df2[\"WIDTH_MM\"]"
   ]
  },
  {
   "cell_type": "code",
   "execution_count": 235,
   "id": "b6076551-bce0-4de2-aff8-bbce64e94bf9",
   "metadata": {},
   "outputs": [],
   "source": [
    "df1['Width'] = df1['Width'].replace({',': ''}, regex=True)  # Remove commas\n",
    "df1['Width'] = pd.to_numeric(df1['Width'], errors='coerce')"
   ]
  },
  {
   "cell_type": "code",
   "execution_count": 243,
   "id": "12526743-e7fd-4858-83a9-aea8b79ef3a8",
   "metadata": {},
   "outputs": [],
   "source": [
    "df1.columns = df1.columns.str.strip()\n",
    "df2.columns = df2.columns.str.strip()\n",
    "\n",
    "df1[\"Width\"] = df1[\"Width\"].astype(np.float16)\n",
    "df2[\"Width_MM\"] = df2[\"WIDTH_MM\"].astype(np.float16)"
   ]
  },
  {
   "cell_type": "code",
   "execution_count": 244,
   "id": "e8f0e4a9-60b2-4b40-893d-9063e43d0d3c",
   "metadata": {},
   "outputs": [],
   "source": [
    "df1.dropna(subset=['Nominal Thickness (mm with decimal point)', 'Width'], inplace=True)\n",
    "df2.dropna(subset=['NOMINAL_THICKNESS_MM', 'WIDTH_MM'], inplace=True)"
   ]
  },
  {
   "cell_type": "code",
   "execution_count": 251,
   "id": "0e739c18-e63f-4400-8c86-534007def83b",
   "metadata": {},
   "outputs": [
    {
     "data": {
      "text/plain": [
       "(Index(['Quality of Material', 'Order Grade Text',\n",
       "        'Nominal Thickness (mm with decimal point)', 'Width', 'Length',\n",
       "        'Weight (kg)', 'Cluster', 'Silicon Content', 'Manganese Content',\n",
       "        'Phosphorus Content', 'Sulfur Content', 'Chromium Content',\n",
       "        'Nickel Content', 'Molybdenum Content', 'Vanadium Content',\n",
       "        'Copper Content', 'Niobium Content', 'Titanium Content',\n",
       "        'Aluminum Content', 'Boron Content', 'Yield Strength',\n",
       "        'Tensile Strength', 'Elongation'],\n",
       "       dtype='object'),\n",
       " Index(['PRODUCT_TYPE', 'ORDER_ID', 'SITE', 'MATERIAL_NAME', 'MATERIAL_NUMBER',\n",
       "        'MATERIAL_QUALITY_NORM', 'DEFECT_NOTES', 'NOMINAL_THICKNESS_MM',\n",
       "        'WIDTH_MM', 'LENGTH_MM', 'MASS_MIN_KG', 'INCO_TERM',\n",
       "        'BUY_NOW_EUR_PER_TON', 'MIN/MAX_BID_EUR_PER_TON', 'VALID_UNTIL',\n",
       "        'Width_MM'],\n",
       "       dtype='object'))"
      ]
     },
     "execution_count": 251,
     "metadata": {},
     "output_type": "execute_result"
    }
   ],
   "source": [
    "df1.columns, df2.columns"
   ]
  },
  {
   "cell_type": "code",
   "execution_count": 252,
   "id": "cf620111-9d2b-4900-9b33-1debbca0d007",
   "metadata": {},
   "outputs": [
    {
     "name": "stderr",
     "output_type": "stream",
     "text": [
      "C:\\Users\\kaleem\\AppData\\Local\\Temp\\ipykernel_6916\\3365485656.py:3: SettingWithCopyWarning: \n",
      "A value is trying to be set on a copy of a slice from a DataFrame\n",
      "\n",
      "See the caveats in the documentation: https://pandas.pydata.org/pandas-docs/stable/user_guide/indexing.html#returning-a-view-versus-a-copy\n",
      "  df1_selected.rename(columns={'Order Grade Text': 'Grade',\n",
      "C:\\Users\\kaleem\\AppData\\Local\\Temp\\ipykernel_6916\\3365485656.py:10: SettingWithCopyWarning: \n",
      "A value is trying to be set on a copy of a slice from a DataFrame\n",
      "\n",
      "See the caveats in the documentation: https://pandas.pydata.org/pandas-docs/stable/user_guide/indexing.html#returning-a-view-versus-a-copy\n",
      "  df2_selected.rename(columns={'MATERIAL_NAME': 'Material Name',\n"
     ]
    }
   ],
   "source": [
    "# Selecting and renaming columns for df1\n",
    "df1_selected = df1[['Order Grade Text', 'Nominal Thickness (mm with decimal point)', 'Width', 'Weight (kg)']]\n",
    "df1_selected.rename(columns={'Order Grade Text': 'Grade', \n",
    "                             'Nominal Thickness (mm with decimal point)': 'Thickness (mm)', \n",
    "                             'Width': 'Width (mm)', \n",
    "                             'Weight (kg)': 'Weight (kg)'}, inplace=True)\n",
    "\n",
    "# Selecting and renaming columns for df2\n",
    "df2_selected = df2[['PRODUCT_TYPE', 'MATERIAL_NAME', 'MATERIAL_NUMBER', 'NOMINAL_THICKNESS_MM', 'WIDTH_MM', 'MASS_MIN_KG', 'BUY_NOW_EUR_PER_TON', 'VALID_UNTIL']]\n",
    "df2_selected.rename(columns={'MATERIAL_NAME': 'Material Name', \n",
    "                             'MATERIAL_NUMBER': 'Material ID', \n",
    "                             'NOMINAL_THICKNESS_MM': 'Thickness (mm)', \n",
    "                             'WIDTH_MM': 'Width (mm)', \n",
    "                             'MASS_MIN_KG': 'Weight (kg)', \n",
    "                             'BUY_NOW_EUR_PER_TON': 'Price (EUR/ton)', \n",
    "                             'VALID_UNTIL': 'Validity'}, inplace=True)"
   ]
  },
  {
   "cell_type": "code",
   "execution_count": null,
   "id": "ae412af6-4328-4d8d-964d-d2909f9d789b",
   "metadata": {},
   "outputs": [],
   "source": []
  },
  {
   "cell_type": "code",
   "execution_count": null,
   "id": "b13b9a37-f78a-439d-9768-755109960171",
   "metadata": {},
   "outputs": [],
   "source": []
  },
  {
   "cell_type": "code",
   "execution_count": null,
   "id": "abd443df-fb1e-44e6-bc37-30619367b3e9",
   "metadata": {},
   "outputs": [],
   "source": []
  },
  {
   "cell_type": "code",
   "execution_count": null,
   "id": "1be341cf-fdd8-4c99-9ee1-fb7aa5d1d42a",
   "metadata": {},
   "outputs": [],
   "source": []
  },
  {
   "cell_type": "code",
   "execution_count": 255,
   "id": "802ba608-78d7-4e3f-8a8f-98723eeb545f",
   "metadata": {},
   "outputs": [
    {
     "data": {
      "text/plain": [
       "Index(['PRODUCT_TYPE', 'Material Name', 'Material ID', 'Thickness (mm)',\n",
       "       'Width (mm)', 'Weight (kg)', 'Price (EUR/ton)', 'Validity'],\n",
       "      dtype='object')"
      ]
     },
     "execution_count": 255,
     "metadata": {},
     "output_type": "execute_result"
    }
   ],
   "source": [
    "df2_selected.columns"
   ]
  },
  {
   "cell_type": "code",
   "execution_count": 260,
   "id": "6024c47e-0dec-490b-a12d-e2179686ce41",
   "metadata": {},
   "outputs": [
    {
     "name": "stdout",
     "output_type": "stream",
     "text": [
      "Grade              object\n",
      "Thickness (mm)    float64\n",
      "Width (mm)        float64\n",
      "Weight (kg)       float64\n",
      "dtype: object\n",
      "PRODUCT_TYPE        object\n",
      "Material Name       object\n",
      "Material ID        float64\n",
      "Thickness (mm)     float64\n",
      "Width (mm)         float64\n",
      "Weight (kg)        float64\n",
      "Price (EUR/ton)    float64\n",
      "Validity            object\n",
      "dtype: object\n"
     ]
    },
    {
     "name": "stderr",
     "output_type": "stream",
     "text": [
      "C:\\Users\\kaleem\\AppData\\Local\\Temp\\ipykernel_6916\\667963461.py:2: SettingWithCopyWarning: \n",
      "A value is trying to be set on a copy of a slice from a DataFrame.\n",
      "Try using .loc[row_indexer,col_indexer] = value instead\n",
      "\n",
      "See the caveats in the documentation: https://pandas.pydata.org/pandas-docs/stable/user_guide/indexing.html#returning-a-view-versus-a-copy\n",
      "  df1_selected['Thickness (mm)'] = df1_selected['Thickness (mm)'].astype('float64')\n",
      "C:\\Users\\kaleem\\AppData\\Local\\Temp\\ipykernel_6916\\667963461.py:3: SettingWithCopyWarning: \n",
      "A value is trying to be set on a copy of a slice from a DataFrame.\n",
      "Try using .loc[row_indexer,col_indexer] = value instead\n",
      "\n",
      "See the caveats in the documentation: https://pandas.pydata.org/pandas-docs/stable/user_guide/indexing.html#returning-a-view-versus-a-copy\n",
      "  df1_selected['Width (mm)'] = df1_selected['Width (mm)'].astype('float64')\n",
      "C:\\Users\\kaleem\\AppData\\Local\\Temp\\ipykernel_6916\\667963461.py:4: SettingWithCopyWarning: \n",
      "A value is trying to be set on a copy of a slice from a DataFrame.\n",
      "Try using .loc[row_indexer,col_indexer] = value instead\n",
      "\n",
      "See the caveats in the documentation: https://pandas.pydata.org/pandas-docs/stable/user_guide/indexing.html#returning-a-view-versus-a-copy\n",
      "  df1_selected['Weight (kg)'] = df1_selected['Weight (kg)'].astype('float64')\n",
      "C:\\Users\\kaleem\\AppData\\Local\\Temp\\ipykernel_6916\\667963461.py:7: SettingWithCopyWarning: \n",
      "A value is trying to be set on a copy of a slice from a DataFrame.\n",
      "Try using .loc[row_indexer,col_indexer] = value instead\n",
      "\n",
      "See the caveats in the documentation: https://pandas.pydata.org/pandas-docs/stable/user_guide/indexing.html#returning-a-view-versus-a-copy\n",
      "  df2_selected['Thickness (mm)'] = df2_selected['Thickness (mm)'].astype('float64')\n",
      "C:\\Users\\kaleem\\AppData\\Local\\Temp\\ipykernel_6916\\667963461.py:8: SettingWithCopyWarning: \n",
      "A value is trying to be set on a copy of a slice from a DataFrame.\n",
      "Try using .loc[row_indexer,col_indexer] = value instead\n",
      "\n",
      "See the caveats in the documentation: https://pandas.pydata.org/pandas-docs/stable/user_guide/indexing.html#returning-a-view-versus-a-copy\n",
      "  df2_selected['Width (mm)'] = df2_selected['Width (mm)'].astype('float64')\n",
      "C:\\Users\\kaleem\\AppData\\Local\\Temp\\ipykernel_6916\\667963461.py:9: SettingWithCopyWarning: \n",
      "A value is trying to be set on a copy of a slice from a DataFrame.\n",
      "Try using .loc[row_indexer,col_indexer] = value instead\n",
      "\n",
      "See the caveats in the documentation: https://pandas.pydata.org/pandas-docs/stable/user_guide/indexing.html#returning-a-view-versus-a-copy\n",
      "  df2_selected['Weight (kg)'] = df2_selected['Weight (kg)'].astype('float64')\n"
     ]
    }
   ],
   "source": [
    "# Convert columns in df1_selected to float64\n",
    "df1_selected['Thickness (mm)'] = df1_selected['Thickness (mm)'].astype('float64')\n",
    "df1_selected['Width (mm)'] = df1_selected['Width (mm)'].astype('float64')\n",
    "df1_selected['Weight (kg)'] = df1_selected['Weight (kg)'].astype('float64')\n",
    "\n",
    "# Convert columns in df2_selected to float64\n",
    "df2_selected['Thickness (mm)'] = df2_selected['Thickness (mm)'].astype('float64')\n",
    "df2_selected['Width (mm)'] = df2_selected['Width (mm)'].astype('float64')\n",
    "df2_selected['Weight (kg)'] = df2_selected['Weight (kg)'].astype('float64')\n",
    "\n",
    "# Check if the data types have been correctly updated\n",
    "print(df1_selected.dtypes)\n",
    "print(df2_selected.dtypes)"
   ]
  },
  {
   "cell_type": "markdown",
   "id": "3e74608e-ea19-490f-a1b5-f6bb91ea96d2",
   "metadata": {},
   "source": [
    "### Outer Join\n",
    "##### to merge the datasets based on similar consistent columns."
   ]
  },
  {
   "cell_type": "code",
   "execution_count": 277,
   "id": "306f9b1a-79c9-4e31-8724-9adc43d41495",
   "metadata": {},
   "outputs": [
    {
     "name": "stdout",
     "output_type": "stream",
     "text": [
      "  Grade  Thickness (mm)  Width (mm)  Weight (kg) PRODUCT_TYPE Material Name  \\\n",
      "0   NaN           0.640      1421.0       3080.0   COIL_STRIP           CR3   \n",
      "1   NaN           0.652      1170.0       7031.0   COIL_STRIP          DC06   \n",
      "2   NaN           0.656      1450.0       2241.0   COIL_STRIP         DX54D   \n",
      "3   NaN           0.656      1513.0       5880.0   COIL_STRIP         DX53D   \n",
      "4   NaN           0.659      1451.0       5882.0   COIL_STRIP       HCT780X   \n",
      "\n",
      "   Material ID  Price (EUR/ton)          Validity  \n",
      "0       1.0914       618.461538  2025-02-21 11:00  \n",
      "1       1.0873       600.000000  2025-02-20 11:00  \n",
      "2       1.0306       618.461538  2025-02-21 11:00  \n",
      "3       1.0355       618.461538  2025-02-21 11:00  \n",
      "4       1.0914       618.461538  2025-02-20 16:00  \n"
     ]
    }
   ],
   "source": [
    "# Perform the merge\n",
    "merged_df = pd.merge(df1_selected, df2_selected, \n",
    "                     how='outer', \n",
    "                     on=['Thickness (mm)', 'Width (mm)', 'Weight (kg)'])\n",
    "\n",
    "# Check the resulting merged dataframe\n",
    "print(merged_df.head())"
   ]
  },
  {
   "cell_type": "markdown",
   "id": "5d7ac02b-f9ff-424b-9f2f-923132782869",
   "metadata": {},
   "source": [
    "### Data Exploration"
   ]
  },
  {
   "cell_type": "code",
   "execution_count": 324,
   "id": "cf9f46db-ffe8-43c0-87b0-a58593544dcb",
   "metadata": {},
   "outputs": [
    {
     "data": {
      "text/plain": [
       "Grade              0\n",
       "Thickness (mm)     0\n",
       "Width (mm)         0\n",
       "Weight (kg)        0\n",
       "PRODUCT_TYPE       0\n",
       "Material Name      0\n",
       "Material ID        0\n",
       "Price (EUR/ton)    0\n",
       "Validity           0\n",
       "dtype: int64"
      ]
     },
     "execution_count": 324,
     "metadata": {},
     "output_type": "execute_result"
    }
   ],
   "source": [
    "merged_df.isnull().sum()"
   ]
  },
  {
   "cell_type": "code",
   "execution_count": 325,
   "id": "d6ea4b93-c854-41eb-8272-c5057cf07586",
   "metadata": {},
   "outputs": [
    {
     "data": {
      "text/html": [
       "<div>\n",
       "<style scoped>\n",
       "    .dataframe tbody tr th:only-of-type {\n",
       "        vertical-align: middle;\n",
       "    }\n",
       "\n",
       "    .dataframe tbody tr th {\n",
       "        vertical-align: top;\n",
       "    }\n",
       "\n",
       "    .dataframe thead th {\n",
       "        text-align: right;\n",
       "    }\n",
       "</style>\n",
       "<table border=\"1\" class=\"dataframe\">\n",
       "  <thead>\n",
       "    <tr style=\"text-align: right;\">\n",
       "      <th></th>\n",
       "      <th>Grade</th>\n",
       "      <th>Thickness (mm)</th>\n",
       "      <th>Width (mm)</th>\n",
       "      <th>Weight (kg)</th>\n",
       "      <th>PRODUCT_TYPE</th>\n",
       "      <th>Material Name</th>\n",
       "      <th>Material ID</th>\n",
       "      <th>Price (EUR/ton)</th>\n",
       "      <th>Validity</th>\n",
       "    </tr>\n",
       "  </thead>\n",
       "  <tbody>\n",
       "    <tr>\n",
       "      <th>0</th>\n",
       "      <td>Others</td>\n",
       "      <td>0.640</td>\n",
       "      <td>1421.0</td>\n",
       "      <td>3080.0</td>\n",
       "      <td>COIL_STRIP</td>\n",
       "      <td>CR3</td>\n",
       "      <td>1.0914</td>\n",
       "      <td>618.461538</td>\n",
       "      <td>2025-02-21 11:00</td>\n",
       "    </tr>\n",
       "    <tr>\n",
       "      <th>1</th>\n",
       "      <td>Others</td>\n",
       "      <td>0.652</td>\n",
       "      <td>1170.0</td>\n",
       "      <td>7031.0</td>\n",
       "      <td>COIL_STRIP</td>\n",
       "      <td>DC06</td>\n",
       "      <td>1.0873</td>\n",
       "      <td>600.0</td>\n",
       "      <td>2025-02-20 11:00</td>\n",
       "    </tr>\n",
       "    <tr>\n",
       "      <th>2</th>\n",
       "      <td>Others</td>\n",
       "      <td>0.656</td>\n",
       "      <td>1450.0</td>\n",
       "      <td>2241.0</td>\n",
       "      <td>COIL_STRIP</td>\n",
       "      <td>DX54D</td>\n",
       "      <td>1.0306</td>\n",
       "      <td>618.461538</td>\n",
       "      <td>2025-02-21 11:00</td>\n",
       "    </tr>\n",
       "    <tr>\n",
       "      <th>3</th>\n",
       "      <td>Others</td>\n",
       "      <td>0.656</td>\n",
       "      <td>1513.0</td>\n",
       "      <td>5880.0</td>\n",
       "      <td>COIL_STRIP</td>\n",
       "      <td>DX53D</td>\n",
       "      <td>1.0355</td>\n",
       "      <td>618.461538</td>\n",
       "      <td>2025-02-21 11:00</td>\n",
       "    </tr>\n",
       "    <tr>\n",
       "      <th>4</th>\n",
       "      <td>Others</td>\n",
       "      <td>0.659</td>\n",
       "      <td>1451.0</td>\n",
       "      <td>5882.0</td>\n",
       "      <td>COIL_STRIP</td>\n",
       "      <td>HCT780X</td>\n",
       "      <td>1.0914</td>\n",
       "      <td>618.461538</td>\n",
       "      <td>2025-02-20 16:00</td>\n",
       "    </tr>\n",
       "  </tbody>\n",
       "</table>\n",
       "</div>"
      ],
      "text/plain": [
       "    Grade  Thickness (mm)  Width (mm)  Weight (kg) PRODUCT_TYPE Material Name  \\\n",
       "0  Others           0.640      1421.0       3080.0   COIL_STRIP           CR3   \n",
       "1  Others           0.652      1170.0       7031.0   COIL_STRIP          DC06   \n",
       "2  Others           0.656      1450.0       2241.0   COIL_STRIP         DX54D   \n",
       "3  Others           0.656      1513.0       5880.0   COIL_STRIP         DX53D   \n",
       "4  Others           0.659      1451.0       5882.0   COIL_STRIP       HCT780X   \n",
       "\n",
       "  Material ID Price (EUR/ton)          Validity  \n",
       "0      1.0914      618.461538  2025-02-21 11:00  \n",
       "1      1.0873           600.0  2025-02-20 11:00  \n",
       "2      1.0306      618.461538  2025-02-21 11:00  \n",
       "3      1.0355      618.461538  2025-02-21 11:00  \n",
       "4      1.0914      618.461538  2025-02-20 16:00  "
      ]
     },
     "execution_count": 325,
     "metadata": {},
     "output_type": "execute_result"
    }
   ],
   "source": [
    "merged_df.head(5)"
   ]
  },
  {
   "cell_type": "code",
   "execution_count": 280,
   "id": "7f42067c-5fbb-4b5e-94f3-a293c70a4935",
   "metadata": {},
   "outputs": [
    {
     "name": "stdout",
     "output_type": "stream",
     "text": [
      "<class 'pandas.core.frame.DataFrame'>\n",
      "RangeIndex: 222 entries, 0 to 221\n",
      "Data columns (total 9 columns):\n",
      " #   Column           Non-Null Count  Dtype  \n",
      "---  ------           --------------  -----  \n",
      " 0   Grade            86 non-null     object \n",
      " 1   Thickness (mm)   222 non-null    float64\n",
      " 2   Width (mm)       222 non-null    float64\n",
      " 3   Weight (kg)      222 non-null    float64\n",
      " 4   PRODUCT_TYPE     136 non-null    object \n",
      " 5   Material Name    136 non-null    object \n",
      " 6   Material ID      136 non-null    float64\n",
      " 7   Price (EUR/ton)  136 non-null    float64\n",
      " 8   Validity         136 non-null    object \n",
      "dtypes: float64(5), object(4)\n",
      "memory usage: 15.7+ KB\n"
     ]
    }
   ],
   "source": [
    "merged_df.info()"
   ]
  },
  {
   "cell_type": "code",
   "execution_count": 287,
   "id": "8f5f3307-5352-4d63-a4dd-46ed2d55a281",
   "metadata": {},
   "outputs": [
    {
     "data": {
      "text/plain": [
       "array([[0.64, 1421.0, 3080.0, 'COIL_STRIP'],\n",
       "       [0.652, 1170.0, 7031.0, 'COIL_STRIP'],\n",
       "       [0.656, 1450.0, 2241.0, 'COIL_STRIP'],\n",
       "       [0.656, 1513.0, 5880.0, 'COIL_STRIP'],\n",
       "       [0.659, 1451.0, 5882.0, 'COIL_STRIP']], dtype=object)"
      ]
     },
     "execution_count": 287,
     "metadata": {},
     "output_type": "execute_result"
    }
   ],
   "source": [
    "merged_df[[\"Thickness (mm)\", \"Width (mm)\", \"Weight (kg)\", \"PRODUCT_TYPE\"]].values[:5]"
   ]
  },
  {
   "cell_type": "markdown",
   "id": "f846df30-926f-4858-8f98-88e8a69c45fd",
   "metadata": {},
   "source": [
    "Again, based on similar values from another column, impputing the values for column 'Grade'."
   ]
  },
  {
   "cell_type": "code",
   "execution_count": 282,
   "id": "22533472-f829-4793-b2e7-e3927d5e1e68",
   "metadata": {},
   "outputs": [],
   "source": [
    "merged_df['Grade'] = merged_df.groupby('Thickness (mm)')['Grade'].transform(lambda x: x.mode()[0] if x.mode().size > 0 else 'Others')"
   ]
  },
  {
   "cell_type": "code",
   "execution_count": 283,
   "id": "38f1b908-910f-4f0e-beb4-8e50290c8cc4",
   "metadata": {},
   "outputs": [
    {
     "data": {
      "text/plain": [
       "Grade\n",
       "Others             153\n",
       "42CrMo4              9\n",
       "HR660Y760T-CP        8\n",
       "SZBS800              8\n",
       "DBL 4525.30          7\n",
       "C2WS8                4\n",
       "2A Lager             4\n",
       "50CrMo4              3\n",
       "CR210BH              2\n",
       "D7G                  2\n",
       "58CrV4               2\n",
       "DP600-MW06           2\n",
       "S380MC mod. 4        2\n",
       "LICRO 500            2\n",
       "51CrV4               2\n",
       "CS Type B            1\n",
       "HC460LA              1\n",
       "CR440Y780T-DP        1\n",
       "RobuSal®800          1\n",
       "SZBE800              1\n",
       "HX180YD              1\n",
       "SZBS800xpand®50      1\n",
       "CR330Y590T-DP        1\n",
       "Grade D6A            1\n",
       "CR340LA              1\n",
       "CR300LA              1\n",
       "G1BX5                1\n",
       "Name: count, dtype: int64"
      ]
     },
     "execution_count": 283,
     "metadata": {},
     "output_type": "execute_result"
    }
   ],
   "source": [
    "merged_df[\"Grade\"].value_counts()"
   ]
  },
  {
   "cell_type": "code",
   "execution_count": 290,
   "id": "0244d025-518d-4e6c-b107-aaa4661adea3",
   "metadata": {},
   "outputs": [
    {
     "name": "stdout",
     "output_type": "stream",
     "text": [
      "Grade              0\n",
      "Thickness (mm)     0\n",
      "Width (mm)         0\n",
      "Weight (kg)        0\n",
      "PRODUCT_TYPE       0\n",
      "Material Name      0\n",
      "Material ID        0\n",
      "Price (EUR/ton)    0\n",
      "Validity           0\n",
      "dtype: int64\n"
     ]
    }
   ],
   "source": [
    "# Impute missing values for the specified columns by using the most frequent value within each group\n",
    "columns_to_impute = ['PRODUCT_TYPE', 'Material Name', 'Material ID', 'Price (EUR/ton)', 'Validity']\n",
    "\n",
    "for column in columns_to_impute:\n",
    "    # Use transform() to ensure the result has the same index as the original DataFrame\n",
    "    merged_df[column] = merged_df.groupby(['Thickness (mm)', 'Width (mm)', 'Weight (kg)'])[column].transform(\n",
    "        lambda x: x.fillna(x.mode()[0] if not x.mode().empty else 'Unknown') \n",
    "    )\n",
    "\n",
    "# Check the resulting merged dataframe to confirm imputation\n",
    "print(merged_df.isnull().sum())"
   ]
  },
  {
   "cell_type": "code",
   "execution_count": 291,
   "id": "fc648073-8598-475c-ad23-d7410ed7e547",
   "metadata": {},
   "outputs": [
    {
     "data": {
      "text/html": [
       "<div>\n",
       "<style scoped>\n",
       "    .dataframe tbody tr th:only-of-type {\n",
       "        vertical-align: middle;\n",
       "    }\n",
       "\n",
       "    .dataframe tbody tr th {\n",
       "        vertical-align: top;\n",
       "    }\n",
       "\n",
       "    .dataframe thead th {\n",
       "        text-align: right;\n",
       "    }\n",
       "</style>\n",
       "<table border=\"1\" class=\"dataframe\">\n",
       "  <thead>\n",
       "    <tr style=\"text-align: right;\">\n",
       "      <th></th>\n",
       "      <th>Grade</th>\n",
       "      <th>Thickness (mm)</th>\n",
       "      <th>Width (mm)</th>\n",
       "      <th>Weight (kg)</th>\n",
       "      <th>PRODUCT_TYPE</th>\n",
       "      <th>Material Name</th>\n",
       "      <th>Material ID</th>\n",
       "      <th>Price (EUR/ton)</th>\n",
       "      <th>Validity</th>\n",
       "    </tr>\n",
       "  </thead>\n",
       "  <tbody>\n",
       "    <tr>\n",
       "      <th>0</th>\n",
       "      <td>Others</td>\n",
       "      <td>0.640</td>\n",
       "      <td>1421.0</td>\n",
       "      <td>3080.0</td>\n",
       "      <td>COIL_STRIP</td>\n",
       "      <td>CR3</td>\n",
       "      <td>1.0914</td>\n",
       "      <td>618.461538</td>\n",
       "      <td>2025-02-21 11:00</td>\n",
       "    </tr>\n",
       "    <tr>\n",
       "      <th>1</th>\n",
       "      <td>Others</td>\n",
       "      <td>0.652</td>\n",
       "      <td>1170.0</td>\n",
       "      <td>7031.0</td>\n",
       "      <td>COIL_STRIP</td>\n",
       "      <td>DC06</td>\n",
       "      <td>1.0873</td>\n",
       "      <td>600.0</td>\n",
       "      <td>2025-02-20 11:00</td>\n",
       "    </tr>\n",
       "    <tr>\n",
       "      <th>2</th>\n",
       "      <td>Others</td>\n",
       "      <td>0.656</td>\n",
       "      <td>1450.0</td>\n",
       "      <td>2241.0</td>\n",
       "      <td>COIL_STRIP</td>\n",
       "      <td>DX54D</td>\n",
       "      <td>1.0306</td>\n",
       "      <td>618.461538</td>\n",
       "      <td>2025-02-21 11:00</td>\n",
       "    </tr>\n",
       "    <tr>\n",
       "      <th>3</th>\n",
       "      <td>Others</td>\n",
       "      <td>0.656</td>\n",
       "      <td>1513.0</td>\n",
       "      <td>5880.0</td>\n",
       "      <td>COIL_STRIP</td>\n",
       "      <td>DX53D</td>\n",
       "      <td>1.0355</td>\n",
       "      <td>618.461538</td>\n",
       "      <td>2025-02-21 11:00</td>\n",
       "    </tr>\n",
       "    <tr>\n",
       "      <th>4</th>\n",
       "      <td>Others</td>\n",
       "      <td>0.659</td>\n",
       "      <td>1451.0</td>\n",
       "      <td>5882.0</td>\n",
       "      <td>COIL_STRIP</td>\n",
       "      <td>HCT780X</td>\n",
       "      <td>1.0914</td>\n",
       "      <td>618.461538</td>\n",
       "      <td>2025-02-20 16:00</td>\n",
       "    </tr>\n",
       "  </tbody>\n",
       "</table>\n",
       "</div>"
      ],
      "text/plain": [
       "    Grade  Thickness (mm)  Width (mm)  Weight (kg) PRODUCT_TYPE Material Name  \\\n",
       "0  Others           0.640      1421.0       3080.0   COIL_STRIP           CR3   \n",
       "1  Others           0.652      1170.0       7031.0   COIL_STRIP          DC06   \n",
       "2  Others           0.656      1450.0       2241.0   COIL_STRIP         DX54D   \n",
       "3  Others           0.656      1513.0       5880.0   COIL_STRIP         DX53D   \n",
       "4  Others           0.659      1451.0       5882.0   COIL_STRIP       HCT780X   \n",
       "\n",
       "  Material ID Price (EUR/ton)          Validity  \n",
       "0      1.0914      618.461538  2025-02-21 11:00  \n",
       "1      1.0873           600.0  2025-02-20 11:00  \n",
       "2      1.0306      618.461538  2025-02-21 11:00  \n",
       "3      1.0355      618.461538  2025-02-21 11:00  \n",
       "4      1.0914      618.461538  2025-02-20 16:00  "
      ]
     },
     "execution_count": 291,
     "metadata": {},
     "output_type": "execute_result"
    }
   ],
   "source": [
    "merged_df.head()"
   ]
  },
  {
   "cell_type": "code",
   "execution_count": null,
   "id": "1db6124f-344c-44b3-858c-c1996ce63c3f",
   "metadata": {},
   "outputs": [],
   "source": [
    "merged_df.to_csv(\"full_inventory.csv\", index = False)     # to save the dataset."
   ]
  },
  {
   "cell_type": "code",
   "execution_count": null,
   "id": "c5c9e2ae-62ae-4f40-873e-c5521218e2bb",
   "metadata": {},
   "outputs": [],
   "source": []
  }
 ],
 "metadata": {
  "kernelspec": {
   "display_name": "Python 3 (ipykernel)",
   "language": "python",
   "name": "python3"
  },
  "language_info": {
   "codemirror_mode": {
    "name": "ipython",
    "version": 3
   },
   "file_extension": ".py",
   "mimetype": "text/x-python",
   "name": "python",
   "nbconvert_exporter": "python",
   "pygments_lexer": "ipython3",
   "version": "3.11.0"
  }
 },
 "nbformat": 4,
 "nbformat_minor": 5
}
